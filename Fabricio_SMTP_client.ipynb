{
 "cells": [
  {
   "cell_type": "markdown",
   "metadata": {
    "colab_type": "text",
    "id": "_Gv12dl8Kt5M"
   },
   "source": [
    "# SMTP\n",
    "Exemplo de aplicação com envio de e-mails utilizando o protocolo SMTP.\n",
    "\n",
    "A atividade é divida em diversas partes, com a definição de variáveis que compõem o e-mail e o código que realiza seu envio."
   ]
  },
  {
   "cell_type": "markdown",
   "metadata": {
    "colab_type": "text",
    "id": "o3Mw8oN4Kt5N"
   },
   "source": [
    "## Bibliotecas\n",
    "```python\n",
    "from smtplib import SMTP_SSL as SMTP\n",
    "from email.mime.text import MIMEText \n",
    "```"
   ]
  },
  {
   "cell_type": "code",
   "execution_count": 2,
   "metadata": {
    "colab": {},
    "colab_type": "code",
    "id": "xr4oGd8XKt5O"
   },
   "outputs": [],
   "source": [
    "from smtplib import SMTP_SSL as SMTP\n",
    "from email.mime.text import MIMEText "
   ]
  },
  {
   "cell_type": "markdown",
   "metadata": {
    "colab_type": "text",
    "id": "MyCshbFrKt5R"
   },
   "source": [
    "## Configurações da conexão ao servidor SMTP\n",
    "Informações sobre a conexão ao servidor de e-mail, que será responsável por enviar o e-mail ao destinatário.\n",
    "\n",
    "Alguns servidores (Yahoo, p.ex.) requerem que uma senha específica seja utilizada para o smtp. Neste caso, é necessário entrar nas configurações da plataforma em questão e solicitar uma senha específica para a aplicação.\n",
    "\n",
    "```python\n",
    "SMTPServer = '' #endereço do servidor smtp\n",
    "textoSubtipo='plain'\n",
    "usuario='' #usuário login do servidor smtp\n",
    "senha='' #senha do serviço smtp\n",
    "```"
   ]
  },
  {
   "cell_type": "code",
   "execution_count": 8,
   "metadata": {
    "colab": {},
    "colab_type": "code",
    "id": "pPyAnG6rKt5S"
   },
   "outputs": [],
   "source": [
    "SMTPServer = 'smtp.gmail.com' #endereço do servidor smtp\n",
    "textoSubtipo='plain'\n",
    "usuario='fabriciomfernandes@gmail.com' #usuário login do servidor smtp\n",
    "senha='' #senha do serviço smtp"
   ]
  },
  {
   "cell_type": "markdown",
   "metadata": {
    "colab_type": "text",
    "id": "ljGgRBIvKt5V"
   },
   "source": [
    "## Informações do e-mail\n",
    "É necessário informar qual é o rementente (e-mail de quem está **enviando** o e-mail) e também os destinatários do e-mail.\n",
    "```python\n",
    "remetente = '' #endereço de e-mail do remetente\n",
    "destinatarios = [''] #lista com endereços de e-mail dos destinatários\n",
    "```"
   ]
  },
  {
   "cell_type": "markdown",
   "metadata": {
    "colab_type": "text",
    "id": "3JQFDyH4Kt5Z"
   },
   "source": [
    "## Título e corpo do e-mail\n",
    "Informações referentes ao e-mail em si. \n",
    "```python\n",
    "titulo='Teste de e-mail'\n",
    "corpo = \"\"\"\\\n",
    "Este é o corpo do e-mail.\n",
    "\"\"\"\n",
    "```"
   ]
  },
  {
   "cell_type": "markdown",
   "metadata": {
    "colab_type": "text",
    "id": "Wnoyh9qxKt5d"
   },
   "source": [
    "## Configuração da mensagem\n",
    "Utilizando as variáveis definidas previamente, é necessário montar uma mensagem MIME contendo essas informações.\n",
    "```python\n",
    "msg = MIMEText(corpo, textoSubtipo)\n",
    "msg['subject'] = titulo\n",
    "msg['from'] = remetente\n",
    "print(msg)\n",
    "```"
   ]
  },
  {
   "cell_type": "markdown",
   "metadata": {
    "colab_type": "text",
    "id": "T49uU24nKt5g"
   },
   "source": [
    "## Conexão ao servidor e envio do e-mail\n",
    "\n",
    "\n",
    "\n",
    "\n",
    "```python\n",
    "try:\n",
    "    #Conecta ao servidor\n",
    "    conn = SMTP(SMTPServer)\n",
    "    \n",
    "    #Ativa o debug, para mostrar mensagens\n",
    "    conn.set_debuglevel(True)\n",
    "    \n",
    "    #Conecta ao servidor smtp, passando login e senha\n",
    "    conn.login(usuario,senha)\n",
    "    \n",
    "    try:\n",
    "        print('Enviando e-mail...')\n",
    "        conn.sendmail(remetente, destinatarios, msg.as_string())\n",
    "        \n",
    "    finally:\n",
    "        print('Finalizando conexão...')\n",
    "        conn.quit()\n",
    "except:\n",
    "    print('Erro ao enviar e-mail')\n",
    "\n",
    "print('Fim.')\n",
    "```"
   ]
  },
  {
   "cell_type": "markdown",
   "metadata": {
    "colab_type": "text",
    "id": "2mPI-qSjKt5k"
   },
   "source": [
    "### Atividades\n",
    "1. Envie um e-mail para alguma caixa de e-mail em um serviço de recebimento de e-mails público, como o [Mailinator](www.mailinator.com), por exemplo.\n",
    "1. Implemente um programa que peça ao usuário que digite o conteúdo do e-mail a ser enviado e o destinatário.\n",
    "1. Envie um mesmo e-mail para mais que um destinatário.\n",
    "1. Envie dois e-mails de uma única vez, manipulando o conteúdo da mensagem. Utilize um contador, por exemplo.\n",
    "1. O quê deveria ser feito para enviar e-mails com CC e BCC (*Carbom Copy* e *Black Carbon Copy*)?\n",
    "1. Desenvolva um sistema simples, que envia por e-mail resultados de alguma operação realizada.\n",
    "1. Observe que o campo `Remetente` é utilizado no MIME e também em `sendmail()`. O que ocorre se valores diferentes forem utilizados? Experimente e explique o resultado."
   ]
  },
  {
   "cell_type": "markdown",
   "metadata": {
    "colab_type": "text",
    "id": "gqlakxTMY1E5"
   },
   "source": [
    "1. Envie um e-mail para alguma caixa de e-mail em um serviço de recebimento de e-mails público, como o [Mailinator](www.mailinator.com), por exemplo."
   ]
  },
  {
   "cell_type": "code",
   "execution_count": 3,
   "metadata": {
    "colab": {},
    "colab_type": "code",
    "id": "eMKn5D2nGtdq"
   },
   "outputs": [],
   "source": [
    "remetente = 'fabriciomfernandes@gmail.com' #endereço de e-mail do remetente\n",
    "destinatarios = ['faskt8@gmail.com'] #lista com endereços de e-mail dos destinatários"
   ]
  },
  {
   "cell_type": "code",
   "execution_count": 4,
   "metadata": {
    "colab": {},
    "colab_type": "code",
    "id": "G9mkuzXKG2UE"
   },
   "outputs": [],
   "source": [
    "titulo='Teste de e-mail'\n",
    "corpo = \"\"\"\\\n",
    "Este é o corpo do e-mail.\n",
    "\"\"\""
   ]
  },
  {
   "cell_type": "code",
   "execution_count": 5,
   "metadata": {
    "colab": {},
    "colab_type": "code",
    "id": "rf6wS1GlG9yt"
   },
   "outputs": [
    {
     "ename": "NameError",
     "evalue": "name 'textoSubtipo' is not defined",
     "output_type": "error",
     "traceback": [
      "\u001b[0;31m---------------------------------------------------------------------------\u001b[0m",
      "\u001b[0;31mNameError\u001b[0m                                 Traceback (most recent call last)",
      "\u001b[0;32m<ipython-input-5-4d7f81678396>\u001b[0m in \u001b[0;36m<module>\u001b[0;34m\u001b[0m\n\u001b[0;32m----> 1\u001b[0;31m \u001b[0mmsg\u001b[0m \u001b[0;34m=\u001b[0m \u001b[0mMIMEText\u001b[0m\u001b[0;34m(\u001b[0m\u001b[0mcorpo\u001b[0m\u001b[0;34m,\u001b[0m \u001b[0mtextoSubtipo\u001b[0m\u001b[0;34m)\u001b[0m\u001b[0;34m\u001b[0m\u001b[0;34m\u001b[0m\u001b[0m\n\u001b[0m\u001b[1;32m      2\u001b[0m \u001b[0mmsg\u001b[0m\u001b[0;34m[\u001b[0m\u001b[0;34m'subject'\u001b[0m\u001b[0;34m]\u001b[0m \u001b[0;34m=\u001b[0m \u001b[0mtitulo\u001b[0m\u001b[0;34m\u001b[0m\u001b[0;34m\u001b[0m\u001b[0m\n\u001b[1;32m      3\u001b[0m \u001b[0mmsg\u001b[0m\u001b[0;34m[\u001b[0m\u001b[0;34m'from'\u001b[0m\u001b[0;34m]\u001b[0m \u001b[0;34m=\u001b[0m \u001b[0mremetente\u001b[0m\u001b[0;34m\u001b[0m\u001b[0;34m\u001b[0m\u001b[0m\n\u001b[1;32m      4\u001b[0m \u001b[0mprint\u001b[0m\u001b[0;34m(\u001b[0m\u001b[0mmsg\u001b[0m\u001b[0;34m)\u001b[0m\u001b[0;34m\u001b[0m\u001b[0;34m\u001b[0m\u001b[0m\n",
      "\u001b[0;31mNameError\u001b[0m: name 'textoSubtipo' is not defined"
     ]
    }
   ],
   "source": [
    "msg = MIMEText(corpo, textoSubtipo)\n",
    "msg['subject'] = titulo\n",
    "msg['from'] = remetente\n",
    "print(msg)"
   ]
  },
  {
   "cell_type": "code",
   "execution_count": 6,
   "metadata": {
    "colab": {},
    "colab_type": "code",
    "id": "bpQt_J-DHCQW"
   },
   "outputs": [
    {
     "name": "stdout",
     "output_type": "stream",
     "text": [
      "Erro ao enviar e-mail\n",
      "Fim.\n"
     ]
    }
   ],
   "source": [
    "try:\n",
    "    #Conecta ao servidor\n",
    "    conn = SMTP(SMTPServer)\n",
    " \n",
    "    #Ativa o debug, para mostrar mensagens\n",
    "    conn.set_debuglevel(True)\n",
    " \n",
    "    #Conecta ao servidor smtp, passando login e senha\n",
    "    conn.login(usuario,senha)\n",
    " \n",
    "    try:\n",
    "        print('Enviando e-mail...')\n",
    "        conn.sendmail(remetente, destinatarios, msg.as_string())\n",
    " \n",
    "    finally:\n",
    "        print('Finalizando conexão...')\n",
    "        conn.quit()\n",
    "except:\n",
    "    print('Erro ao enviar e-mail')\n",
    " \n",
    "print('Fim.')"
   ]
  },
  {
   "cell_type": "markdown",
   "metadata": {
    "colab_type": "text",
    "id": "Qh6N9l_I85Wi"
   },
   "source": [
    "\n",
    "\n",
    "---\n"
   ]
  },
  {
   "cell_type": "markdown",
   "metadata": {
    "colab_type": "text",
    "id": "kAO_iBm0Y5XG"
   },
   "source": [
    "2. Implemente um programa que peça ao usuário que digite o conteúdo do e-mail a ser enviado e o destinatário."
   ]
  },
  {
   "cell_type": "code",
   "execution_count": 9,
   "metadata": {
    "colab": {
     "base_uri": "https://localhost:8080/",
     "height": 187
    },
    "colab_type": "code",
    "executionInfo": {
     "elapsed": 50967,
     "status": "ok",
     "timestamp": 1592677623933,
     "user": {
      "displayName": "José Vinícius S. Barboza",
      "photoUrl": "",
      "userId": "14879123349351999351"
     },
     "user_tz": 180
    },
    "id": "XtstyOxV7yDb",
    "outputId": "43dad0e6-6eac-4ee6-bb36-0231d7be7504"
   },
   "outputs": [
    {
     "name": "stdout",
     "output_type": "stream",
     "text": [
      "Insira o título do seu email: teste\n",
      "Insira o conteúdo do seu email: teste\n",
      "Content-Type: text/plain; charset=\"us-ascii\"\n",
      "MIME-Version: 1.0\n",
      "Content-Transfer-Encoding: 7bit\n",
      "subject: teste\n",
      "from: fabriciomfernandes@gmail.com\n",
      "\n",
      "teste\n"
     ]
    }
   ],
   "source": [
    "tituloEmail= input(\"Insira o título do seu email: \")\n",
    "corpoEmail = input(\"Insira o conteúdo do seu email: \")\n",
    "msg = MIMEText(corpoEmail, textoSubtipo)\n",
    "msg['subject'] = tituloEmail\n",
    "msg['from'] = remetente\n",
    "print(msg)"
   ]
  },
  {
   "cell_type": "markdown",
   "metadata": {
    "colab_type": "text",
    "id": "epdUyGFx_J6N"
   },
   "source": [
    "Conexão ao servidor e envio do e-mail"
   ]
  },
  {
   "cell_type": "code",
   "execution_count": null,
   "metadata": {
    "colab": {
     "base_uri": "https://localhost:8080/",
     "height": 629
    },
    "colab_type": "code",
    "executionInfo": {
     "elapsed": 2098,
     "status": "ok",
     "timestamp": 1592678229866,
     "user": {
      "displayName": "José Vinícius S. Barboza",
      "photoUrl": "",
      "userId": "14879123349351999351"
     },
     "user_tz": 180
    },
    "id": "IbmTBEjg807a",
    "outputId": "dca852e0-5cf8-4276-9fa2-471722d4bce2"
   },
   "outputs": [
    {
     "name": "stderr",
     "output_type": "stream",
     "text": [
      "send: 'ehlo [172.28.0.2]\\r\\n'\n",
      "reply: b'250-smtp.gmail.com at your service, [35.204.107.125]\\r\\n'\n",
      "reply: b'250-SIZE 35882577\\r\\n'\n",
      "reply: b'250-8BITMIME\\r\\n'\n",
      "reply: b'250-AUTH LOGIN PLAIN XOAUTH2 PLAIN-CLIENTTOKEN OAUTHBEARER XOAUTH\\r\\n'\n",
      "reply: b'250-ENHANCEDSTATUSCODES\\r\\n'\n",
      "reply: b'250-PIPELINING\\r\\n'\n",
      "reply: b'250-CHUNKING\\r\\n'\n",
      "reply: b'250 SMTPUTF8\\r\\n'\n",
      "reply: retcode (250); Msg: b'smtp.gmail.com at your service, [35.204.107.125]\\nSIZE 35882577\\n8BITMIME\\nAUTH LOGIN PLAIN XOAUTH2 PLAIN-CLIENTTOKEN OAUTHBEARER XOAUTH\\nENHANCEDSTATUSCODES\\nPIPELINING\\nCHUNKING\\nSMTPUTF8'\n",
      "send: 'AUTH PLAIN AGp2c2JhcmJvemFAZ21haWwuY29tACFJbnRlbENvcmVJNyM=\\r\\n'\n",
      "reply: b'235 2.7.0 Accepted\\r\\n'\n",
      "reply: retcode (235); Msg: b'2.7.0 Accepted'\n",
      "send: 'mail FROM:<jvsbrboza@gmail.com> size=152\\r\\n'\n",
      "reply: b'250 2.1.0 OK a25sm2800669eds.77 - gsmtp\\r\\n'\n",
      "reply: retcode (250); Msg: b'2.1.0 OK a25sm2800669eds.77 - gsmtp'\n",
      "send: 'rcpt TO:<smtpteste@mailinator.com>\\r\\n'\n",
      "reply: b'250 2.1.5 OK a25sm2800669eds.77 - gsmtp\\r\\n'\n",
      "reply: retcode (250); Msg: b'2.1.5 OK a25sm2800669eds.77 - gsmtp'\n",
      "send: 'rcpt TO:<jvsbarboza@gmail.com>\\r\\n'\n",
      "reply: b'250 2.1.5 OK a25sm2800669eds.77 - gsmtp\\r\\n'\n",
      "reply: retcode (250); Msg: b'2.1.5 OK a25sm2800669eds.77 - gsmtp'\n",
      "send: 'data\\r\\n'\n",
      "reply: b'354  Go ahead a25sm2800669eds.77 - gsmtp\\r\\n'\n",
      "reply: retcode (354); Msg: b'Go ahead a25sm2800669eds.77 - gsmtp'\n",
      "data: (354, b'Go ahead a25sm2800669eds.77 - gsmtp')\n",
      "send: b'Content-Type: text/plain; charset=\"us-ascii\"\\r\\nMIME-Version: 1.0\\r\\nContent-Transfer-Encoding: 7bit\\r\\nsubject: teste 3\\r\\nfrom: jvsbrboza@gmail.com\\r\\n\\r\\nteste33\\r\\n.\\r\\n'\n"
     ]
    },
    {
     "name": "stdout",
     "output_type": "stream",
     "text": [
      "Enviando e-mail...\n",
      "Finalizando conexão...\n",
      "Fim.\n"
     ]
    },
    {
     "name": "stderr",
     "output_type": "stream",
     "text": [
      "reply: b'250 2.0.0 OK  1592678229 a25sm2800669eds.77 - gsmtp\\r\\n'\n",
      "reply: retcode (250); Msg: b'2.0.0 OK  1592678229 a25sm2800669eds.77 - gsmtp'\n",
      "data: (250, b'2.0.0 OK  1592678229 a25sm2800669eds.77 - gsmtp')\n",
      "send: 'quit\\r\\n'\n",
      "reply: b'221 2.0.0 closing connection a25sm2800669eds.77 - gsmtp\\r\\n'\n",
      "reply: retcode (221); Msg: b'2.0.0 closing connection a25sm2800669eds.77 - gsmtp'\n"
     ]
    }
   ],
   "source": [
    "try:\n",
    "    #Conecta ao servidor\n",
    "    conn = SMTP(SMTPServer)\n",
    " \n",
    "    #Ativa o debug, para mostrar mensagens\n",
    "    conn.set_debuglevel(True)\n",
    " \n",
    "    #Conecta ao servidor smtp, passando login e senha\n",
    "    conn.login(usuario,senha)\n",
    " \n",
    "    try:\n",
    "        print('Enviando e-mail...')\n",
    "        conn.sendmail(remetente, destinatarios, msg.as_string())\n",
    " \n",
    "    finally:\n",
    "        print('Finalizando conexão...')\n",
    "        conn.quit()\n",
    "except:\n",
    "    print('Erro ao enviar e-mail')\n",
    " \n",
    "print('Fim.')"
   ]
  },
  {
   "cell_type": "markdown",
   "metadata": {
    "colab_type": "text",
    "id": "lmWqsq3nADWd"
   },
   "source": [
    "\n",
    "\n",
    "---\n",
    "\n"
   ]
  },
  {
   "cell_type": "markdown",
   "metadata": {
    "colab_type": "text",
    "id": "u73JFijpZOvH"
   },
   "source": [
    "3. Envie um mesmo e-mail para mais que um destinatário."
   ]
  },
  {
   "cell_type": "code",
   "execution_count": 10,
   "metadata": {
    "colab": {},
    "colab_type": "code",
    "id": "jrZqP-VmdUxU"
   },
   "outputs": [],
   "source": [
    "remetente = 'fabriciomfernandes@gmail.com' #endereço de e-mail do remetente\n",
    "destinatarios = ['fabriciomfernandes@gmail.com','faskt8@gmail.com'] #lista com endereços de e-mail dos destinatários"
   ]
  },
  {
   "cell_type": "code",
   "execution_count": 12,
   "metadata": {
    "colab": {
     "base_uri": "https://localhost:8080/",
     "height": 204
    },
    "colab_type": "code",
    "executionInfo": {
     "elapsed": 31379,
     "status": "ok",
     "timestamp": 1592685681044,
     "user": {
      "displayName": "José Vinícius S. Barboza",
      "photoUrl": "",
      "userId": "14879123349351999351"
     },
     "user_tz": 180
    },
    "id": "DwnUAI5nZTPT",
    "outputId": "9f44ede6-8691-4b8b-bbb4-c491b1c8274b"
   },
   "outputs": [
    {
     "name": "stdout",
     "output_type": "stream",
     "text": [
      "Insira o título do seu email: teste\n",
      "Insira o conteúdo do seu email: teste\n",
      "Content-Type: text/plain; charset=\"us-ascii\"\n",
      "MIME-Version: 1.0\n",
      "Content-Transfer-Encoding: 7bit\n",
      "subject: teste\n",
      "from: fabriciomfernandes@gmail.com\n",
      "\n",
      "teste\n"
     ]
    }
   ],
   "source": [
    "tituloEmail = input(\"Insira o título do seu email: \")\n",
    "corpoEmail = input(\"Insira o conteúdo do seu email: \")\n",
    "msg = MIMEText(corpoEmail, textoSubtipo)\n",
    "msg['subject'] = tituloEmail\n",
    "msg['from'] = remetente\n",
    "print(msg)"
   ]
  },
  {
   "cell_type": "markdown",
   "metadata": {
    "colab_type": "text",
    "id": "XEaoze6eBtqi"
   },
   "source": [
    " Conexão ao servidor e envio do e-mail"
   ]
  },
  {
   "cell_type": "code",
   "execution_count": 13,
   "metadata": {
    "colab": {
     "base_uri": "https://localhost:8080/",
     "height": 649
    },
    "colab_type": "code",
    "executionInfo": {
     "elapsed": 3668,
     "status": "ok",
     "timestamp": 1592685730454,
     "user": {
      "displayName": "José Vinícius S. Barboza",
      "photoUrl": "",
      "userId": "14879123349351999351"
     },
     "user_tz": 180
    },
    "id": "GHh9Gu2wBs97",
    "outputId": "b9080abb-d71e-4bfe-8199-3bf49fe67e71"
   },
   "outputs": [
    {
     "name": "stderr",
     "output_type": "stream",
     "text": [
      "send: 'ehlo MacBook-Pro-de-Fabricio.local\\r\\n'\n",
      "reply: b'250-smtp.gmail.com at your service, [187.59.54.62]\\r\\n'\n",
      "reply: b'250-SIZE 35882577\\r\\n'\n",
      "reply: b'250-8BITMIME\\r\\n'\n",
      "reply: b'250-AUTH LOGIN PLAIN XOAUTH2 PLAIN-CLIENTTOKEN OAUTHBEARER XOAUTH\\r\\n'\n",
      "reply: b'250-ENHANCEDSTATUSCODES\\r\\n'\n",
      "reply: b'250-PIPELINING\\r\\n'\n",
      "reply: b'250-CHUNKING\\r\\n'\n",
      "reply: b'250 SMTPUTF8\\r\\n'\n",
      "reply: retcode (250); Msg: b'smtp.gmail.com at your service, [187.59.54.62]\\nSIZE 35882577\\n8BITMIME\\nAUTH LOGIN PLAIN XOAUTH2 PLAIN-CLIENTTOKEN OAUTHBEARER XOAUTH\\nENHANCEDSTATUSCODES\\nPIPELINING\\nCHUNKING\\nSMTPUTF8'\n",
      "send: 'AUTH PLAIN AGZhYnJpY2lvbWZlcm5hbmRlc0BnbWFpbC5jb20ARGVib3JhaDQ2OTE2NzY2\\r\\n'\n",
      "reply: b'235 2.7.0 Accepted\\r\\n'\n",
      "reply: retcode (235); Msg: b'2.7.0 Accepted'\n",
      "send: 'mail FROM:<fabriciomfernandes@gmail.com> size=157\\r\\n'\n"
     ]
    },
    {
     "name": "stdout",
     "output_type": "stream",
     "text": [
      "Enviando e-mail...\n"
     ]
    },
    {
     "name": "stderr",
     "output_type": "stream",
     "text": [
      "reply: b'250 2.1.0 OK d8sm13025400qkl.118 - gsmtp\\r\\n'\n",
      "reply: retcode (250); Msg: b'2.1.0 OK d8sm13025400qkl.118 - gsmtp'\n",
      "send: 'rcpt TO:<smtpteste@mailinator.com>\\r\\n'\n",
      "reply: b'250 2.1.5 OK d8sm13025400qkl.118 - gsmtp\\r\\n'\n",
      "reply: retcode (250); Msg: b'2.1.5 OK d8sm13025400qkl.118 - gsmtp'\n",
      "send: 'rcpt TO:<fabriciomfernandes@gmail.com>\\r\\n'\n",
      "reply: b'250 2.1.5 OK d8sm13025400qkl.118 - gsmtp\\r\\n'\n",
      "reply: retcode (250); Msg: b'2.1.5 OK d8sm13025400qkl.118 - gsmtp'\n",
      "send: 'rcpt TO:<faskt8@gmail.com>\\r\\n'\n",
      "reply: b'250 2.1.5 OK d8sm13025400qkl.118 - gsmtp\\r\\n'\n",
      "reply: retcode (250); Msg: b'2.1.5 OK d8sm13025400qkl.118 - gsmtp'\n",
      "send: 'data\\r\\n'\n",
      "reply: b'354  Go ahead d8sm13025400qkl.118 - gsmtp\\r\\n'\n",
      "reply: retcode (354); Msg: b'Go ahead d8sm13025400qkl.118 - gsmtp'\n",
      "data: (354, b'Go ahead d8sm13025400qkl.118 - gsmtp')\n",
      "send: b'Content-Type: text/plain; charset=\"us-ascii\"\\r\\nMIME-Version: 1.0\\r\\nContent-Transfer-Encoding: 7bit\\r\\nsubject: teste\\r\\nfrom: fabriciomfernandes@gmail.com\\r\\n\\r\\nteste\\r\\n.\\r\\n'\n",
      "reply: b'250 2.0.0 OK  1593866181 d8sm13025400qkl.118 - gsmtp\\r\\n'\n",
      "reply: retcode (250); Msg: b'2.0.0 OK  1593866181 d8sm13025400qkl.118 - gsmtp'\n",
      "data: (250, b'2.0.0 OK  1593866181 d8sm13025400qkl.118 - gsmtp')\n",
      "send: 'quit\\r\\n'\n"
     ]
    },
    {
     "name": "stdout",
     "output_type": "stream",
     "text": [
      "Finalizando conexão...\n",
      "Fim.\n"
     ]
    },
    {
     "name": "stderr",
     "output_type": "stream",
     "text": [
      "reply: b'221 2.0.0 closing connection d8sm13025400qkl.118 - gsmtp\\r\\n'\n",
      "reply: retcode (221); Msg: b'2.0.0 closing connection d8sm13025400qkl.118 - gsmtp'\n"
     ]
    }
   ],
   "source": [
    "try:\n",
    "    #Conecta ao servidor\n",
    "    conn = SMTP(SMTPServer)\n",
    " \n",
    "    #Ativa o debug, para mostrar mensagens\n",
    "    conn.set_debuglevel(True)\n",
    " \n",
    "    #Conecta ao servidor smtp, passando login e senha\n",
    "    conn.login(usuario,senha)\n",
    " \n",
    "    try:\n",
    "        print('Enviando e-mail...')\n",
    "        conn.sendmail(remetente, destinatarios, msg.as_string())\n",
    " \n",
    "    finally:\n",
    "        print('Finalizando conexão...')\n",
    "        conn.quit()\n",
    "except:\n",
    "    print('Erro ao enviar e-mail')\n",
    " \n",
    "print('Fim.')"
   ]
  },
  {
   "cell_type": "markdown",
   "metadata": {
    "colab_type": "text",
    "id": "K__WI-sLB8lI"
   },
   "source": [
    "---"
   ]
  },
  {
   "cell_type": "markdown",
   "metadata": {
    "colab_type": "text",
    "id": "Z8NfwiiHZKSN"
   },
   "source": [
    "4. Envie dois e-mails de uma única vez, manipulando o conteúdo da mensagem. Utilize um contador, por exemplo."
   ]
  },
  {
   "cell_type": "code",
   "execution_count": 72,
   "metadata": {},
   "outputs": [],
   "source": [
    "remetente = 'fabriciomfernandes@gmail.com' #endereço de e-mail do remetente\n",
    "destinatarios = ['faskt8@gmail.com'] #lista com endereços de e-mail dos destinatários"
   ]
  },
  {
   "cell_type": "code",
   "execution_count": 73,
   "metadata": {
    "colab": {},
    "colab_type": "code",
    "id": "UV1aCvTOnVHm"
   },
   "outputs": [],
   "source": [
    "TotalSomado = 2+2\n",
    "Resultado1 = ('O valor total é : ', TotalSomado)"
   ]
  },
  {
   "cell_type": "code",
   "execution_count": 74,
   "metadata": {},
   "outputs": [
    {
     "name": "stdout",
     "output_type": "stream",
     "text": [
      "Content-Type: text/plain; charset=\"utf-8\"\n",
      "MIME-Version: 1.0\n",
      "Content-Transfer-Encoding: base64\n",
      "subject: =?utf-8?q?Exerc=C3=ADcio_4_-_Dois_emails_de_uma_vez__?=\n",
      "from: fabriciomfernandes@gmail.com\n",
      "\n",
      "KCdPIHZhbG9yIHRvdGFsIMOpIDogJywgNCk=\n",
      "\n"
     ]
    }
   ],
   "source": [
    "tituloEmail =  \"Exercício 4 - Dois emails de uma vez  \"\n",
    "corpoEmail = str(Resultado1)\n",
    "msg = MIMEText(corpoEmail, textoSubtipo)\n",
    "msg['subject'] = tituloEmail\n",
    "msg['from'] = remetente\n",
    "print(msg)"
   ]
  },
  {
   "cell_type": "code",
   "execution_count": 75,
   "metadata": {},
   "outputs": [
    {
     "name": "stderr",
     "output_type": "stream",
     "text": [
      "send: 'ehlo MacBook-Pro-de-Fabricio.local\\r\\n'\n",
      "reply: b'250-smtp.gmail.com at your service, [186.224.68.249]\\r\\n'\n",
      "reply: b'250-SIZE 35882577\\r\\n'\n",
      "reply: b'250-8BITMIME\\r\\n'\n",
      "reply: b'250-AUTH LOGIN PLAIN XOAUTH2 PLAIN-CLIENTTOKEN OAUTHBEARER XOAUTH\\r\\n'\n",
      "reply: b'250-ENHANCEDSTATUSCODES\\r\\n'\n",
      "reply: b'250-PIPELINING\\r\\n'\n",
      "reply: b'250-CHUNKING\\r\\n'\n",
      "reply: b'250 SMTPUTF8\\r\\n'\n",
      "reply: retcode (250); Msg: b'smtp.gmail.com at your service, [186.224.68.249]\\nSIZE 35882577\\n8BITMIME\\nAUTH LOGIN PLAIN XOAUTH2 PLAIN-CLIENTTOKEN OAUTHBEARER XOAUTH\\nENHANCEDSTATUSCODES\\nPIPELINING\\nCHUNKING\\nSMTPUTF8'\n",
      "send: 'AUTH PLAIN AGZhYnJpY2lvbWZlcm5hbmRlc0BnbWFpbC5jb20ARGVib3JhaDQ2OTE2NzY2\\r\\n'\n",
      "reply: b'235 2.7.0 Accepted\\r\\n'\n",
      "reply: retcode (235); Msg: b'2.7.0 Accepted'\n",
      "send: 'mail FROM:<fabriciomfernandes@gmail.com> size=239\\r\\n'\n"
     ]
    },
    {
     "name": "stdout",
     "output_type": "stream",
     "text": [
      "Enviando e-mail...\n"
     ]
    },
    {
     "name": "stderr",
     "output_type": "stream",
     "text": [
      "reply: b'250 2.1.0 OK u22sm18820601qtb.23 - gsmtp\\r\\n'\n",
      "reply: retcode (250); Msg: b'2.1.0 OK u22sm18820601qtb.23 - gsmtp'\n",
      "send: 'rcpt TO:<faskt8@gmail.com>\\r\\n'\n",
      "reply: b'250 2.1.5 OK u22sm18820601qtb.23 - gsmtp\\r\\n'\n",
      "reply: retcode (250); Msg: b'2.1.5 OK u22sm18820601qtb.23 - gsmtp'\n",
      "send: 'data\\r\\n'\n",
      "reply: b'354  Go ahead u22sm18820601qtb.23 - gsmtp\\r\\n'\n",
      "reply: retcode (354); Msg: b'Go ahead u22sm18820601qtb.23 - gsmtp'\n",
      "data: (354, b'Go ahead u22sm18820601qtb.23 - gsmtp')\n",
      "send: b'Content-Type: text/plain; charset=\"utf-8\"\\r\\nMIME-Version: 1.0\\r\\nContent-Transfer-Encoding: base64\\r\\nsubject: =?utf-8?q?Exerc=C3=ADcio_4_-_Dois_emails_de_uma_vez__?=\\r\\nfrom: fabriciomfernandes@gmail.com\\r\\n\\r\\nKCdPIHZhbG9yIHRvdGFsIMOpIDogJywgNCk=\\r\\n.\\r\\n'\n",
      "reply: b'250 2.0.0 OK  1593969617 u22sm18820601qtb.23 - gsmtp\\r\\n'\n",
      "reply: retcode (250); Msg: b'2.0.0 OK  1593969617 u22sm18820601qtb.23 - gsmtp'\n",
      "data: (250, b'2.0.0 OK  1593969617 u22sm18820601qtb.23 - gsmtp')\n",
      "send: 'mail FROM:<fabriciomfernandes@gmail.com> size=239\\r\\n'\n"
     ]
    },
    {
     "name": "stdout",
     "output_type": "stream",
     "text": [
      "Content-Type: text/plain; charset=\"utf-8\"\n",
      "MIME-Version: 1.0\n",
      "Content-Transfer-Encoding: base64\n",
      "subject: =?utf-8?q?Exerc=C3=ADcio_4_-_Dois_emails_de_uma_vez__?=\n",
      "from: fabriciomfernandes@gmail.com\n",
      "\n",
      "KCdPIHZhbG9yIHRvdGFsIMOpIDogJywgNSk=\n",
      "\n"
     ]
    },
    {
     "name": "stderr",
     "output_type": "stream",
     "text": [
      "reply: b'250 2.1.0 OK u22sm18820601qtb.23 - gsmtp\\r\\n'\n",
      "reply: retcode (250); Msg: b'2.1.0 OK u22sm18820601qtb.23 - gsmtp'\n",
      "send: 'rcpt TO:<faskt8@gmail.com>\\r\\n'\n",
      "reply: b'250 2.1.5 OK u22sm18820601qtb.23 - gsmtp\\r\\n'\n",
      "reply: retcode (250); Msg: b'2.1.5 OK u22sm18820601qtb.23 - gsmtp'\n",
      "send: 'data\\r\\n'\n",
      "reply: b'354  Go ahead u22sm18820601qtb.23 - gsmtp\\r\\n'\n",
      "reply: retcode (354); Msg: b'Go ahead u22sm18820601qtb.23 - gsmtp'\n",
      "data: (354, b'Go ahead u22sm18820601qtb.23 - gsmtp')\n",
      "send: b'Content-Type: text/plain; charset=\"utf-8\"\\r\\nMIME-Version: 1.0\\r\\nContent-Transfer-Encoding: base64\\r\\nsubject: =?utf-8?q?Exerc=C3=ADcio_4_-_Dois_emails_de_uma_vez__?=\\r\\nfrom: fabriciomfernandes@gmail.com\\r\\n\\r\\nKCdPIHZhbG9yIHRvdGFsIMOpIDogJywgNSk=\\r\\n.\\r\\n'\n",
      "reply: b'250 2.0.0 OK  1593969619 u22sm18820601qtb.23 - gsmtp\\r\\n'\n",
      "reply: retcode (250); Msg: b'2.0.0 OK  1593969619 u22sm18820601qtb.23 - gsmtp'\n",
      "data: (250, b'2.0.0 OK  1593969619 u22sm18820601qtb.23 - gsmtp')\n",
      "send: 'quit\\r\\n'\n"
     ]
    },
    {
     "name": "stdout",
     "output_type": "stream",
     "text": [
      "Content-Type: text/plain; charset=\"utf-8\"\n",
      "MIME-Version: 1.0\n",
      "Content-Transfer-Encoding: base64\n",
      "subject: =?utf-8?q?Exerc=C3=ADcio_4_-_Dois_emails_de_uma_vez__?=\n",
      "from: fabriciomfernandes@gmail.com\n",
      "\n",
      "KCdPIHZhbG9yIHRvdGFsIMOpIDogJywgNSk=\n",
      "\n",
      "Finalizando conexão...\n",
      "Fim.\n"
     ]
    },
    {
     "name": "stderr",
     "output_type": "stream",
     "text": [
      "reply: b'221 2.0.0 closing connection u22sm18820601qtb.23 - gsmtp\\r\\n'\n",
      "reply: retcode (221); Msg: b'2.0.0 closing connection u22sm18820601qtb.23 - gsmtp'\n"
     ]
    }
   ],
   "source": [
    "try:\n",
    "    #Conecta ao servidor\n",
    "    conn = SMTP(SMTPServer)\n",
    " \n",
    "    #Ativa o debug, para mostrar mensagens\n",
    "    conn.set_debuglevel(True)\n",
    " \n",
    "    #Conecta ao servidor smtp, passando login e senha\n",
    "    conn.login(usuario,senha)\n",
    " \n",
    "    try:\n",
    "        print('Enviando e-mail...')\n",
    "        contador = 0\n",
    "        while contador < 2:\n",
    "            conn.sendmail(remetente, destinatarios, msg.as_string())\n",
    "            TotalSomado = TotalSomando + 1\n",
    "            Resultado2 = ('O valor total é : ', TotalSomado)\n",
    "            tituloEmail =  \"Exercício 4 - Dois emails de uma vez  \"\n",
    "            corpoEmail = str(Resultado2)\n",
    "            msg = MIMEText(corpoEmail, textoSubtipo)\n",
    "            msg['subject'] = tituloEmail\n",
    "            msg['from'] = remetente\n",
    "            print(msg)\n",
    "            contador += contador +1\n",
    "            if contador == 2:\n",
    "                break\n",
    " \n",
    "    finally:\n",
    "        print('Finalizando conexão...')\n",
    "        conn.quit()\n",
    "except:\n",
    "    print('Erro ao enviar e-mail')\n",
    " \n",
    "print('Fim.')"
   ]
  },
  {
   "cell_type": "markdown",
   "metadata": {
    "colab_type": "text",
    "id": "sLSKUt4dZfgr"
   },
   "source": [
    "5. O quê deveria ser feito para enviar e-mails com CC e BCC (Carbom Copy e Black Carbon Copy)?"
   ]
  },
  {
   "cell_type": "markdown",
   "metadata": {
    "colab_type": "text",
    "id": "RXvlrSKDBu_W"
   },
   "source": [
    "A definição entre CC e BCC ocorre apenas nos cabeçalhos de texto. No nível do SMTP, todos são destinatário.\n",
    "Os cabeçalhos de email não importam o servidor smtp. É necessário adicionar aos destinatários CC e Bcc.\n",
    "\n"
   ]
  },
  {
   "cell_type": "code",
   "execution_count": 14,
   "metadata": {
    "colab": {},
    "colab_type": "code",
    "id": "b9pl5AQ8Zofx"
   },
   "outputs": [],
   "source": [
    "remetente = 'fabriciomfernandes@gmail.com' #endereço de e-mail do remetente\n",
    "destinatarios = ['faskt8@gmail.com'] #lista com endereços de e-mail dos destinatários\n",
    " "
   ]
  },
  {
   "cell_type": "code",
   "execution_count": 15,
   "metadata": {
    "colab": {
     "base_uri": "https://localhost:8080/",
     "height": 204
    },
    "colab_type": "code",
    "executionInfo": {
     "elapsed": 40723,
     "status": "ok",
     "timestamp": 1592747346154,
     "user": {
      "displayName": "José Vinícius S. Barboza",
      "photoUrl": "",
      "userId": "14879123349351999351"
     },
     "user_tz": 180
    },
    "id": "lBiseVQnCb5H",
    "outputId": "7306aca5-b019-4335-bbb2-80f77e86025e"
   },
   "outputs": [
    {
     "name": "stdout",
     "output_type": "stream",
     "text": [
      "Insira o título do seu email: teste CC e BCC\n",
      "Insira o conteúdo do seu email: Teste CC e BCC\n",
      "Content-Type: text/plain; charset=\"us-ascii\"\n",
      "MIME-Version: 1.0\n",
      "Content-Transfer-Encoding: 7bit\n",
      "subject: teste CC e BCC\n",
      "from: fabriciomfernandes@gmail.com\n",
      "Cc: faskt8@gmail.com\n",
      "Bcc: faskt8@gmail.com\n",
      "\n",
      "Teste CC e BCC\n"
     ]
    }
   ],
   "source": [
    "tituloEmail = input(\"Insira o título do seu email: \")\n",
    "corpoEmail = input(\"Insira o conteúdo do seu email: \")\n",
    "msg = MIMEText(corpoEmail, textoSubtipo)\n",
    "msg['subject'] = tituloEmail\n",
    "msg['from'] = remetente\n",
    "msg['Cc'] = 'faskt8@gmail.com'\n",
    "msg['Bcc'] = 'faskt8@gmail.com'\n",
    "print(msg)"
   ]
  },
  {
   "cell_type": "code",
   "execution_count": 16,
   "metadata": {
    "colab": {
     "base_uri": "https://localhost:8080/",
     "height": 598
    },
    "colab_type": "code",
    "executionInfo": {
     "elapsed": 1664,
     "status": "ok",
     "timestamp": 1592747352537,
     "user": {
      "displayName": "José Vinícius S. Barboza",
      "photoUrl": "",
      "userId": "14879123349351999351"
     },
     "user_tz": 180
    },
    "id": "ykgd5j8xCjAY",
    "outputId": "b8f19132-0f59-4729-fd24-0e03ce9b369c"
   },
   "outputs": [
    {
     "name": "stderr",
     "output_type": "stream",
     "text": [
      "send: 'ehlo MacBook-Pro-de-Fabricio.local\\r\\n'\n",
      "reply: b'250-smtp.gmail.com at your service, [187.59.54.62]\\r\\n'\n",
      "reply: b'250-SIZE 35882577\\r\\n'\n",
      "reply: b'250-8BITMIME\\r\\n'\n",
      "reply: b'250-AUTH LOGIN PLAIN XOAUTH2 PLAIN-CLIENTTOKEN OAUTHBEARER XOAUTH\\r\\n'\n",
      "reply: b'250-ENHANCEDSTATUSCODES\\r\\n'\n",
      "reply: b'250-PIPELINING\\r\\n'\n",
      "reply: b'250-CHUNKING\\r\\n'\n",
      "reply: b'250 SMTPUTF8\\r\\n'\n",
      "reply: retcode (250); Msg: b'smtp.gmail.com at your service, [187.59.54.62]\\nSIZE 35882577\\n8BITMIME\\nAUTH LOGIN PLAIN XOAUTH2 PLAIN-CLIENTTOKEN OAUTHBEARER XOAUTH\\nENHANCEDSTATUSCODES\\nPIPELINING\\nCHUNKING\\nSMTPUTF8'\n",
      "send: 'AUTH PLAIN AGZhYnJpY2lvbWZlcm5hbmRlc0BnbWFpbC5jb20ARGVib3JhaDQ2OTE2NzY2\\r\\n'\n",
      "reply: b'235 2.7.0 Accepted\\r\\n'\n",
      "reply: retcode (235); Msg: b'2.7.0 Accepted'\n",
      "send: 'mail FROM:<fabriciomfernandes@gmail.com> size=220\\r\\n'\n"
     ]
    },
    {
     "name": "stdout",
     "output_type": "stream",
     "text": [
      "Enviando e-mail...\n"
     ]
    },
    {
     "name": "stderr",
     "output_type": "stream",
     "text": [
      "reply: b'250 2.1.0 OK p3sm13346067qtl.21 - gsmtp\\r\\n'\n",
      "reply: retcode (250); Msg: b'2.1.0 OK p3sm13346067qtl.21 - gsmtp'\n",
      "send: 'rcpt TO:<faskt8@gmail.com>\\r\\n'\n",
      "reply: b'250 2.1.5 OK p3sm13346067qtl.21 - gsmtp\\r\\n'\n",
      "reply: retcode (250); Msg: b'2.1.5 OK p3sm13346067qtl.21 - gsmtp'\n",
      "send: 'data\\r\\n'\n",
      "reply: b'354  Go ahead p3sm13346067qtl.21 - gsmtp\\r\\n'\n",
      "reply: retcode (354); Msg: b'Go ahead p3sm13346067qtl.21 - gsmtp'\n",
      "data: (354, b'Go ahead p3sm13346067qtl.21 - gsmtp')\n",
      "send: b'Content-Type: text/plain; charset=\"us-ascii\"\\r\\nMIME-Version: 1.0\\r\\nContent-Transfer-Encoding: 7bit\\r\\nsubject: teste CC e BCC\\r\\nfrom: fabriciomfernandes@gmail.com\\r\\nCc: faskt8@gmail.com\\r\\nBcc: faskt8@gmail.com\\r\\n\\r\\nTeste CC e BCC\\r\\n.\\r\\n'\n",
      "reply: b'250 2.0.0 OK  1593866311 p3sm13346067qtl.21 - gsmtp\\r\\n'\n",
      "reply: retcode (250); Msg: b'2.0.0 OK  1593866311 p3sm13346067qtl.21 - gsmtp'\n",
      "data: (250, b'2.0.0 OK  1593866311 p3sm13346067qtl.21 - gsmtp')\n",
      "send: 'quit\\r\\n'\n"
     ]
    },
    {
     "name": "stdout",
     "output_type": "stream",
     "text": [
      "Finalizando conexão...\n",
      "Fim.\n"
     ]
    },
    {
     "name": "stderr",
     "output_type": "stream",
     "text": [
      "reply: b'221 2.0.0 closing connection p3sm13346067qtl.21 - gsmtp\\r\\n'\n",
      "reply: retcode (221); Msg: b'2.0.0 closing connection p3sm13346067qtl.21 - gsmtp'\n"
     ]
    }
   ],
   "source": [
    "try:\n",
    "    #Conecta ao servidor\n",
    "    conn = SMTP(SMTPServer)\n",
    " \n",
    "    #Ativa o debug, para mostrar mensagens\n",
    "    conn.set_debuglevel(True)\n",
    " \n",
    "    #Conecta ao servidor smtp, passando login e senha\n",
    "    conn.login(usuario,senha)\n",
    " \n",
    "    try:\n",
    "        print('Enviando e-mail...')\n",
    "        conn.sendmail(remetente, destinatarios, msg.as_string())\n",
    " \n",
    "    finally:\n",
    "        print('Finalizando conexão...')\n",
    "        conn.quit()\n",
    "except:\n",
    "    print('Erro ao enviar e-mail')\n",
    " \n",
    "print('Fim.')"
   ]
  },
  {
   "cell_type": "markdown",
   "metadata": {
    "colab_type": "text",
    "id": "CbuT5vMfZnk2"
   },
   "source": [
    "6. Desenvolva um sistema simples, que envia por e-mail resultados de alguma operação realizada."
   ]
  },
  {
   "cell_type": "code",
   "execution_count": 17,
   "metadata": {
    "colab": {},
    "colab_type": "code",
    "id": "OZi9gh5geNUN"
   },
   "outputs": [],
   "source": [
    "remetente = 'fabriciomfernandes@gmail.com' #endereço de e-mail do remetente\n",
    "destinatarios = ['faskt8@gmail.com'] #lista com endereços de e-mail dos destinatários"
   ]
  },
  {
   "cell_type": "code",
   "execution_count": 55,
   "metadata": {
    "colab": {
     "base_uri": "https://localhost:8080/",
     "height": 51
    },
    "colab_type": "code",
    "executionInfo": {
     "elapsed": 3571,
     "status": "ok",
     "timestamp": 1592779172152,
     "user": {
      "displayName": "José Vinícius S. Barboza",
      "photoUrl": "",
      "userId": "14879123349351999351"
     },
     "user_tz": 180
    },
    "id": "kLY5snihXmnC",
    "outputId": "fafd9a01-115a-4168-92b7-6d0e6d6a0b4c"
   },
   "outputs": [
    {
     "name": "stdout",
     "output_type": "stream",
     "text": [
      "Digite um valor para receber a soma dele mesmo + 1000: 200\n",
      "Resultado foi enviado ao seu e-mail!!\n"
     ]
    }
   ],
   "source": [
    "ValorDigitado=int(input('Digite um valor para receber a soma dele mesmo + 1000: '))\n",
    "TotalSomado=ValorDigitado+ValorDigitado+1000\n",
    "Resultado = ('O valor total é : ', TotalSomado)\n",
    "print('Resultado foi enviado ao seu e-mail!!')\n"
   ]
  },
  {
   "cell_type": "code",
   "execution_count": 19,
   "metadata": {
    "colab": {
     "base_uri": "https://localhost:8080/",
     "height": 153
    },
    "colab_type": "code",
    "executionInfo": {
     "elapsed": 723,
     "status": "ok",
     "timestamp": 1592779175219,
     "user": {
      "displayName": "José Vinícius S. Barboza",
      "photoUrl": "",
      "userId": "14879123349351999351"
     },
     "user_tz": 180
    },
    "id": "W5jTd4FkXc6H",
    "outputId": "4e51b478-1298-46a5-bca0-7a572c043f80"
   },
   "outputs": [
    {
     "name": "stdout",
     "output_type": "stream",
     "text": [
      "Content-Type: text/plain; charset=\"utf-8\"\n",
      "MIME-Version: 1.0\n",
      "Content-Transfer-Encoding: base64\n",
      "subject: =?utf-8?q?Exerc=C3=ADcio_6_-_Resultado_de_opera=C3=A7=C3=A3o_?=\n",
      "from: fabriciomfernandes@gmail.com\n",
      "\n",
      "KCdPIHZhbG9yIHRvdGFsIMOpIDogJywgMTQwMCk=\n",
      "\n"
     ]
    }
   ],
   "source": [
    "tituloEmail =  \"Exercício 6 - Resultado de operação \"\n",
    "corpoEmail = str(Resultado)\n",
    "msg = MIMEText(corpoEmail, textoSubtipo)\n",
    "msg['subject'] = tituloEmail\n",
    "msg['from'] = remetente\n",
    "print(msg)"
   ]
  },
  {
   "cell_type": "code",
   "execution_count": 20,
   "metadata": {
    "colab": {
     "base_uri": "https://localhost:8080/",
     "height": 598
    },
    "colab_type": "code",
    "executionInfo": {
     "elapsed": 1336,
     "status": "ok",
     "timestamp": 1592779182222,
     "user": {
      "displayName": "José Vinícius S. Barboza",
      "photoUrl": "",
      "userId": "14879123349351999351"
     },
     "user_tz": 180
    },
    "id": "Pz_vu_eVZxIH",
    "outputId": "eef13572-bf6d-4f5a-821f-ef2dcd7c29be"
   },
   "outputs": [
    {
     "name": "stderr",
     "output_type": "stream",
     "text": [
      "send: 'ehlo MacBook-Pro-de-Fabricio.local\\r\\n'\n",
      "reply: b'250-smtp.gmail.com at your service, [187.59.54.62]\\r\\n'\n",
      "reply: b'250-SIZE 35882577\\r\\n'\n",
      "reply: b'250-8BITMIME\\r\\n'\n",
      "reply: b'250-AUTH LOGIN PLAIN XOAUTH2 PLAIN-CLIENTTOKEN OAUTHBEARER XOAUTH\\r\\n'\n",
      "reply: b'250-ENHANCEDSTATUSCODES\\r\\n'\n",
      "reply: b'250-PIPELINING\\r\\n'\n",
      "reply: b'250-CHUNKING\\r\\n'\n",
      "reply: b'250 SMTPUTF8\\r\\n'\n",
      "reply: retcode (250); Msg: b'smtp.gmail.com at your service, [187.59.54.62]\\nSIZE 35882577\\n8BITMIME\\nAUTH LOGIN PLAIN XOAUTH2 PLAIN-CLIENTTOKEN OAUTHBEARER XOAUTH\\nENHANCEDSTATUSCODES\\nPIPELINING\\nCHUNKING\\nSMTPUTF8'\n",
      "send: 'AUTH PLAIN AGZhYnJpY2lvbWZlcm5hbmRlc0BnbWFpbC5jb20ARGVib3JhaDQ2OTE2NzY2\\r\\n'\n",
      "reply: b'235 2.7.0 Accepted\\r\\n'\n",
      "reply: retcode (235); Msg: b'2.7.0 Accepted'\n",
      "send: 'mail FROM:<fabriciomfernandes@gmail.com> size=251\\r\\n'\n"
     ]
    },
    {
     "name": "stdout",
     "output_type": "stream",
     "text": [
      "Enviando e-mail...\n"
     ]
    },
    {
     "name": "stderr",
     "output_type": "stream",
     "text": [
      "reply: b'250 2.1.0 OK j16sm13412479qtp.92 - gsmtp\\r\\n'\n",
      "reply: retcode (250); Msg: b'2.1.0 OK j16sm13412479qtp.92 - gsmtp'\n",
      "send: 'rcpt TO:<faskt8@gmail.com>\\r\\n'\n",
      "reply: b'250 2.1.5 OK j16sm13412479qtp.92 - gsmtp\\r\\n'\n",
      "reply: retcode (250); Msg: b'2.1.5 OK j16sm13412479qtp.92 - gsmtp'\n",
      "send: 'data\\r\\n'\n",
      "reply: b'354  Go ahead j16sm13412479qtp.92 - gsmtp\\r\\n'\n",
      "reply: retcode (354); Msg: b'Go ahead j16sm13412479qtp.92 - gsmtp'\n",
      "data: (354, b'Go ahead j16sm13412479qtp.92 - gsmtp')\n",
      "send: b'Content-Type: text/plain; charset=\"utf-8\"\\r\\nMIME-Version: 1.0\\r\\nContent-Transfer-Encoding: base64\\r\\nsubject: =?utf-8?q?Exerc=C3=ADcio_6_-_Resultado_de_opera=C3=A7=C3=A3o_?=\\r\\nfrom: fabriciomfernandes@gmail.com\\r\\n\\r\\nKCdPIHZhbG9yIHRvdGFsIMOpIDogJywgMTQwMCk=\\r\\n.\\r\\n'\n",
      "reply: b'250 2.0.0 OK  1593866591 j16sm13412479qtp.92 - gsmtp\\r\\n'\n",
      "reply: retcode (250); Msg: b'2.0.0 OK  1593866591 j16sm13412479qtp.92 - gsmtp'\n",
      "data: (250, b'2.0.0 OK  1593866591 j16sm13412479qtp.92 - gsmtp')\n",
      "send: 'quit\\r\\n'\n"
     ]
    },
    {
     "name": "stdout",
     "output_type": "stream",
     "text": [
      "Finalizando conexão...\n",
      "Fim.\n"
     ]
    },
    {
     "name": "stderr",
     "output_type": "stream",
     "text": [
      "reply: b'221 2.0.0 closing connection j16sm13412479qtp.92 - gsmtp\\r\\n'\n",
      "reply: retcode (221); Msg: b'2.0.0 closing connection j16sm13412479qtp.92 - gsmtp'\n"
     ]
    }
   ],
   "source": [
    "try:\n",
    "    #Conecta ao servidor\n",
    "    conn = SMTP(SMTPServer)\n",
    " \n",
    "    #Ativa o debug, para mostrar mensagens\n",
    "    conn.set_debuglevel(True)\n",
    " \n",
    "    #Conecta ao servidor smtp, passando login e senha\n",
    "    conn.login(usuario,senha)\n",
    " \n",
    "    try:\n",
    "        print('Enviando e-mail...')\n",
    "        conn.sendmail(remetente, destinatarios, msg.as_string())\n",
    " \n",
    "    finally:\n",
    "        print('Finalizando conexão...')\n",
    "        conn.quit()\n",
    "except:\n",
    "    print('Erro ao enviar e-mail')\n",
    " \n",
    "print('Fim.')"
   ]
  },
  {
   "cell_type": "markdown",
   "metadata": {
    "colab_type": "text",
    "id": "23GwuVHUDKws"
   },
   "source": []
  },
  {
   "cell_type": "markdown",
   "metadata": {
    "colab_type": "text",
    "id": "A213bUFdZU4n"
   },
   "source": [
    "7 Observe que o campo Remetente é utilizado no MIME e também em sendmail(). O que ocorre se valores diferentes forem utilizados? Experimente e explique o resultado."
   ]
  },
  {
   "cell_type": "code",
   "execution_count": 21,
   "metadata": {
    "colab": {},
    "colab_type": "code",
    "id": "mAulKweCZXWT"
   },
   "outputs": [],
   "source": [
    "remetente = 'faskt8@gmail.com' #endereço de e-mail do remetente\n",
    "destinatarios = ['faskt8@gmail.com'] #lista com endereços de e-mail dos destinatários"
   ]
  },
  {
   "cell_type": "code",
   "execution_count": 22,
   "metadata": {
    "colab": {},
    "colab_type": "code",
    "id": "dLurvWltZZXL"
   },
   "outputs": [],
   "source": [
    "titulo='Exercicio 7 - Campo Remetente alterado'\n",
    "corpo = \"\"\"\\\n",
    "Exercício 7 - Campo Remetende alterado.\n",
    "Foi alterado o email no campo remetente\n",
    "endereço de envio = fabriciomfernandes@gmail.com\n",
    "remetente = faskt8@gmail.com\n",
    "\n",
    "\"\"\""
   ]
  },
  {
   "cell_type": "code",
   "execution_count": 23,
   "metadata": {
    "colab": {
     "base_uri": "https://localhost:8080/",
     "height": 170
    },
    "colab_type": "code",
    "executionInfo": {
     "elapsed": 634,
     "status": "ok",
     "timestamp": 1592770036141,
     "user": {
      "displayName": "José Vinícius S. Barboza",
      "photoUrl": "",
      "userId": "14879123349351999351"
     },
     "user_tz": 180
    },
    "id": "NinnPR4MZZIB",
    "outputId": "ce930fc5-51fc-4286-8c4c-4969f897515d"
   },
   "outputs": [
    {
     "name": "stdout",
     "output_type": "stream",
     "text": [
      "Content-Type: text/plain; charset=\"utf-8\"\n",
      "MIME-Version: 1.0\n",
      "Content-Transfer-Encoding: base64\n",
      "subject: Exercicio 7 - Campo Remetente alterado\n",
      "from: faskt8@gmail.com\n",
      "\n",
      "RXhlcmPDrWNpbyA3IC0gQ2FtcG8gUmVtZXRlbmRlIGFsdGVyYWRvLgpGb2kgYWx0ZXJhZG8gbyBl\n",
      "bWFpbCBubyBjYW1wbyByZW1ldGVudGUKZW5kZXJlw6dvIGRlIGVudmlvID0gZmFicmljaW9tZmVy\n",
      "bmFuZGVzQGdtYWlsLmNvbQpyZW1ldGVudGUgPSBmYXNrdDhAZ21haWwuY29tCgo=\n",
      "\n"
     ]
    }
   ],
   "source": [
    "msg = MIMEText(corpo, textoSubtipo)\n",
    "msg['subject'] = titulo\n",
    "msg['from'] = remetente\n",
    "print(msg)"
   ]
  },
  {
   "cell_type": "code",
   "execution_count": 24,
   "metadata": {
    "colab": {
     "base_uri": "https://localhost:8080/",
     "height": 598
    },
    "colab_type": "code",
    "executionInfo": {
     "elapsed": 1173,
     "status": "ok",
     "timestamp": 1592770072670,
     "user": {
      "displayName": "José Vinícius S. Barboza",
      "photoUrl": "",
      "userId": "14879123349351999351"
     },
     "user_tz": 180
    },
    "id": "zuAROmt5Zo3K",
    "outputId": "7c0e3b01-e70e-4d47-a70a-e955588eb98a"
   },
   "outputs": [
    {
     "name": "stderr",
     "output_type": "stream",
     "text": [
      "send: 'ehlo MacBook-Pro-de-Fabricio.local\\r\\n'\n",
      "reply: b'250-smtp.gmail.com at your service, [187.59.54.62]\\r\\n'\n",
      "reply: b'250-SIZE 35882577\\r\\n'\n",
      "reply: b'250-8BITMIME\\r\\n'\n",
      "reply: b'250-AUTH LOGIN PLAIN XOAUTH2 PLAIN-CLIENTTOKEN OAUTHBEARER XOAUTH\\r\\n'\n",
      "reply: b'250-ENHANCEDSTATUSCODES\\r\\n'\n",
      "reply: b'250-PIPELINING\\r\\n'\n",
      "reply: b'250-CHUNKING\\r\\n'\n",
      "reply: b'250 SMTPUTF8\\r\\n'\n",
      "reply: retcode (250); Msg: b'smtp.gmail.com at your service, [187.59.54.62]\\nSIZE 35882577\\n8BITMIME\\nAUTH LOGIN PLAIN XOAUTH2 PLAIN-CLIENTTOKEN OAUTHBEARER XOAUTH\\nENHANCEDSTATUSCODES\\nPIPELINING\\nCHUNKING\\nSMTPUTF8'\n",
      "send: 'AUTH PLAIN AGZhYnJpY2lvbWZlcm5hbmRlc0BnbWFpbC5jb20ARGVib3JhaDQ2OTE2NzY2\\r\\n'\n",
      "reply: b'235 2.7.0 Accepted\\r\\n'\n",
      "reply: retcode (235); Msg: b'2.7.0 Accepted'\n",
      "send: 'mail FROM:<faskt8@gmail.com> size=394\\r\\n'\n"
     ]
    },
    {
     "name": "stdout",
     "output_type": "stream",
     "text": [
      "Enviando e-mail...\n"
     ]
    },
    {
     "name": "stderr",
     "output_type": "stream",
     "text": [
      "reply: b'250 2.1.0 OK l67sm13152909qkd.7 - gsmtp\\r\\n'\n",
      "reply: retcode (250); Msg: b'2.1.0 OK l67sm13152909qkd.7 - gsmtp'\n",
      "send: 'rcpt TO:<faskt8@gmail.com>\\r\\n'\n",
      "reply: b'250 2.1.5 OK l67sm13152909qkd.7 - gsmtp\\r\\n'\n",
      "reply: retcode (250); Msg: b'2.1.5 OK l67sm13152909qkd.7 - gsmtp'\n",
      "send: 'data\\r\\n'\n",
      "reply: b'354  Go ahead l67sm13152909qkd.7 - gsmtp\\r\\n'\n",
      "reply: retcode (354); Msg: b'Go ahead l67sm13152909qkd.7 - gsmtp'\n",
      "data: (354, b'Go ahead l67sm13152909qkd.7 - gsmtp')\n",
      "send: b'Content-Type: text/plain; charset=\"utf-8\"\\r\\nMIME-Version: 1.0\\r\\nContent-Transfer-Encoding: base64\\r\\nsubject: Exercicio 7 - Campo Remetente alterado\\r\\nfrom: faskt8@gmail.com\\r\\n\\r\\nRXhlcmPDrWNpbyA3IC0gQ2FtcG8gUmVtZXRlbmRlIGFsdGVyYWRvLgpGb2kgYWx0ZXJhZG8gbyBl\\r\\nbWFpbCBubyBjYW1wbyByZW1ldGVudGUKZW5kZXJlw6dvIGRlIGVudmlvID0gZmFicmljaW9tZmVy\\r\\nbmFuZGVzQGdtYWlsLmNvbQpyZW1ldGVudGUgPSBmYXNrdDhAZ21haWwuY29tCgo=\\r\\n.\\r\\n'\n",
      "reply: b'250 2.0.0 OK  1593867326 l67sm13152909qkd.7 - gsmtp\\r\\n'\n",
      "reply: retcode (250); Msg: b'2.0.0 OK  1593867326 l67sm13152909qkd.7 - gsmtp'\n",
      "data: (250, b'2.0.0 OK  1593867326 l67sm13152909qkd.7 - gsmtp')\n",
      "send: 'quit\\r\\n'\n"
     ]
    },
    {
     "name": "stdout",
     "output_type": "stream",
     "text": [
      "Finalizando conexão...\n",
      "Fim.\n"
     ]
    },
    {
     "name": "stderr",
     "output_type": "stream",
     "text": [
      "reply: b'221 2.0.0 closing connection l67sm13152909qkd.7 - gsmtp\\r\\n'\n",
      "reply: retcode (221); Msg: b'2.0.0 closing connection l67sm13152909qkd.7 - gsmtp'\n"
     ]
    }
   ],
   "source": [
    "try:\n",
    "    #Conecta ao servidor\n",
    "    conn = SMTP(SMTPServer)\n",
    " \n",
    "    #Ativa o debug, para mostrar mensagens\n",
    "    conn.set_debuglevel(True)\n",
    " \n",
    "    #Conecta ao servidor smtp, passando login e senha\n",
    "    conn.login(usuario,senha)\n",
    " \n",
    "    try:\n",
    "        print('Enviando e-mail...')\n",
    "        conn.sendmail(remetente, destinatarios, msg.as_string())\n",
    " \n",
    "    finally:\n",
    "        print('Finalizando conexão...')\n",
    "        conn.quit()\n",
    "except:\n",
    "    print('Erro ao enviar e-mail')\n",
    " \n",
    "print('Fim.')"
   ]
  },
  {
   "cell_type": "markdown",
   "metadata": {
    "colab_type": "text",
    "id": "x1cDyJqNbfx_"
   },
   "source": [
    " Realizado a conexão o email é enviado para destinatário pelo email cadastrado nas configurações do SMTP Server e não pelo remetende inserido no MIME\n"
   ]
  },
  {
   "cell_type": "markdown",
   "metadata": {
    "colab_type": "text",
    "id": "DhHiMqM2Kt5o"
   },
   "source": [
    "## Incluindo anexos"
   ]
  },
  {
   "cell_type": "markdown",
   "metadata": {
    "colab_type": "text",
    "id": "BYjXrwyJKt5o"
   },
   "source": [
    "Para utilizar anexos é necessário informar que será utilizado um `MIME Multipart`. Para isso, é necessário importar as bibliotecas:\n",
    "```python\n",
    "from email.mime.multipart import MIMEMultipart\n",
    "from email.mime.base import MIMEBase\n",
    "from email import encoders\n",
    "```"
   ]
  },
  {
   "cell_type": "code",
   "execution_count": 25,
   "metadata": {
    "colab": {},
    "colab_type": "code",
    "id": "mV5y3rOPbTxg"
   },
   "outputs": [],
   "source": [
    "from email.mime.multipart import MIMEMultipart\n",
    "from email.mime.base import MIMEBase\n",
    "from email import encoders"
   ]
  },
  {
   "cell_type": "markdown",
   "metadata": {
    "colab_type": "text",
    "id": "rtwWBCqPKt5p"
   },
   "source": [
    "Criar um objeto do tipo `MIMEMultipart`, e preencher com as informações básicas.\n",
    "```python\n",
    "msg = MIMEMultipart() #Objeto do e-mail\n",
    "\n",
    "#Informações básicas\n",
    "msg['subject'] = titulo #Título\n",
    "msg['from'] = remetente #Remetente\n",
    "msg.attach(MIMEText(corpo, textoSubtipo)) #Corpo do e-mail\n",
    "```"
   ]
  },
  {
   "cell_type": "markdown",
   "metadata": {
    "colab_type": "text",
    "id": "1yIKrzAKmk5O"
   },
   "source": [
    "Observação\n",
    "A aplicação deve ter acesso ao arquivo, para que possa ser incluído na mensagem. No caso da imagem summer_300x300.jpg deve ser realizado seu download para o diretório em que a aplicação executa, localmente ou no Colab.\n",
    "\n",
    "Link para a imagem: summer_300x300.jpg"
   ]
  },
  {
   "cell_type": "code",
   "execution_count": 38,
   "metadata": {
    "colab": {},
    "colab_type": "code",
    "id": "uPLC5ALqi2ui"
   },
   "outputs": [],
   "source": [
    "remetente = 'fabriciomfernandes@gmail.com' #endereço de e-mail do remetente\n",
    "destinatarios = ['fabriciomfernandes@gmail.com','faskt8@gmail.com','faskt8@yahoo.com'] #lista com endereços de e-mail dos destinatários"
   ]
  },
  {
   "cell_type": "code",
   "execution_count": 39,
   "metadata": {
    "colab": {},
    "colab_type": "code",
    "id": "WRSVVMF6jBhk"
   },
   "outputs": [],
   "source": [
    "titulo='Exercicio 8 - Email com Anexo'\n",
    "corpo = \"\"\"\\\n",
    "Exercício 8 do SMTP.\n",
    "teste de email enviando uma imagem em anexo, do arquivo summer_300x300.jpg' \n",
    "\n",
    "\"\"\""
   ]
  },
  {
   "cell_type": "code",
   "execution_count": 40,
   "metadata": {
    "colab": {},
    "colab_type": "code",
    "id": "dl60gyz2bXiU"
   },
   "outputs": [],
   "source": [
    "msg = MIMEMultipart() #Objeto do e-mail\n",
    " \n",
    "# Informações básicas\n",
    "msg['subject'] = titulo #Título\n",
    "msg['from'] = remetente #Remetente\n",
    "msg.attach(MIMEText(corpo, textoSubtipo)) #Corpo do e-mail"
   ]
  },
  {
   "cell_type": "markdown",
   "metadata": {
    "colab_type": "text",
    "id": "db333x6BKt5q"
   },
   "source": [
    "Em seguida, é necessário criar um *payload*, que conterá os dados referente ao arquivo a ser anexado. Posteriormente, basta inserir o *payload* ao objeto do e-mail.\n",
    "\n",
    "```python\n",
    "\n",
    "arqNome = 'summer_300x300.jpg' #Nome do arquivo que será anexado\n",
    "arqAnexo = open(arqNome, 'rb') # Abre o arquivo que será anexado, como binário\n",
    "payload = MIMEBase('application', 'octate-stream') #cria um payload a ser adicionado no e-mail\n",
    "payload.set_payload((arqAnexo).read()) #lê o arquivo e coloca no payload\n",
    "encoders.encode_base64(payload) #codifica o payload, em base64\n",
    "payload.add_header('Content-Disposition', 'attachment', filename=arqNome)\n",
    "msg.attach(payload) #adiciona o payload à mensagem\n",
    "\n",
    "print(msg) #visualiza a mensagem, inclusive com o anexo\n",
    "```\n",
    "\n",
    "Após criado o e-mail, basta conectar ao servidor e enviá-lo utilizando SMTP."
   ]
  },
  {
   "cell_type": "code",
   "execution_count": 41,
   "metadata": {
    "colab": {
     "base_uri": "https://localhost:8080/",
     "height": 1000
    },
    "colab_type": "code",
    "executionInfo": {
     "elapsed": 649,
     "status": "ok",
     "timestamp": 1592771307923,
     "user": {
      "displayName": "José Vinícius S. Barboza",
      "photoUrl": "",
      "userId": "14879123349351999351"
     },
     "user_tz": 180
    },
    "id": "AI_ZtQB4be8l",
    "outputId": "5c2b49ad-e216-40db-ab01-fb027d5f31cd"
   },
   "outputs": [
    {
     "name": "stdout",
     "output_type": "stream",
     "text": [
      "Content-Type: multipart/mixed; boundary=\"===============7185366117450407692==\"\n",
      "MIME-Version: 1.0\n",
      "subject: Exercicio 8 - Email com Anexo\n",
      "from: fabriciomfernandes@gmail.com\n",
      "\n",
      "--===============7185366117450407692==\n",
      "Content-Type: text/plain; charset=\"utf-8\"\n",
      "MIME-Version: 1.0\n",
      "Content-Transfer-Encoding: base64\n",
      "\n",
      "RXhlcmPDrWNpbyA4IGRvIFNNVFAuCnRlc3RlIGRlIGVtYWlsIGVudmlhbmRvIHVtYSBpbWFnZW0g\n",
      "ZW0gYW5leG8sIGRvIGFycXVpdm8gc3VtbWVyXzMwMHgzMDAuanBnJyAKCg==\n",
      "\n",
      "--===============7185366117450407692==\n",
      "Content-Type: application/octate-stream\n",
      "MIME-Version: 1.0\n",
      "Content-Transfer-Encoding: base64\n",
      "Content-Disposition: attachment; filename=\"summer_300x300.jpg\"\n",
      "\n",
      "/9j/4AAQSkZJRgABAQEAAQABAAD/2wBDAAgGBgcGBQgHBwcJCQgKDBQNDAsLDBkSEw8UHRofHh0a\n",
      "HBwgJC4nICIsIxwcKDcpLDAxNDQ0Hyc5PTgyPC4zNDL/2wBDAQkJCQwLDBgNDRgyIRwhMjIyMjIy\n",
      "MjIyMjIyMjIyMjIyMjIyMjIyMjIyMjIyMjIyMjIyMjIyMjIyMjIyMjIyMjL/wAARCAEsASwDASIA\n",
      "AhEBAxEB/8QAGgAAAwEBAQEAAAAAAAAAAAAAAQIDBAAFBv/EADkQAAEDAwIFAgQDBwMFAAAAAAEA\n",
      "AhEDITESQQQiUWFxE4EFMpGhFEKxI1JicsHR4Qbw8RUlM0OC/8QAGAEBAQEBAQAAAAAAAAAAAAAA\n",
      "AAECAwT/xAAeEQEBAQEBAQEBAAMAAAAAAAAAARECIUExEiJRcf/aAAwDAQACEQMRAD8AvxLRw7PQ\n",
      "b8j2v1GbmZk/WB2Xm1OGHqcRVIh1WrTgfyMH9yt9SoKvxSqyQQ2iGiP1UeKdM9Gst5vKauPMDdVU\n",
      "zfXY+MIsY5ofVZMtEge3+FcsDalMxnI8rR6TWku/K63uud9dObjyuOY5vEUeJZejUc2ffqsjaBZx\n",
      "JqU55KmqNxe/2Xs+iHUaTKl6TxoPY7fcfdQ4Vh/E1KdQhrjILo3BsfcLlefXXnrxbhaQNKodnsiO\n",
      "8gH7/qnh8CPmaHNI6QZC6iCzlc03LmOF7HIP2VYis0zyuId9oK6SOdvrNxIB0ObgtmFiqiGAgZG6\n",
      "9GoP/W4QI+hWSq0gC2CsdRvmstJ4II/eyVeiACC4SBzFYqfLJM3OPdbm/JBsTcrHN9a6nigcGguf\n",
      "f8x7qTWDiKr61QmJjyAqNYXZGcLQKbKNLmdHV3QLrHNnbTe9xIbEnbZB1JjjpHMBkDc+VT1XVG6K\n",
      "YLGbDeOp7lRceUMpCG7kbqW4smiWtJgAGNhgLgBJIORdxTafTaJBjYdVzGue7E9lJWrE/TaeY2B+\n",
      "6lXaazegxK2+lJ53A9guMAYxgLTDGaOhga0ZtJTPAgNsSqiXu1G4H0CLwylNV13bKowcTTJgOMvN\n",
      "oClUoinw4YDkyStlBrqjnVHt8BZuIL3PJbEA3ccBBlqNFFup1zsFFj31Q7UYEWK0ksq1ACCfIS1X\n",
      "MDtIA0jACfisfp1HEtoiAcuO6r+EbRaC67upV2lxNjAV/SqvtH1UajzTLnYnwtNIWE2VH0iyxyub\n",
      "ScTIWdb/AFtoOAiTdbqZsCF5dKWxK9Ci7lTWMepw1cti69WjxJIyvn6brrXSrELtz043l7za87qg\n",
      "rFeVTrDqq+tbK3rGPTbWVxVsvHbVI3VBXMZV/pMfP0Kn/ceKqAYAaFTiSCGgmTjzZTo2LqsXe+R4\n",
      "T8QBJ7GQuMrrZ6m4S8OvjCsXQHAC8BwSAXZKYSWAnIF0MCQ+hptY3EXvcKNRgNUVGQSWyZ3Cuwcs\n",
      "i40ieuVnY7UdTTzU3kgdeoUs1qNDef1Gts4Ee/8AsJXg+jIHNTODuCmb+zqNe10sdYdtwqcRJpio\n",
      "2wIh3Y7LTOk4pmXdQHLNxNMNYe7tQ+i9B4FSgyfzAQehWarTL2hpBkX/AFUsXmvDqUiHtaTYOP6r\n",
      "VS5j/Dn2S1W/soIOoukH3iFWm3SyLajv0XHMd98aOHBqP03nvshWcaxIY0loMCyo0OYzRSBE3c7f\n",
      "/CEG0PcSPyMXSTxy36m2gSAxztA/M0XcfKo2nw9OARUcekgKrGHSNXMJ62QfTAFpc4/RLF0P2P5q\n",
      "Ag9XlKajDytoFrexRDXajYHzgLvTc3JB9kQoFI41A/VI6kBu13gyU5pVXtkwBPsg2houHCeyCbDs\n",
      "AbdUjxrdC1OGoQW//Sk9rWgyQPCoz1XBoDB9lmdR1CX/ACjDZWkxPL9kvpE8xB/oE1MYX0XPOkN0\n",
      "j7lZ6lL0mGTLytlelxBcfTbAP3UH6WWrVG6xtupVlQoaxUFjHVek1xLYAXlfimeodF4WihXc5sEt\n",
      "aD3QaHUySC4ohwmwUPXBcWgyUdekSsV0l8bAxroV2NgBYKdcjJW2jWa6ykTV2WN1dpuoSNk7Sukr\n",
      "FjWypAWhtTusIdZUa8hb1ixu12XGodiszalk+pa1nEWtuJEQ3HRI/mMGJhUmWTuXJHWDj1dAWPxo\n",
      "jhZvZNh7gcAA/dDLgewRLpfHayJQpu0cTpjaJUiGtrPqMBhwu3xla9IDibWAKhBpVpaAb6vPX7Km\n",
      "ma0EBriAx4kHoQtFMcjmuG3N2/3dRa2HObf05kduy0Ug605w7xhVNc1pNEMNoAPule2WE4gZ91cM\n",
      "/KRtlLILADac+2VcNeLxDY4hgaZJkgdO6pR4eawvysEnuVr9FpDXlvM4THQTP9lVlLl0mwN3H+i5\n",
      "/wA+un9eJBpeIGcyRsqCiylT6AZG5VQA0TMDqVOtUAu4hrBgLWM6iXlxDqnLTGG9UtQ1agsCGdsn\n",
      "spO45rn2IAwpfiGkma71m2NZf1o9Go75zob0m6b0qbYIbJ/mhZPU4ciS4k97q7KlJzRDWnwhVCXO\n",
      "yGgdnSl0SDzt+qdjadS0AdiE7+HbiY+quJpGtjo7wUC2QQWx5QPDlvyuCBlliB7FArm6MCB2Uajm\n",
      "zLpI6C60zO7kpAixnystPNrvc9pDKb/GF5dXgfUcfUboHZ119G6m1zdlmfSYPzD9ER83XoMpHTTB\n",
      "A3MqGssMN1FexxNAsdrkOB6rC4EGw+yokwuAJ3K1UXFjeeSgw3sxbGUjUZEZ7LNi6y1KlrGFThax\n",
      "a4XXVuEc0Eu9lCixwq9kkW17dN+sBaW4CycO3lB3Wpqh8WamDkgNly0iocqB4i6zynlalYsaA0EN\n",
      "a0YGUjo1HMAhVZEHqLlRDS42xMhVmFP/AJI2EIQQWHMOhO4Q6xtZEDHe8Irny4GDZzUA2KTQbkKt\n",
      "QANAHSxU2M1DcCNJCopSB0i1wIIVmNI1AtG1x3/ylawgGVXVZ1xgFWRmmGIEyLKZZzOg+EwIDjG9\n",
      "/wBExESVUR9LUZf9kajmhs2AG3VR4njGUGy5wAiSei+d4j4y7iXltLUKWNW7lM1dx6nG/FaVEw0g\n",
      "uFpdgf5XgV/i3rPmS89Tj2UHscdYNS21151UMDSGnG/VbnM+s/3fjRV+JVSC1r9JO4WccXUd81R3\n",
      "1XmcXxgZDR8yxN46oCJFlfInt9fWcLxMvggEHIK2taRdpdTdNix0wvnuErisAQZ8L3acM0mCfdSy\n",
      "VJsaR8Qq8O7TxJlm1Vo/UL0+H+IO0tIcCDgg2K8zlr07CRsSvO4aqeC4t3Dk/s3ElsnBWcdJX2Le\n",
      "KLxsQUHFp/KJ8LwG8RWY6WkR0Xo0OKLm84vGFztkdZzWwObMG3sjyuGxUmvY8Z9ijLR8qxauC5gi\n",
      "QxY6vDveZ00z0yFua+d5TQ2DYQh68N7HB2k02rJUbU1WYDfAXu16bXQA0LFUoBrpFp6KjC1riLAN\n",
      "6rXQdpbBygeGm/qQi2gGunVKIs+HCIklY/Qc2vewWsOfERCR+ouk5SkaKLYAutAKy8OScrUBCjRw\n",
      "jHVcEUZBGUTZLBVG8ACnLjlTkNaQOsnwqEmZOALBS08t98rq5liwtsU7WkFnhLZxPS6oBqgbXUHV\n",
      "mywgFTpk2OJMEKjza0lK2xG4G/VBQOzH/KYODS0OB5hCh6hDi23ZGm+b3IwR0WkadXKVi4vjGUGS\n",
      "DEDCLqjmtM7L5zjuINSs7pMIPM+KfE63GcX6AnQ03AWqlSPptkNMC5Oy8yiC7jal4JcvcYJokWcY\n",
      "6LUmMdevO4hgDXOuTgTsvL4p4ZTkT3XuV6LizMNiYXgfEGubTIExHTC2xHg1XFzyTkpQTC43K4Zh\n",
      "ca7Rt+HcQ6lUsJHRfS8LxtWq5oqMAESF8xwtMNqAudBIkL3mjUxnpuggQR2XSexjr9enSrS8ljiR\n",
      "0OyzfFHAup1AeYEJGGG2zgqXFONQsbmSB4WavL2+Dl+lem6jDZaQCvP4Bsx2XtNANOInyuXU1356\n",
      "xh5syQuBcD80rWaF/mAlKaJAMcy815rvz1E2OPQQtLHysxpu3bHkp6ctP9k5thZKuabX7qNThoFo\n",
      "Ks0gi6LmAwbrtPXG+PP0lh5mphL3QGx3V6lEuHykrmU2g3BVZQfReTAI7qXpkGCvQLGtFyovdTmb\n",
      "K0iFNhDsrW0KTXCeVWblZatMLJhhKBZMqgbowhdDwg9MtAYTvie/ZZ6t3iYgAaRv5K0VakgiOabA\n",
      "beVieOdxuYiT1XZyhpkmd4sm16STe95SgwL5FgUjyQQeloUVUusbDKBME5IN0k2GmxKYjBjv4QI4\n",
      "t0iLXmUWPJJGIK6oxofaxN1xEAuIgqjJ8Qrelw5FpObr5r1w6sQLwvX+LvBa6CIA2XzbX6a3lSNZ\n",
      "4DSGce8GBJ3Xu0tQZIjqvA41pZUZWMaXWK9X4fX1NLJmBIW3Ho9d3qPIGwuvH4mkaoLRBnJXuVmh\n",
      "zXZtiFlp02l7joBA2XSOVfL/APTWU3RUJLp2Nkr+AEyH+xC9fjKDtbi0FpGAsbNTnQ5ltzhS8R0n\n",
      "VsJw3BkHWS0xhb6U0iMAgXU3VfSZDQpNqPcJMG6lkk8P1vaWtZLjLplSotNbjB0bcrO6oQCbjb3X\n",
      "qfCuEe8gxLnXK5V15j3fh9Lku0L1Wt5bmFPhOGDKYlaXaWbyf0Wa2XSALySgS2IRLgdyfCQsaYsu\n",
      "dalI8A9b91B1OcTIWsNjt7JXNJGFz65blQpSDcrQCCFlI0uV6ZtdXi/E6/2ocXCjUkYKvqPt4Qz4\n",
      "XRzeTXqcQXQ0EhTY2pqlwK9ksbOLJHNZ+6isdMEALS1IfmCdt0VQIiEAijIEIBGEUV6VbS2BoME3\n",
      "dgeykxoqMcGjkbLiZmTsqcW/W4uMwBAhswpcNxLfTe0xIHKAd12cmTWZIPlS9VwAdptKWrUcKsho\n",
      "7gpdcjm5fdRpYOtF9IxOyqHHRAIWUPIjJCtSJ3kIihk2Odk1xRMmYQnUCJuhUdoZqIgkQ5B89xhL\n",
      "zVbgklfP1uHqgy28L6DinN9QuF1KjS9RwELMrpjwfVNSi7h6kjds7FT4TjDQq6XAgt7r6Ov8JbVa\n",
      "TE/0Xi8Z8DqzLZnutSsXl6tLixVog7kbqLqjmE6AAfK8MfjOE5X0yR1F0zfiLsPeYPWxWp053h6b\n",
      "q4cD6tuyxvawmQ6exUDxmoQXAqXqy4kAuPZa/tmcHcdToOyXWBEAx0G6enw9Wq4Q0iV7Xw/4A+oQ\n",
      "5/KNy5YvTpOPrz+C4KpXqBzhfYdF9h8P4IUGNs0+6rwnA0aDQA0GOpiVsNVlOBACy2M9XNACRxBJ\n",
      "BwldWaXfKCgTTDp0iempYtakPIaLH2AR1HYBSB1dvCoGHclZ1TE2wfKXRbJT47+Si3EKYms7wBfS\n",
      "EGEqlUW3SMbeyzmVrfFmwd0HCLyu0zeSiQI3XVgmowl+YZhU0dMJHMg5UEnU4PVFuESyFwEYRTjC\n",
      "6FwyjJRA9kDKddCD0uKbU1Nvy9GmJCwa3U6NUEcziYMxK38U/W4U95sBk+F5tSkdbnF7tGS7uu1Y\n",
      "jzjr1ESSEA5+oQABt1V65a4gtMB1+im1gBBJm0LFbkUa8Ttqm6syp1KyCC7/AHZMyo5pu5vRXUsb\n",
      "gQHQTkKPFkvp2OM+EzCXRa8KFdwMBwVSfryRS1mD4W3h6GkgdCq06I9QujJAC1ekDnKzI31SaQDP\n",
      "WyL6LXCwv0TNp52O4/qi0EyHCCN1phhrfD6VTlLRe6w1fgFN5PLHsvcd8sOEjZwXB9rEExgqK+fb\n",
      "/pqlqFz7QtdL/TnDtiWn3K9UVGnliD4TCq4iAW+6qRnofDKFBsBg8lam6GNiWAj+JJLnAhxB8QUP\n",
      "w1MwT6c9SMrNrX/RfXp3BqMHhSL6bpPqsI7tJVhRcByem0fwgI+jWBs5pnILYWLa1zjLpYb6yfAI\n",
      "V2MYGwGkhUbQcTdon+aU3pFu4CxZWtKGNiwjynYSBsUwuYmfZPp7BakZtTJJjlF1wBAuSOyoWtjP\n",
      "0QAvZVlB8m0lTFjZai2R27qRYJss2etQQSmudkGWNwnm1lqM0oXFoOQjlGJCsRFzUsKr4hSUUYRX\n",
      "AwgqOMyukowj5CD1ajNT6dRsS0kEn9V53Himym2ixxgSY3kr0/RD61RgH7PTJncrz/iTmsqva2JO\n",
      "IC7Vzn68mtDA0dMlcxsCSb79ktYy256TKzmo68EWi5XK3HaTWguABJOSnYwFowI6rK1xfUBOFsoV\n",
      "NZi1rgLPPWnU8amNsP3Y3Wd1Fvqzvla2AEBK+nEOGN11c0dGkUxGZlVLLWwlvk4CZpgQTcASiOFg\n",
      "STjdMcg7xeFxAsg3lJaWqARvjvsgaQmZ+i0NZa0X2K4UYu1uk9sIrNpMXGoTkIi9mxHRaNBDrggj\n",
      "omFMFoMQOtkNQgiA6m0+yJbA5QJnEqnp0xeXH+QotazTdxP8whZxdICw2cyD1E/0RAlnKRI6KktN\n",
      "g4eEJMxpIA6qYakRUF5/si0GZJv2Co0SSNJjuVz2Fo5dIPQpmro7d0SYgRzeEeUibWXSmGlOOiDQ\n",
      "CqWPZDSDeVcTUyBEgypxdWLIwVMg6lmxZSzC4FOWiENACmL4ACfaV0AZS3WoynUNrKYMqjykCimX\n",
      "R0XBMFcQoMZQ1JyJSFl0NetRrMBu50XmRkrx+Nrft3PcbmyfjOIP4UU2vMTpJXj1HlxLnOcTkX6L\n",
      "p10c8me5xPcKOonIxnuukwJNnBCLafuuPVduYZrnG4sI6QVei64vHQBZ5IF5Pda+EAc7raVibrXU\n",
      "8egZbRLh0tO5VKZJpxFwupsboAzCqxoYdMr0x5azBouLi6UQdWSQYM7haHNk3SenJPdArTBG9lUR\n",
      "YW90DTOLyE9MDceCgppsOW3ZECIuR5TUzodBFjsVYNn5SI6EJhpGwRBddcKbQMCPCfQBAgA9F2m+\n",
      "GohPTBjTkdkjqM2LSO4VTB2I8FDSSLPI8hRdR9OLBzj3lDQ5p+Y+wVC1xOxXDVHyqKUO2kn2XEAl\n",
      "Nafkg9kZGne3VBIWsfaU2ojYFB8nBhRJcNys2rJqpeN0Q9vhQ1E2JlEAhJTFnXwQVMDqi0oiCU+g\n",
      "aV0QiWkXC4LTJYugSITFyU6VFRc4JIVHhIo0NtkZM9kEA7ZVFIQkBLq7roU0xmrNqVWOgYcTIWB/\n",
      "yua8WafqtjtQEAkeFnfSDnEnrspa78xnDg8CMAXXBhvGI3Vm0m7CCnFMrndb8SpCMmVo4cQ47X2Q\n",
      "FONlRrJqMiyvM9Z7vj0qLNLicTC0NAJkBTpU4E3v3V23theh5ag5p1lDRzY+i0PZJ87pSwmJP2RE\n",
      "yJMTfdEAA3+qsGT80Jgz8pxsgQCOhHRO0uaLCfKIpxg23CZpGQQQgYPkXkfcIxIkAFAATIsU9xcB\n",
      "VCSNwfomkEJ9Q3ELiOiCWm8mUrmxeVQjsgRKmKgXDAH1CUunICtA6JCwHZZsqokzgBIQ6ZCsaZSQ\n",
      "eqxY1KiQQbtXTG6rpIyhpF7KSLqckJ2weyEQi0LUSm2QIELsITK0yVwSKhSOFkWEJSxOESUpzZZU\n",
      "YQLQmsRBSkHZUCEJ7pkCL4UE3U1E0rr0HMUdAmEx2lZ20lQUey0sYFj4v4vwfBv9Nzi6p+6wSVZE\n",
      "vSvowEAxtI6n4C7hviHD8RT1hxaf3XCCo1XO4mqAyRTB+qYztepTqio0Q7lVGG+b91GjTik0CSBh\n",
      "Xa2BcBVz8Wbc3wiG3iJCQe8jZMXaQIJW2RjTaCQkJBFjHZcKs2PsiIkn9URw1DeU4EiyDWjVI+ya\n",
      "J3IKDgHA9lVhBCUSgbIHISlDUVxQcUqZAt3CBTICUnsnygQoFkQpuAOypGZQ0gqKkuiU+mChpAUx\n",
      "ZUiDPVMBZPA2QISQ1M2KUqhCQtlAsghKUdMIOwgmRISwn3QUUIXCyNkENGAQhpRhdKYa2V6XpyFi\n",
      "B5j5Vq/FCqJlZab5kqu8nhPiFV7OEcKR0uNpXi0OCAIJEk3Mr2eIaa0NT8LwcmSFcYviHD8I2LAB\n",
      "ejw/DFrRZaafCtaBZaW0yAOiuOd6R9IgQ037oHULOELQW7oETsjOsNRxaAW9bEbdipsrFxm8bhbn\n",
      "0ZwBBU2cKAVPqslcVCNVMym4eq93zSCtvoSOqT0Q10xCsRNtYtfBESqmobcwTekCLgLhSjFx3VQz\n",
      "SeoRMpdMWhcJn5SEDBMLJQjPVAbFcJXQhCAHwjK6Oi66gUmEoxKYoERhB1kFy5FIRCUhM4pNSgBl\n",
      "LO6Y3ukOUHG91Mp7pHBRSlKSjH0XaQgWbruiMAJZQHVKMpZuhKKg5xAIOQpcNVBbCvxTQ2mSLGFm\n",
      "4FjnsBOMgrWO06/xejQp+pBhelSow0foslEhnjK20qgc2Qq49XVgIwbphflwkyEwkWhVgpkbGFJ7\n",
      "3NuAtAvvCDmagoMz6r4nSCMqRrm8alrbSBEKbqEOJCCHrukFoB7gwmFckSWwmdQn8s90zaNoNwgR\n",
      "tY3lhBVG1JwEzaUBEshAhJNoXAGUZGEwg/4QLeEUYRQL7IfZMhCAakuqTayaALruXICg6ZzdCy5A\n",
      "wgDiAplyYlJEoON90kT3TEFCNwooRC4rpKGpApskPhO4wpnMooSguRUUhalLVWEh8KISLroCeJKW\n",
      "ExWf4hVZToOBN4hDgHNNBuk4sVN9L1Te47p6dH0vlELo38x6dL6qjBHymFkpVTPNstIf8pBVc60t\n",
      "c4stlUZUqRcCFFhOm30VWvBtv3RlTUci/ZEPJxM9OqWAQOuxTDYEIibqk3H/AAmL3NHUdUXUxK4U\n",
      "4mMdEC+rGQfIXepJsLI+nBXemBgortZmUpqOlNjAQDZUHQD2XRHhENhGIQC4wuDuohGy77oO8FA9\n",
      "0J6Lg7qg4ibJcBNyneEC0xcSgVAowgQoEIQAhPBQjoilR7hcbJZQcRIU3BUJ+iR18KCRFkvlUIlI\n",
      "Re6ihC4iFyPlAPKBamhAgoEhD2TEJLhAjKZPzCCqOpyFQMiLp9HVdF1m0kTZGm86rjBV2sIOETTE\n",
      "zF8qFUp1RvaVbWCAdlkLIxMrmapgqst7XiITh1lkpF0wVpYeqIrqsNwUC4jwuwuJlECS0A5C67sf\n",
      "RcEbC4RSgGUQiSD5QBUBk+VwvjPQoAyYP1RibGx6oBulMhOZAg3SmQOoQAd0CJwmADhbKUyCoAVw\n",
      "cjM5Ske6Bsi6Ug7XXArvsUAXIyJuEDhACFN26fVspneFFLMISuKTSgJMpDjKaLIQopJMIhyJCCAy\n",
      "uQKWCgeyUt7hAGEdYQatHYLtGpv3Vi3dFjL4W01MNGyAZO3hXDQLAJg1UQ9Kcrm0gHYWnQuDLyiJ\n",
      "BkGU4bumwuQA2XeEcoQoOQEwjuuQd3C7I7rpXYQBMMQhm+65AcZuELtMtXTBRN7tQCA7GeiHYroH\n",
      "grg4Os7PVApAOEtwU5bCBAKgGcJSEYiy6ev1RSzK6SCiRCWUHFoNxnopEQeioUsg2P1QIUPKeI8J\n",
      "Y2UCwDul0p9MXCElRSkWuliydLCBVyMRlC4QCF2kdJRBhdI7Kj03M2KIG4Vy0G6SBC2zpAJTwAus\n",
      "EJQEELgUmCigMzlKjKCgGEUEYUA3XZRQhAUEcoKg47FHaQguBgqALgYRI+hSoGcARISyCL5XTBRI\n",
      "DhI+iDgSLG4QI3CAPXCMkGyKWYQI6JiA4WseingygabJCJEom+EupAMIEdE5E4SqBQYx9F0DIXFq\n",
      "DZbdByBsUxvcfRD2QISlmFQhKQCgUkIEiLolqRFA5QRMHCGkqD2y7lMYwl1SgL0wlW2TTKAMIBFB\n",
      "09UUuyIQcuXBcg5FAIqBSiuylm6BlxXLkHSuAlBUphUM1komkr02hUc0RhVHnuYUlwVse0KDgLqK\n",
      "iTuPdDVsVzhBsk3UU+6JAdnP6qYJsEwQKRB6JSNwqn5fCmcqACUTfyuXBAh6bIFOUpHKgUlcXT5Q\n",
      "IQ3QLJQMp4BgoIpZlDZNAK4BAmldCeEYCD//2Q==\n",
      "\n",
      "--===============7185366117450407692==--\n",
      "\n"
     ]
    }
   ],
   "source": [
    "arqNome = 'summer_300x300.jpg' #Nome do arquivo que será anexado\n",
    "arqAnexo = open(arqNome, 'rb') # Abre o arquivo que será anexado, como binário\n",
    "payload = MIMEBase('application', 'octate-stream') #cria um payload a ser adicionado no e-mail\n",
    "payload.set_payload((arqAnexo).read()) #lê o arquivo e coloca no payload\n",
    "encoders.encode_base64(payload) #codifica o payload, em base64\n",
    "payload.add_header('Content-Disposition', 'attachment', filename=arqNome)\n",
    "msg.attach(payload) #adiciona o payload à mensagem\n",
    " \n",
    "print(msg) #visualiza a mensagem, inclusive com o anexo"
   ]
  },
  {
   "cell_type": "code",
   "execution_count": 42,
   "metadata": {
    "colab": {
     "base_uri": "https://localhost:8080/",
     "height": 649
    },
    "colab_type": "code",
    "executionInfo": {
     "elapsed": 3656,
     "status": "ok",
     "timestamp": 1592771314046,
     "user": {
      "displayName": "José Vinícius S. Barboza",
      "photoUrl": "",
      "userId": "14879123349351999351"
     },
     "user_tz": 180
    },
    "id": "Mtaj42rHja7Q",
    "outputId": "a7ca4bd0-09a0-4733-c82c-0c4ab4d6d4df"
   },
   "outputs": [
    {
     "name": "stderr",
     "output_type": "stream",
     "text": [
      "send: 'ehlo MacBook-Pro-de-Fabricio.local\\r\\n'\n",
      "reply: b'250-smtp.gmail.com at your service, [187.59.54.62]\\r\\n'\n",
      "reply: b'250-SIZE 35882577\\r\\n'\n",
      "reply: b'250-8BITMIME\\r\\n'\n",
      "reply: b'250-AUTH LOGIN PLAIN XOAUTH2 PLAIN-CLIENTTOKEN OAUTHBEARER XOAUTH\\r\\n'\n",
      "reply: b'250-ENHANCEDSTATUSCODES\\r\\n'\n",
      "reply: b'250-PIPELINING\\r\\n'\n",
      "reply: b'250-CHUNKING\\r\\n'\n",
      "reply: b'250 SMTPUTF8\\r\\n'\n",
      "reply: retcode (250); Msg: b'smtp.gmail.com at your service, [187.59.54.62]\\nSIZE 35882577\\n8BITMIME\\nAUTH LOGIN PLAIN XOAUTH2 PLAIN-CLIENTTOKEN OAUTHBEARER XOAUTH\\nENHANCEDSTATUSCODES\\nPIPELINING\\nCHUNKING\\nSMTPUTF8'\n",
      "send: 'AUTH PLAIN AGZhYnJpY2lvbWZlcm5hbmRlc0BnbWFpbC5jb20ARGVib3JhaDQ2OTE2NzY2\\r\\n'\n",
      "reply: b'235 2.7.0 Accepted\\r\\n'\n",
      "reply: retcode (235); Msg: b'2.7.0 Accepted'\n",
      "send: 'mail FROM:<fabriciomfernandes@gmail.com> size=10807\\r\\n'\n"
     ]
    },
    {
     "name": "stdout",
     "output_type": "stream",
     "text": [
      "Enviando e-mail...\n"
     ]
    },
    {
     "name": "stderr",
     "output_type": "stream",
     "text": [
      "reply: b'250 2.1.0 OK q194sm12927664qke.90 - gsmtp\\r\\n'\n",
      "reply: retcode (250); Msg: b'2.1.0 OK q194sm12927664qke.90 - gsmtp'\n",
      "send: 'rcpt TO:<fabriciomfernandes@gmail.com>\\r\\n'\n",
      "reply: b'250 2.1.5 OK q194sm12927664qke.90 - gsmtp\\r\\n'\n",
      "reply: retcode (250); Msg: b'2.1.5 OK q194sm12927664qke.90 - gsmtp'\n",
      "send: 'rcpt TO:<faskt8@gmail.com>\\r\\n'\n",
      "reply: b'250 2.1.5 OK q194sm12927664qke.90 - gsmtp\\r\\n'\n",
      "reply: retcode (250); Msg: b'2.1.5 OK q194sm12927664qke.90 - gsmtp'\n",
      "send: 'rcpt TO:<faskt8@yahoo.com>\\r\\n'\n",
      "reply: b'250 2.1.5 OK q194sm12927664qke.90 - gsmtp\\r\\n'\n",
      "reply: retcode (250); Msg: b'2.1.5 OK q194sm12927664qke.90 - gsmtp'\n",
      "send: 'data\\r\\n'\n",
      "reply: b'354  Go ahead q194sm12927664qke.90 - gsmtp\\r\\n'\n",
      "reply: retcode (354); Msg: b'Go ahead q194sm12927664qke.90 - gsmtp'\n",
      "data: (354, b'Go ahead q194sm12927664qke.90 - gsmtp')\n",
      "send: b'Content-Type: multipart/mixed; boundary=\"===============7185366117450407692==\"\\r\\nMIME-Version: 1.0\\r\\nsubject: Exercicio 8 - Email com Anexo\\r\\nfrom: fabriciomfernandes@gmail.com\\r\\n\\r\\n--===============7185366117450407692==\\r\\nContent-Type: text/plain; charset=\"utf-8\"\\r\\nMIME-Version: 1.0\\r\\nContent-Transfer-Encoding: base64\\r\\n\\r\\nRXhlcmPDrWNpbyA4IGRvIFNNVFAuCnRlc3RlIGRlIGVtYWlsIGVudmlhbmRvIHVtYSBpbWFnZW0g\\r\\nZW0gYW5leG8sIGRvIGFycXVpdm8gc3VtbWVyXzMwMHgzMDAuanBnJyAKCg==\\r\\n\\r\\n--===============7185366117450407692==\\r\\nContent-Type: application/octate-stream\\r\\nMIME-Version: 1.0\\r\\nContent-Transfer-Encoding: base64\\r\\nContent-Disposition: attachment; filename=\"summer_300x300.jpg\"\\r\\n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\\r\\nIQ3QLJQMp4BgoIpZlDZNAK4BAmldCeEYCD//2Q==\\r\\n\\r\\n--===============7185366117450407692==--\\r\\n.\\r\\n'\n"
     ]
    },
    {
     "name": "stderr",
     "output_type": "stream",
     "text": [
      "reply: b'250 2.0.0 OK  1593869864 q194sm12927664qke.90 - gsmtp\\r\\n'\n",
      "reply: retcode (250); Msg: b'2.0.0 OK  1593869864 q194sm12927664qke.90 - gsmtp'\n",
      "data: (250, b'2.0.0 OK  1593869864 q194sm12927664qke.90 - gsmtp')\n",
      "send: 'quit\\r\\n'\n"
     ]
    },
    {
     "name": "stdout",
     "output_type": "stream",
     "text": [
      "Finalizando conexão...\n",
      "Fim.\n"
     ]
    },
    {
     "name": "stderr",
     "output_type": "stream",
     "text": [
      "reply: b'221 2.0.0 closing connection q194sm12927664qke.90 - gsmtp\\r\\n'\n",
      "reply: retcode (221); Msg: b'2.0.0 closing connection q194sm12927664qke.90 - gsmtp'\n"
     ]
    }
   ],
   "source": [
    "try:\n",
    "    #Conecta ao servidor\n",
    "    conn = SMTP(SMTPServer)\n",
    " \n",
    "    #Ativa o debug, para mostrar mensagens\n",
    "    conn.set_debuglevel(True)\n",
    " \n",
    "    #Conecta ao servidor smtp, passando login e senha\n",
    "    conn.login(usuario,senha)\n",
    " \n",
    "    try:\n",
    "        print('Enviando e-mail...')\n",
    "        conn.sendmail(remetente, destinatarios, msg.as_string())\n",
    " \n",
    "    finally:\n",
    "        print('Finalizando conexão...')\n",
    "        conn.quit()\n",
    "except:\n",
    "    print('Erro ao enviar e-mail')\n",
    " \n",
    "print('Fim.')"
   ]
  },
  {
   "cell_type": "markdown",
   "metadata": {
    "colab_type": "text",
    "id": "JWmYUt0DKt5t"
   },
   "source": [
    "### Atividades\n",
    "- Envie um e-mail com um arquivo o formato PDF como anexo.\n"
   ]
  },
  {
   "cell_type": "code",
   "execution_count": 43,
   "metadata": {
    "colab": {},
    "colab_type": "code",
    "id": "z73KI3J7mywN"
   },
   "outputs": [],
   "source": [
    "remetente = 'fabriciomfernandes@gmail.com' #endereço de e-mail do remetente\n",
    "destinatarios = ['faskt8@gmail.com'] #lista com endereços de e-mail dos destinatários"
   ]
  },
  {
   "cell_type": "code",
   "execution_count": 44,
   "metadata": {
    "colab": {},
    "colab_type": "code",
    "id": "F-VD0yYXmyrn"
   },
   "outputs": [],
   "source": [
    "titulo='Exercicio 9 - Envie um e-mail com um arquivo o formato PDF como anexo'\n",
    "corpo = \"\"\"\\\n",
    " PDF como anexo.\n",
    "\"\"\""
   ]
  },
  {
   "cell_type": "code",
   "execution_count": 45,
   "metadata": {
    "colab": {},
    "colab_type": "code",
    "id": "G2z6uKZXmynj"
   },
   "outputs": [],
   "source": [
    "msg = MIMEMultipart() #Objeto do e-mail\n",
    " \n",
    "# Informações básicas\n",
    "msg['subject'] = titulo #Título\n",
    "msg['from'] = remetente #Remetente\n",
    "msg.attach(MIMEText(corpo, textoSubtipo)) #Corpo do e-mail"
   ]
  },
  {
   "cell_type": "code",
   "execution_count": 46,
   "metadata": {
    "colab": {
     "base_uri": "https://localhost:8080/",
     "height": 1000
    },
    "colab_type": "code",
    "executionInfo": {
     "elapsed": 1121,
     "status": "ok",
     "timestamp": 1592773327619,
     "user": {
      "displayName": "José Vinícius S. Barboza",
      "photoUrl": "",
      "userId": "14879123349351999351"
     },
     "user_tz": 180
    },
    "id": "Q8oU_WlmmyZJ",
    "outputId": "7754451b-47ed-424f-cc26-729bcd84d84c"
   },
   "outputs": [
    {
     "name": "stdout",
     "output_type": "stream",
     "text": [
      "Content-Type: multipart/mixed; boundary=\"===============6811266423642279873==\"\n",
      "MIME-Version: 1.0\n",
      "subject: Exercicio 9 - Envie um e-mail com um arquivo o formato PDF como anexo\n",
      "from: fabriciomfernandes@gmail.com\n",
      "\n",
      "--===============6811266423642279873==\n",
      "Content-Type: text/plain; charset=\"us-ascii\"\n",
      "MIME-Version: 1.0\n",
      "Content-Transfer-Encoding: 7bit\n",
      "\n",
      " PDF como anexo.\n",
      "\n",
      "--===============6811266423642279873==\n",
      "Content-Type: application/octate-stream\n",
      "MIME-Version: 1.0\n",
      "Content-Transfer-Encoding: base64\n",
      "Content-Disposition: attachment; filename=\"declaracaomatricula.pdf\"\n",
      "\n",
      "JVBERi0xLjQKJeLjz9MKNCAwIG9iago8PC9EZWNvZGVQYXJtczw8L0NvbG9ycyAzL1ByZWRpY3Rv\n",
      "ciAxNS9CaXRzUGVyQ29tcG9uZW50IDgvQ29sdW1ucyAyMDA+Pi9UeXBlL1hPYmplY3QvQ29sb3JT\n",
      "cGFjZS9EZXZpY2VSR0IvU3VidHlwZS9JbWFnZS9CaXRzUGVyQ29tcG9uZW50IDgvV2lkdGggMjAw\n",
      "L0xlbmd0aCA2NTA4L0hlaWdodCAxMTUvRmlsdGVyL0ZsYXRlRGVjb2RlPj5zdHJlYW0KeNrtnQdU\n",
      "FFfbx2cLsLvAAkvvIKAgIGosscWIolFjLLFEfDUmsSS2aIxGJZrEmKYmMdYkat7YYsBejhhjr2BE\n",
      "BUUh0ntbOruwbd7/7iBfPgIquzuKh/s/Rw9zZ+bOM/f+5nmeOzt3hkPTNEVEZGxxCFhEbKjFYMnT\n",
      "0pXZOSppKS2XY0+eSMSzk5h6egg8PJ71uRC1IrUArNIDh2ti/qq7n6TMzFZJpRqZHIVcgGVva+bl\n",
      "adYxwLx3D5sRwx9RQ0n1faWmmqJwRE6LrKQpmkeZOIq7NCovl2XKVSVUy32uzgJaKbPwcPZns3nb\n",
      "rp4IrNLDR8ujDtVcvFKXm8rRMsHjUNyHcGB/DUWpwJipp6/Fy/1swsdbDx7070piM9fmVl5Va2R6\n",
      "WAmwuBTfWugb4jLT3qIjU3ivYG+a9IRcJdWPVPwv5EuCnN70th38lBu9LejxYOV8/Gn5rsi6rFQd\n",
      "THxdBzbRi7quUuKfWTs/2xlvOX+08J9r47I33cj5XqGq4HB4+hmK+jW0MtjpnVC/NVjMr7x5+sGc\n",
      "cnmKzio9pabrbEWBw/x/lZj7stvMbU+PAqs2Nzf/45Xle6JopVyH1OO9Aq11YAqe0Eoy7U3TWdOc\n",
      "/OsDzbHE8Myys1yOCYfTMtfyT6k1ChuRX5jfZgfL4BtZ62/lbVSqZRyO/mDB3Fp1+ajAA962Yew1\n",
      "cdvUo8BKnzqjbOfvFK3iUC1zMzSl5PAEdvNmun/3DVNy5O747PILXK6Z/lhRlEajshC4Dmm/1Unc\n",
      "OSbj64SCX1RquSGkwtA6TeVw/x1+9iON2ahEjwArZ+mK4u820orallLFCGxxTUXOa1Y5zptF1YN1\n",
      "kcs1NRAsS6Hb4PY/O1kCrG/uFGxXGgesnX72rxmzUYmaA6v04OHc+R8ps7M4FF/vqjVUnZmXr+fO\n",
      "bZb9ehOw2pqaBiv19fCKgwefMK9qTrp8q9Z+7gKP9WuO3p+YJT1HwGo7agIsadT+vAXLlHlwVyYG\n",
      "1o6AaOLk4rVvz3nHLZmFpwhYbUdNgJU154PiTRs5lKkh7oqRzmnJ3L5dfy30bE7NNe2o0IDaCFjP\n",
      "kRqDJU9Ly5n5fuXpk1xKYJQDaCi5zfjwuLfTisTpHJpHwGojagxWxelzufM+rL1/Fx7LKAdANBQG\n",
      "dYpfViNtV8FVG3DPiYD1XKkxWNLfonI/WKIqzDdkPPj/peFZS+6u5pWFqLkqg2IrAes5UmOwirf9\n",
      "N+/DCHVFuX63r5oSzeHyE9ebl3fncVUGVUTAeo70b7B+zVu4TF1pXLB4OrD4BKy2o6ZC4YIlqiKj\n",
      "hkIrm7tr+CQUtik1Bqv8z7O58xbVJRkzeRcEdkqIIMl729K/bjekpmpvN5z5w5i3G8aFx71Dbje0\n",
      "LTV1g3T2guLNm4x4g9R17Q8xoWdzZDHkBmnbUVM/6eyNQv6uzM81PM3S/qTj4OK1f8955y2ZBeQn\n",
      "nTakZn6EHjOx/NAhjhF+hJbbz5nvseFb8iN0W1PTYEn3HcxbsESZm23gYzOmnj6eO7eJX+pDHptp\n",
      "a2r2Qb/sjyJKvt9MK+v0f9DPROi8+nPH+XMo7YN+43RgtcInSCuG++8iYBldj3w0efI7ZbujKEqt\n",
      "z6PJXDPbOdM9fljLlBy/NyWj9JSBz7yrNHV25h0H+W60twy8mbM5Lmfdw2fe9Ztzqz13hbpqVNAB\n",
      "L8lAFtq2TetRYMmzsgqWf16+Zx+trm3ZZAqBWPL2ZMeIRWYuLkz53fxd17PW1CjyKX3BomkNuOzi\n",
      "OquP93JKN0XxTMr7RdXxesz9+r8qabWTuMeQ9j9aCT1Zb+k2pieY/rXsk7KdexW56bp8i9ccXrrp\n",
      "Xyqa0ph5+dpOm+ocsbjRBrdzt+VWXFFr5HpYqWWHw7UVdghyfstKWD/lOq3kZIr0mHZeoZ4vCaAF\n",
      "JrbBTm+5WHVntYnbpp5owmrZwSPl+w5Vn7+iKEh7OLuQmbBKMxNWaW245Ji6eluE9reeONZ6aLNT\n",
      "QCvk2XrZSVeWy9ybmrVcIc/SzZhtaX3ac7cWEUfFllowxV6674As5q/ae0mKjCy1doq9DLtzRSK+\n",
      "vZ2pt4cgMEDUq6dkFMmCibRqFqx7Bb+X1NxR0w9/N+bxuQIzjUxel5KqyM5Wl5ZpauUcmsMRCfm2\n",
      "ElNPd1Nvb65QqKmtpdRqhEUTrsjdZoCnTf+GCtOlp/Mqrio1NXpYCRO5HJ6dKCjQOfxZtxjRE6lp\n",
      "sOKyN97K2yRTFDHbPCym4aE4fB7F43G43IZXN9DaSAgC1RStYTYGWIiMtiL/Pt4rvSShlJaqP2Oz\n",
      "vi6uTtBQGr1uumoPIzK17+6+qLPr9GfdaESPV1M/6dQ8OJfyQX5lDI8raHYMRzd6hwP972oxku/q\n",
      "Oucln1VYPpk0M7XkKIfDN+BuA0epljmJuw/0XWdr3uFZtxvRY9QEWDnl1y6nf1xSc4/HNWj6Fzjw\n",
      "dxjvL57n4ezPTLHncc0MqVB3g9RFd4O0iyH1ED0FNQNWhg4sysSQ5xt0YE3wF8/VgTVB9+4GQ3/S\n",
      "IWA9L2oOrOUlNYmtECxLgav2t0ICVqsXAYuIFRGwiFgRAYuIFRGwiFgRAYuIFRGwiFgRAYuIFRGw\n",
      "iFgRAYuIFRGwiFgRAYuIFRGwiFgRAYuIFRGwiFgRAYuIFTUJ1lUdWEZ50G98L8/llgJn47y7gVZZ\n",
      "mJEH/Z4PNQFWXsX1S2kRxTV3eFyDXuqnUNd0dAwPa78Bfx+9+0ZW+TkD392g1iitBB7wWI7ikGfd\n",
      "bkSPURNgZecnxZd9mV4azeWY6Dt7naJpNU1penos6eHxARYvp31yp+C/ao1C7w9hokqVWu5rN7Kv\n",
      "9+dWQvdn3W5Ej1Ez78eSnkzI21ZRmwY+9GKL5nHNnCy7v+A219ZcO325tCb1Zu4PeZWxak2dXnbS\n",
      "INLS1K2b+0JPSX+9aiB6qmp2wmpJdbJUlqj1MS0Hi6ZoU77Y125Yo/LUkmiFulKvb4PTcJ8OFiHk\n",
      "G7vPi1owxZ6I6Mn1CI+VVCpLUtPKlr7RSlsdTZvyLHzshv6zPCs/SWmSoVRX614d0zIrYSSXw7c3\n",
      "D5KY+/2zPLvsYo2iiG65U9XO1aYpSzM3V+te7DRsW1fTYKVJTyXkbyuXpWgoPT8mwecKnC17dnWd\n",
      "Y2uhnbWsy7E25FVeU+n1GiOtoRTPSuDZzW2Bx8McKzZzdVpptFxZqueL12hKaCLp6DgphMzZZ0FN\n",
      "g3X83pQ0abRuJrSxRoWfJhRs12iUhowKlWqZn93ovt4rMSrMkJ4+m7JApizWvdFPTyM1GoXARDIy\n",
      "MMrBkty/MLKauY+VHlFcfYfHMTXkBqlCXQ1/8PA+1oSs8vMGv4NUKRZ4Dm7/k6M4JDZzbUL+z4a+\n",
      "3JaiapVlrwVGNYraRIbreb3zHpPx9Z2CX4zy1uRh/jva2480ZqMSPYe/FboMrgeLvI67Veu5A6v+\n",
      "R2gCVisXAYuAxYoIWAQsVkTAImCxIgIWAYsVEbAIWKyIgEXAYkUELAIWKyJgEbBYEQGLgMWKCFgE\n",
      "LFZEwCJgsSICFgGLFRGwCFisiIBFwGJFz+u3dIz4oB8Biw2x/fWvBrDG68Ay8NFkgOU6pN5jGQks\n",
      "dcXwgN1+9iOM16REWjX5vcK/z6UsZL5XqK/H4lA0rVRXd3Gd9ZLPF5T2e4UzUqXHtJ8r17dCjo5U\n",
      "J3H3UJ91dhYd7uTvjMn8QqGu1n6dWq86ORRHQ6vVGsXooIPuNv3Ya+K2qea+sLrhdt4WmaJI38ms\n",
      "2hnxNsL2fb0+87IdSGnnk/1xPWtNcU0CTbf8w+AP6xSa2HV3X9jZdQalm6WYUPplVvlZtaZWDyN1\n",
      "30nX8Lkib9thFmVj+/Ua3PI6iB6lZiesJhbsKa6KV1MqPdwB6jThiTxtwjwlLzcUpkv/zK64oFTJ\n",
      "9IhdqBCkOliEBDlPbigsqU5KKTkiUxbqcdrMrFoLM2d/h4nkFSNsiEyxJ2JFjwKrsjZX93IYfXyW\n",
      "jahdkyvKZOl62UlzOaZWQrdn00hELVfTYJXVpCYVR5bI7mtoPUMhnyf0sB4Q7DyloTAh75eciisq\n",
      "jUwPK5l3N0hEHQKdplgLPdloiJMnTyYnJ0ul0vfee+/AgQNcLnfWrFnMqh9++KFbt259+vTB33v3\n",
      "7r1//z6Golh0cXG5ceNGWVkZn8/HKpVKJRaLX3nllejoaIlE0rlz5+PHj2s0GqyF/VhraWmJzRQK\n",
      "hb29/bhx4/B3UlLSiRMn+vfvj8JLly4JBAIcV61WY7F37944RH5+PjZITU21sLDo3r17WFjYP20+\n",
      "evRoWloa/sAuqDM0NBTbox4ej4fj1tXVjRkzRigUnj17tqCgQKlUwrwOHToMGTKE2X3nzp3l5eUa\n",
      "naysrGB5RUUF2qG2thYn6O3tjbMYPLg++zx16hRO3Nra+s0332RKLly4kJCQMGLECC8vrycF62Jq\n",
      "xJ2CX+GudBPY9RGIFJk49PNe5e84Fot383fFZn1ToyjQu0Jk/UizurrO7uO9gg2w0F6AJi4uDv3x\n",
      "8ssvo2U///zz+fPnozVDQkKWLl362WefrVixYvv27QAFHT9p0qR+/fp9++23gAO7AAgzMzN0xrp1\n",
      "6yZMmODv779o0aJp06ahO9F56Gl0qrOz87Zt21B5ly5dzpw5g4P+/vvvEydORCXYHYfD/zKZDAyB\n",
      "wo8//njQoEEoPH36tLu7e25uLroZrMOkhp7evHnzH3/84ejoiEUccdWqVah2yZIlrq6uYBSU7N69\n",
      "G6tmz55dXV2NSgoLC2HJ0KFDsSPKO3XqBC6xO8Dy8PCAGbdu3Xr33XcBH3AsLi4ePXo0zsLNTRso\n",
      "XnvtNVwwqDY2NrZjx44o+fDDD7ds2XL48OFGuDcLVlFV/PnUxYXVt/hcgSFdVaeqDHGZPsB3Df4+\n",
      "njg5o+xPLsfEkNtOKk2dnXnAIL9N9haBRgdr/Pjx+/btu337Nq7XF198ES0IH4BGBBZoR4D19ttv\n",
      "A4j27dtv3bq1srLSxsbGwcEBvuTmzZtff/21k5PTvHnzfHx8UIjdAwMDgendu3cBytixY9u1a/fT\n",
      "Tz+hU8EWVsH3xMTE4KDo+MmTJwNZVA5Af/311z179ixcuBA+DA4PiPz222+ffvopfElRUdHUqVOx\n",
      "y/nz54ODgymdt5szZ058fPzatWsBNAzu0aNHRETEl19++cknnwwbNgwwvfDCC+fOncM1A8cDvHA9\n",
      "4FhXr14F/e+//z6sgicDLsxVAccDHwaSsPuoUaNQFZwfzmL48OHXr19H+6BB4KFxIjNmaAfmOPqm\n",
      "TZuwO8x7IrByyq9czlhh6J13mlLSMn/7CQHiue7aG6TjdFPsjXKDdKuTuLPRwXrjjTciIyMBFtxP\n",
      "z549//Of/6DX0RkfffQRruZly5a98847KEcfwJfgal65ciWzY2JiIoMOugr9l52dDSbAInqlvok5\n",
      "HJCEvsHfABGuBYvo3Qaw0JGgB4tfffUVDgQ3Bp+Xl5eH+Iv+BtyAFWsXLFgAIODDYAAD1ty5c+/d\n",
      "uwcv6OfnB7DgWhiwQCS8CDCCT0UcxLnAeJRjG3A5cODAoKAgEOnr6wuwoqKiYCHCNC4beCBUjgrh\n",
      "q8LDw0E/yMb2a9aswflu3LgRPhtYI8TDABwdJS0CyxjvbtCBFeAwwd+SAcsY727QqCyFbtrfCi1Z\n",
      "BwtO6IpOO3bsQBoBvFCCFkfHgyr0AfwT40LgsdAH8Bm4lIFgVlYW1jYCC54D1zr+TklJAVhwLQxY\n",
      "8E/o9Qaw0Hn4e9euXShEBgO30atXL1hlbm6OSkDhlClTEF7hMhmwEBYRCuEsEcsQYUEPqoVPAo7w\n",
      "jrgGEBmRNeLUYCqIBD1wYwipiMsoB1gAHZUjRQNqyK5waODr6emJQvhaXFeIdzgWLEHQROWoBzkf\n",
      "Do0zJWDpAxacB9wPfAZS3cuXLyOjX716NaIkPMSxY8c2bNiAoPbjjz8iv24RWOhIrOrateu1a9ca\n",
      "wAJPy5cvbwQWtkeHIbYCDpFIBErgrtDr6Gn4DwYswA1HiJAEtpBXwc3A33zxxRcI3DAeHgvmMR6L\n",
      "AQs8YS8wBA+H3JHxWPv374eFSOyQSuIUUD8wAhVHjhxB0gYXiC1RAzwcdkxPT0cagIZCZMTR0Q7A\n",
      "sWE0QMB6PFhMZ8MH/PLLL7h8ce1+8803yLcwLEJSjAwXeCElQhBsEVhYi8iCEqQ+QAGHQOchAKHC\n",
      "RmBhEZWgU+G6XnrpJTgV4IhRGEAZMGAA9TAUPnjwAASACeZYQAqeFaEKiRFTgpEjoi2yIuCIvsZp\n",
      "IvYxAxFQizOC62K2xCGQvwNNZE44FrwjQjDQx+gB7OIUEAQRoA8dOoTzhZEMWIx5BKxm9frrrx88\n",
      "eBDDIrglBCC0O1of/YrWRIsvXrx45syZr776KtIUjAr/+usv5NeIjLjoMZAcN24ccix0AFMVrn5k\n",
      "6MiNGsDC+AtXPLPIJFIYeWE4Bvj69u0LQLE7VoEqsIXgi07FIroQHABrjAYyMjJgDEDHQZl6ABZM\n",
      "QmzF8BCHYwqRXeECABC4AKqqquClML7DVQGfhxCcrhOYY5IkXAbICHEKYACJOQYNOTk5cIoItQi4\n",
      "oAcNgi0PHDgA34z/x4wZk5+fj8umtLQU7hBDVFwSdnZ2sBBtMn36dCQMBKzGWr9+PUIeLmulUgmq\n",
      "4IrQjij/+eefcVEizULjok1BHkABeXAqzKgbXYVUAx2DTmWqgnuANwIlzCIycXQeIhSziDEakneM\n",
      "0lUqFVwjglRAQACzCh2JZBmDACTdTMnFixe3b98OqhDFgD6T1TUI+XhhYSGCl7t7/a9S8EaoAfSj\n",
      "W+VyOTobhsGVwtMg8XJxcRk6dCiOAnYp3WgAoNA6AUSQBG8NF4WjhIaGwkK4pUmTJoHdzMxMHAVe\n",
      "GXvBxcKvIzFAs+BawlWH3ZHSgVdsTMAiYlcELCJWRMAiYkUELCJWRMB6SjqXstjKzLOr++xnbchT\n",
      "EgHraehWzk+ppcfGdjr+rA15eiJg1aukJqlSnkHTajO+tZtNH6bwbt4OgYnE9+FUi9TiEzgxPk8k\n",
      "EXawFLpQ2i9upORWXrY3D2G+zZlZek6pqfXVvTX+fsE+F6ueVkIP/J1UdKBOVRHi8rbRzW61ImDV\n",
      "K/L2kFJZkoAvqVEU+Ni+OjRga3LR4eikNy3MXEcFHbIz7xCXvfFSeoTYzEOuKnUR9xzg8621yPti\n",
      "asSNnO+9JcNe9lltI2oXeXtwXsXViV0uOIlf2HzFvYvr7F5eS7Lzkw6l9jXlWvb2+qSTy1SjW946\n",
      "RcCqV+TtQSITxxGBe07cn5ZeGj27T+75lKVppcc5FK+b+wfBzlNuZH2fXHLo1Y6/ZZaejs36KtR3\n",
      "nY/d0OOJU/KrYuHkBvltcLHqsS9+eF5lTIjzdB/zqScyX+3sPLOn56K/i478+eA9a4GPnXngEP8f\n",
      "jW556xQBq16R8WGmXHGY36armSvTpSdn9k6LvB1mJfCuVuRbCbzC2m+4kbXuXtFeAJRfGXu3YMdA\n",
      "v418rtn51EUSkX9hdVxP98XtHUYDLKnsHo8jGBN8eP+d4QxY8GqppdF+diPTpCemdIs1uuWtUwSs\n",
      "ekXFvyJTFCPG5ZRfdrXqDdey5arXix5LS+X3C6tuhXe9EJe94Xr2Wnvz4MraDDfrfgN8v39QfDg+\n",
      "/+cgp6nJRZHO4hf7eC+Puv2KKd+iuPpOV7e5f2Wv7eIyG2ABULGZl5ck7HL68tHBRxFVjW58KxQB\n",
      "q15R8UPqVFW+tiOEJnadXaenlkT/kTy9s8t7wCi/6sbwgJ255Zfi8jYGOLxRXB1fq6oY6LchTXr8\n",
      "ftFvHR0mp0qPi0wdRgb9DrDEAg9TnmVR9W2pLKm72/wenou2XPXwtA6zs+h4M2djv3arAp0mGW5t\n",
      "61czT5CmryiRGeMJUocJAUYFi70nSBEKRXwH5FjM4qW0FYkFuySiDipNrVxZ3NNjsVItv1e4e0Rg\n",
      "ZHbZhZisL3t5RiAmppVGi808ZcoiDoc3Jujwyb9niEzsu7rORdYvV5b18FhoZx4cnfSWrSgA7Yxh\n",
      "QTvbV0L9vjO68a1QTYBVUHnzQtoSXJc8rpkhVStUVUHObw3UteOxxPDMsrMGPvOu1ihsRH5hfpsd\n",
      "LION3hB7bw0QmtiOCtrPLCJ+cSn+uM7RJTXJ++OHYJxob94poWDba4FRORWXYzK+CHAKzym/5Cru\n",
      "3bfdp7dztyIzGxW4/0LaUoA1MijyaOLEzLIzPdw/VKhrEgt2vNs7A3XCn6k0ckRVoxvfCtX0LJ3T\n",
      "f7+fVBSp/b6t3t+YpFUmPIu+Xp8Fu2hnC8XlbIrLWVenqtC+akEv0do5YOpgp7cG+K1hoyHOPFgg\n",
      "4EuQJzGLRxPD3cR9u7prZ4CdSp5lyrNyt+7/d/H+oQHbMkrPJuRvc7LsViZP8bEd7ms3vLAyHj6s\n",
      "q9s8JFvmpk69vJalS0/fyPmuk/M0qSy5ojZ1qL/2ISpkaXmVsSMCd7Nhf2tT02AVVt66W7CrTJ6s\n",
      "odV6fG8Zgrdzt+rfw/ODhuKYzNV5FVdVdK12g5bXyeFwrYU+XVzeQ7LCRkNU1uaKBa4Ni6WyFInI\n",
      "l/k7Oz/JysYSa0trUiXmPpRu2m11RZ2VtYX44RxaafXfthbtK+U5DSWFVQmOlp20+/5js5LqZDuL\n",
      "tpq8N6io6o52JrQ+Pos249lIzH0blUprkhXqKn3MpGnkZ47kA7vPj8i7G4hYEQGLiBURsIhY0f8A\n",
      "XUXVOAplbmRzdHJlYW0KZW5kb2JqCjUgMCBvYmoKPDwvTGVuZ3RoIDExMDYvRmlsdGVyL0ZsYXRl\n",
      "RGVjb2RlPj5zdHJlYW0KeJzNVr1u20gQ7vkUU8qAveLyn+kYam0wkEhHpN2cDweapHwMRK1MUg6Q\n",
      "tzNcBFffEwQpDlekSpfqZsmIEmlbDuDmJEicXc7ufDM7883eSm8jSTXAkg2IUolF0ntJgXdiloKM\n",
      "X/FvaQpEhTQ+pUBRWkijo+iD0N2pyJAU+4sUVSaKArpNiWG0ixWgmlgsNyrljTSaAAMXpuDAHH+f\n",
      "4QECsbEMN09s/tvv+EwbcM+bRVu6qhBL7+PtTMpE1VTVgugjilQ1VVRMpBHsfyZZsozLuODVMaxR\n",
      "AF7BIl9VEMPtJoMqw9GnrMwKWGVJVlVfylyoindb9I2zfcujU+ft3HO9ACZsqyY3OASCffxUJbTB\n",
      "v4fatExNb1GrVLOtBvWMTZg3d+CUzX3Hn7BwZ/6R4yP4F+LlZsWvRvHVEdzlq2SzjNOfwxiyqo4B\n",
      "nazzepP/85UfQ8WvgcPqR5GV/CBgzVaJpndnPAw4pU36COiyZqpmA12RqS3L1DAMegj0Maw4JJuy\n",
      "4pAejm7EXD+YBmeeA2wGjn8/9UKG6YVRYf5lML30ZsyPXgw+AiRmP/iUyLSFr8mabTTwQy+M2MwJ\n",
      "4QTOy6zKVkkeL3Hg83pTIuQTaPH8fea5wWEH+QJTKclTDutsyQ/66Dqz84vwMH5dI/LL+F0ndJ1L\n",
      "NoWrTrw6Opg9WZPfmCVfoIjrMt/PnpXAXn7j6MMyq/M7Doqs4MGTx1BfKGvxFZDhYzPR2p+fbZWo\n",
      "buHWBhSShpQlpGUnDZ9J+0Y3tzooDZ9Ju2Ojs5WGz6Szuuyk4TORFv9jbGEXvkO0qeiY+R1rDoh6\n",
      "e5AduysWUXQkeZNovWQbud/T/Kap1ruszBd5EiOZvHm0XteJhvgUTE67v0G/AgY4EjtNY6pSmr6y\n",
      "T1BTR04FJCGi7byW+9bOBflv3SiRJONNna3qHKs1RgdTrAb858mmwFkOsWgG2dBVJBRLRXsWsZSO\n",
      "IweG/qzrdfVmPK7ymzgm+WJdkizdkOuynRmvN9fLPBn3zI/rfM3/6KyTD9WiV8DykGiQ3Re8LOIV\n",
      "lmncFPE3UcTHQ8DUsEXLpoZJqNk/mzTGJoGeZ0VeVV/xlPme+xl2i+Sp0yevPCtFnJWOuWB2bYaC\n",
      "3XfPiZj/+eHVtwe0greHZ60wZH2YBO5F20v8hwD+gktsNZMAzh3RiT0/xBYDYTDFVh85CEkML52z\n",
      "pi0FFxEqoU7kRRde+3IYfoEBy0K0+P3QMz/0/ADCi3M294I5AeRtHLJ3DvjMZWF4j9MQOdMdvmME\n",
      "t/fODWaIEcd41wqeskop6XeOUcjmjvva4xNEZFqYU7v0V/th/RkQjOgp3mjmjQ9NPP37R8kpNjM1\n",
      "og1Yo22NcLCv/VrvQVqyZAUw/ic2TmRI7bdiJJboBsELI2rgZYxgyJICxnlxI8OEw/t9n3cqiLJZ\n",
      "jHfrk61w+OKsK3jFAwUjpj9HTIotSmwW502piWb7Sz7+B2fMzf0KZW5kc3RyZWFtCmVuZG9iagox\n",
      "IDAgb2JqCjw8L0dyb3VwPDwvVHlwZS9Hcm91cC9DUy9EZXZpY2VSR0IvUy9UcmFuc3BhcmVuY3k+\n",
      "Pi9QYXJlbnQgNiAwIFIvQ29udGVudHMgNSAwIFIvVHlwZS9QYWdlL1Jlc291cmNlczw8L1hPYmpl\n",
      "Y3Q8PC9pbWcwIDQgMCBSPj4vUHJvY1NldCBbL1BERiAvVGV4dCAvSW1hZ2VCIC9JbWFnZUMgL0lt\n",
      "YWdlSV0vQ29sb3JTcGFjZTw8L0NTL0RldmljZVJHQj4+L0ZvbnQ8PC9GMSAyIDAgUi9GMiAzIDAg\n",
      "Uj4+Pj4vTWVkaWFCb3hbMCAwIDU5NSA4NDJdPj4KZW5kb2JqCjcgMCBvYmoKWzEgMCBSL1hZWiAw\n",
      "IDg1NCAwXQplbmRvYmoKMiAwIG9iago8PC9CYXNlRm9udC9IZWx2ZXRpY2EvVHlwZS9Gb250L0Vu\n",
      "Y29kaW5nL1dpbkFuc2lFbmNvZGluZy9TdWJ0eXBlL1R5cGUxPj4KZW5kb2JqCjMgMCBvYmoKPDwv\n",
      "QmFzZUZvbnQvSGVsdmV0aWNhLUJvbGQvVHlwZS9Gb250L0VuY29kaW5nL1dpbkFuc2lFbmNvZGlu\n",
      "Zy9TdWJ0eXBlL1R5cGUxPj4KZW5kb2JqCjYgMCBvYmoKPDwvSVRYVCgyLjEuNykvVHlwZS9QYWdl\n",
      "cy9Db3VudCAxL0tpZHNbMSAwIFJdPj4KZW5kb2JqCjggMCBvYmoKPDwvTmFtZXNbKEpSX1BBR0Vf\n",
      "QU5DSE9SXzBfMSkgNyAwIFJdPj4KZW5kb2JqCjkgMCBvYmoKPDwvRGVzdHMgOCAwIFI+PgplbmRv\n",
      "YmoKMTAgMCBvYmoKPDwvTmFtZXMgOSAwIFIvVHlwZS9DYXRhbG9nL1BhZ2VzIDYgMCBSPj4KZW5k\n",
      "b2JqCjExIDAgb2JqCjw8L0NyZWF0b3IoSmFzcGVyUmVwb3J0cyBcKGRlY2xhcmFjYW9fdmluY3Vs\n",
      "b19ncmFkdWFjYW9faWZwclwpKS9Qcm9kdWNlcihpVGV4dCAyLjEuNyBieSAxVDNYVCkvTW9kRGF0\n",
      "ZShEOjIwMjAwNTI5MTMyNTM4LTAzJzAwJykvQ3JlYXRpb25EYXRlKEQ6MjAyMDA1MjkxMzI1Mzgt\n",
      "MDMnMDAnKT4+CmVuZG9iagp4cmVmCjAgMTIKMDAwMDAwMDAwMCA2NTUzNSBmIAowMDAwMDA3OTIy\n",
      "IDAwMDAwIG4gCjAwMDAwMDgyMjMgMDAwMDAgbiAKMDAwMDAwODMxMSAwMDAwMCBuIAowMDAwMDAw\n",
      "MDE1IDAwMDAwIG4gCjAwMDAwMDY3NDggMDAwMDAgbiAKMDAwMDAwODQwNCAwMDAwMCBuIAowMDAw\n",
      "MDA4MTg4IDAwMDAwIG4gCjAwMDAwMDg0NjcgMDAwMDAgbiAKMDAwMDAwODUyMSAwMDAwMCBuIAow\n",
      "MDAwMDA4NTUzIDAwMDAwIG4gCjAwMDAwMDg2MTEgMDAwMDAgbiAKdHJhaWxlcgo8PC9Sb290IDEw\n",
      "IDAgUi9JRCBbPDNjZjIyZmEwODQxMDRkNmU3NDU3MTQwNmY5ODUzYWMyPjw5NTI5YTUwMjcyZWEy\n",
      "N2FkMmNiZDllNWZlMGQ3ZmI5Zj5dL0luZm8gMTEgMCBSL1NpemUgMTI+PgpzdGFydHhyZWYKODc5\n",
      "NQolJUVPRgo=\n",
      "\n",
      "--===============6811266423642279873==--\n",
      "\n"
     ]
    }
   ],
   "source": [
    "arqNome = 'declaracaomatricula.pdf' #Nome do arquivo que será anexado\n",
    "arqAnexo = open(arqNome, 'rb') # Abre o arquivo que será anexado, como binário\n",
    "payload = MIMEBase('application', 'octate-stream') #cria um payload a ser adicionado no e-mail\n",
    "payload.set_payload((arqAnexo).read()) #lê o arquivo e coloca no payload\n",
    "encoders.encode_base64(payload) #codifica o payload, em base64\n",
    "payload.add_header('Content-Disposition', 'attachment', filename=arqNome)\n",
    "msg.attach(payload) #adiciona o payload à mensagem\n",
    " \n",
    "print(msg) #visualiza a mensagem, inclusive com o anexo"
   ]
  },
  {
   "cell_type": "code",
   "execution_count": 47,
   "metadata": {
    "colab": {
     "base_uri": "https://localhost:8080/",
     "height": 598
    },
    "colab_type": "code",
    "executionInfo": {
     "elapsed": 1637,
     "status": "ok",
     "timestamp": 1592773334700,
     "user": {
      "displayName": "José Vinícius S. Barboza",
      "photoUrl": "",
      "userId": "14879123349351999351"
     },
     "user_tz": 180
    },
    "id": "GpsBGwKiKt50",
    "outputId": "a77a528f-6ecc-40e4-ba6d-38aa8de1e966"
   },
   "outputs": [
    {
     "name": "stderr",
     "output_type": "stream",
     "text": [
      "send: 'ehlo MacBook-Pro-de-Fabricio.local\\r\\n'\n",
      "reply: b'250-smtp.gmail.com at your service, [187.59.54.62]\\r\\n'\n",
      "reply: b'250-SIZE 35882577\\r\\n'\n",
      "reply: b'250-8BITMIME\\r\\n'\n",
      "reply: b'250-AUTH LOGIN PLAIN XOAUTH2 PLAIN-CLIENTTOKEN OAUTHBEARER XOAUTH\\r\\n'\n",
      "reply: b'250-ENHANCEDSTATUSCODES\\r\\n'\n",
      "reply: b'250-PIPELINING\\r\\n'\n",
      "reply: b'250-CHUNKING\\r\\n'\n",
      "reply: b'250 SMTPUTF8\\r\\n'\n",
      "reply: retcode (250); Msg: b'smtp.gmail.com at your service, [187.59.54.62]\\nSIZE 35882577\\n8BITMIME\\nAUTH LOGIN PLAIN XOAUTH2 PLAIN-CLIENTTOKEN OAUTHBEARER XOAUTH\\nENHANCEDSTATUSCODES\\nPIPELINING\\nCHUNKING\\nSMTPUTF8'\n",
      "send: 'AUTH PLAIN AGZhYnJpY2lvbWZlcm5hbmRlc0BnbWFpbC5jb20ARGVib3JhaDQ2OTE2NzY2\\r\\n'\n",
      "reply: b'235 2.7.0 Accepted\\r\\n'\n",
      "reply: retcode (235); Msg: b'2.7.0 Accepted'\n",
      "send: 'mail FROM:<fabriciomfernandes@gmail.com> size=13199\\r\\n'\n"
     ]
    },
    {
     "name": "stdout",
     "output_type": "stream",
     "text": [
      "Enviando e-mail...\n"
     ]
    },
    {
     "name": "stderr",
     "output_type": "stream",
     "text": [
      "reply: b'250 2.1.0 OK o12sm13370935qtl.48 - gsmtp\\r\\n'\n",
      "reply: retcode (250); Msg: b'2.1.0 OK o12sm13370935qtl.48 - gsmtp'\n",
      "send: 'rcpt TO:<faskt8@gmail.com>\\r\\n'\n",
      "reply: b'250 2.1.5 OK o12sm13370935qtl.48 - gsmtp\\r\\n'\n",
      "reply: retcode (250); Msg: b'2.1.5 OK o12sm13370935qtl.48 - gsmtp'\n",
      "send: 'data\\r\\n'\n",
      "reply: b'354  Go ahead o12sm13370935qtl.48 - gsmtp\\r\\n'\n",
      "reply: retcode (354); Msg: b'Go ahead o12sm13370935qtl.48 - gsmtp'\n",
      "data: (354, b'Go ahead o12sm13370935qtl.48 - gsmtp')\n",
      "send: b'Content-Type: multipart/mixed; boundary=\"===============6811266423642279873==\"\\r\\nMIME-Version: 1.0\\r\\nsubject: Exercicio 9 - Envie um e-mail com um arquivo o formato PDF como anexo\\r\\nfrom: fabriciomfernandes@gmail.com\\r\\n\\r\\n--===============6811266423642279873==\\r\\nContent-Type: text/plain; charset=\"us-ascii\"\\r\\nMIME-Version: 1.0\\r\\nContent-Transfer-Encoding: 7bit\\r\\n\\r\\n PDF como anexo.\\r\\n\\r\\n--===============6811266423642279873==\\r\\nContent-Type: application/octate-stream\\r\\nMIME-Version: 1.0\\r\\nContent-Transfer-Encoding: base64\\r\\nContent-Disposition: attachment; filename=\"declaracaomatricula.pdf\"\\r\\n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\\r\\nNQolJUVPRgo=\\r\\n\\r\\n--===============6811266423642279873==--\\r\\n.\\r\\n'\n"
     ]
    },
    {
     "name": "stderr",
     "output_type": "stream",
     "text": [
      "reply: b'250 2.0.0 OK  1593870145 o12sm13370935qtl.48 - gsmtp\\r\\n'\n",
      "reply: retcode (250); Msg: b'2.0.0 OK  1593870145 o12sm13370935qtl.48 - gsmtp'\n",
      "data: (250, b'2.0.0 OK  1593870145 o12sm13370935qtl.48 - gsmtp')\n",
      "send: 'quit\\r\\n'\n"
     ]
    },
    {
     "name": "stdout",
     "output_type": "stream",
     "text": [
      "Finalizando conexão...\n",
      "Fim.\n"
     ]
    },
    {
     "name": "stderr",
     "output_type": "stream",
     "text": [
      "reply: b'221 2.0.0 closing connection o12sm13370935qtl.48 - gsmtp\\r\\n'\n",
      "reply: retcode (221); Msg: b'2.0.0 closing connection o12sm13370935qtl.48 - gsmtp'\n"
     ]
    }
   ],
   "source": [
    "try:\n",
    "    #Conecta ao servidor\n",
    "    conn = SMTP(SMTPServer)\n",
    " \n",
    "    #Ativa o debug, para mostrar mensagens\n",
    "    conn.set_debuglevel(True)\n",
    " \n",
    "    #Conecta ao servidor smtp, passando login e senha\n",
    "    conn.login(usuario,senha)\n",
    " \n",
    "    try:\n",
    "        print('Enviando e-mail...')\n",
    "        conn.sendmail(remetente, destinatarios, msg.as_string())\n",
    " \n",
    "    finally:\n",
    "        print('Finalizando conexão...')\n",
    "        conn.quit()\n",
    "except:\n",
    "    print('Erro ao enviar e-mail')\n",
    " \n",
    "print('Fim.')"
   ]
  },
  {
   "cell_type": "markdown",
   "metadata": {
    "colab_type": "text",
    "id": "zgfijvRus3bH"
   },
   "source": [
    "- Envie um e-mail com mais de um anexo.\n"
   ]
  },
  {
   "cell_type": "code",
   "execution_count": 48,
   "metadata": {
    "colab": {},
    "colab_type": "code",
    "id": "wPSVimu0tAuy"
   },
   "outputs": [],
   "source": [
    "remetente = 'fabriciomfernanes@gmail.com' #endereço de e-mail do remetente\n",
    "destinatarios = ['faskt8@gmail.com'] #lista com endereços de e-mail dos destinatários"
   ]
  },
  {
   "cell_type": "code",
   "execution_count": 49,
   "metadata": {
    "colab": {},
    "colab_type": "code",
    "id": "3wKoon1YtDGV"
   },
   "outputs": [],
   "source": [
    "titulo='Exercicio 10 - Envie um e-mail com mais de um arquivo no formato PDF como anexo'\n",
    "corpo = \"\"\"\\\n",
    "Um PDF e um Foto\n",
    "\"\"\""
   ]
  },
  {
   "cell_type": "code",
   "execution_count": 50,
   "metadata": {
    "colab": {},
    "colab_type": "code",
    "id": "B_VzYuqhtC7H"
   },
   "outputs": [],
   "source": [
    "msg = MIMEMultipart() #Objeto do e-mail\n",
    " \n",
    "# Informações básicas\n",
    "msg['subject'] = titulo #Título\n",
    "msg['from'] = remetente #Remetente\n",
    "msg.attach(MIMEText(corpo, textoSubtipo)) #Corpo do e-mail"
   ]
  },
  {
   "cell_type": "code",
   "execution_count": 51,
   "metadata": {
    "colab": {
     "base_uri": "https://localhost:8080/",
     "height": 1000
    },
    "colab_type": "code",
    "executionInfo": {
     "elapsed": 1098,
     "status": "ok",
     "timestamp": 1592777002205,
     "user": {
      "displayName": "José Vinícius S. Barboza",
      "photoUrl": "",
      "userId": "14879123349351999351"
     },
     "user_tz": 180
    },
    "id": "B3u5D2RLtCzA",
    "outputId": "cb13b800-d581-464e-9079-7473ae3aa480"
   },
   "outputs": [
    {
     "name": "stdout",
     "output_type": "stream",
     "text": [
      "Content-Type: multipart/mixed; boundary=\"===============6257442002102367787==\"\n",
      "MIME-Version: 1.0\n",
      "subject: Exercicio 10 - Envie um e-mail com mais de um arquivo no formato PDF como anexo\n",
      "from: fabriciomfernanes@gmail.com\n",
      "\n",
      "--===============6257442002102367787==\n",
      "Content-Type: text/plain; charset=\"us-ascii\"\n",
      "MIME-Version: 1.0\n",
      "Content-Transfer-Encoding: 7bit\n",
      "\n",
      "Um PDF e um Foto\n",
      "\n",
      "--===============6257442002102367787==\n",
      "Content-Type: application/octate-stream\n",
      "MIME-Version: 1.0\n",
      "Content-Transfer-Encoding: base64\n",
      "Content-Disposition: attachment; filename=\"declaracaomatricula.pdf\"\n",
      "\n",
      "JVBERi0xLjQKJeLjz9MKNCAwIG9iago8PC9EZWNvZGVQYXJtczw8L0NvbG9ycyAzL1ByZWRpY3Rv\n",
      "ciAxNS9CaXRzUGVyQ29tcG9uZW50IDgvQ29sdW1ucyAyMDA+Pi9UeXBlL1hPYmplY3QvQ29sb3JT\n",
      "cGFjZS9EZXZpY2VSR0IvU3VidHlwZS9JbWFnZS9CaXRzUGVyQ29tcG9uZW50IDgvV2lkdGggMjAw\n",
      "L0xlbmd0aCA2NTA4L0hlaWdodCAxMTUvRmlsdGVyL0ZsYXRlRGVjb2RlPj5zdHJlYW0KeNrtnQdU\n",
      "FFfbx2cLsLvAAkvvIKAgIGosscWIolFjLLFEfDUmsSS2aIxGJZrEmKYmMdYkat7YYsBejhhjr2BE\n",
      "BUUh0ntbOruwbd7/7iBfPgIquzuKh/s/Rw9zZ+bOM/f+5nmeOzt3hkPTNEVEZGxxCFhEbKjFYMnT\n",
      "0pXZOSppKS2XY0+eSMSzk5h6egg8PJ71uRC1IrUArNIDh2ti/qq7n6TMzFZJpRqZHIVcgGVva+bl\n",
      "adYxwLx3D5sRwx9RQ0n1faWmmqJwRE6LrKQpmkeZOIq7NCovl2XKVSVUy32uzgJaKbPwcPZns3nb\n",
      "rp4IrNLDR8ujDtVcvFKXm8rRMsHjUNyHcGB/DUWpwJipp6/Fy/1swsdbDx7070piM9fmVl5Va2R6\n",
      "WAmwuBTfWugb4jLT3qIjU3ivYG+a9IRcJdWPVPwv5EuCnN70th38lBu9LejxYOV8/Gn5rsi6rFQd\n",
      "THxdBzbRi7quUuKfWTs/2xlvOX+08J9r47I33cj5XqGq4HB4+hmK+jW0MtjpnVC/NVjMr7x5+sGc\n",
      "cnmKzio9pabrbEWBw/x/lZj7stvMbU+PAqs2Nzf/45Xle6JopVyH1OO9Aq11YAqe0Eoy7U3TWdOc\n",
      "/OsDzbHE8Myys1yOCYfTMtfyT6k1ChuRX5jfZgfL4BtZ62/lbVSqZRyO/mDB3Fp1+ajAA962Yew1\n",
      "cdvUo8BKnzqjbOfvFK3iUC1zMzSl5PAEdvNmun/3DVNy5O747PILXK6Z/lhRlEajshC4Dmm/1Unc\n",
      "OSbj64SCX1RquSGkwtA6TeVw/x1+9iON2ahEjwArZ+mK4u820orallLFCGxxTUXOa1Y5zptF1YN1\n",
      "kcs1NRAsS6Hb4PY/O1kCrG/uFGxXGgesnX72rxmzUYmaA6v04OHc+R8ps7M4FF/vqjVUnZmXr+fO\n",
      "bZb9ehOw2pqaBiv19fCKgwefMK9qTrp8q9Z+7gKP9WuO3p+YJT1HwGo7agIsadT+vAXLlHlwVyYG\n",
      "1o6AaOLk4rVvz3nHLZmFpwhYbUdNgJU154PiTRs5lKkh7oqRzmnJ3L5dfy30bE7NNe2o0IDaCFjP\n",
      "kRqDJU9Ly5n5fuXpk1xKYJQDaCi5zfjwuLfTisTpHJpHwGojagxWxelzufM+rL1/Fx7LKAdANBQG\n",
      "dYpfViNtV8FVG3DPiYD1XKkxWNLfonI/WKIqzDdkPPj/peFZS+6u5pWFqLkqg2IrAes5UmOwirf9\n",
      "N+/DCHVFuX63r5oSzeHyE9ebl3fncVUGVUTAeo70b7B+zVu4TF1pXLB4OrD4BKy2o6ZC4YIlqiKj\n",
      "hkIrm7tr+CQUtik1Bqv8z7O58xbVJRkzeRcEdkqIIMl729K/bjekpmpvN5z5w5i3G8aFx71Dbje0\n",
      "LTV1g3T2guLNm4x4g9R17Q8xoWdzZDHkBmnbUVM/6eyNQv6uzM81PM3S/qTj4OK1f8955y2ZBeQn\n",
      "nTakZn6EHjOx/NAhjhF+hJbbz5nvseFb8iN0W1PTYEn3HcxbsESZm23gYzOmnj6eO7eJX+pDHptp\n",
      "a2r2Qb/sjyJKvt9MK+v0f9DPROi8+nPH+XMo7YN+43RgtcInSCuG++8iYBldj3w0efI7ZbujKEqt\n",
      "z6PJXDPbOdM9fljLlBy/NyWj9JSBz7yrNHV25h0H+W60twy8mbM5Lmfdw2fe9Ztzqz13hbpqVNAB\n",
      "L8lAFtq2TetRYMmzsgqWf16+Zx+trm3ZZAqBWPL2ZMeIRWYuLkz53fxd17PW1CjyKX3BomkNuOzi\n",
      "OquP93JKN0XxTMr7RdXxesz9+r8qabWTuMeQ9j9aCT1Zb+k2pieY/rXsk7KdexW56bp8i9ccXrrp\n",
      "Xyqa0ph5+dpOm+ocsbjRBrdzt+VWXFFr5HpYqWWHw7UVdghyfstKWD/lOq3kZIr0mHZeoZ4vCaAF\n",
      "JrbBTm+5WHVntYnbpp5owmrZwSPl+w5Vn7+iKEh7OLuQmbBKMxNWaW245Ji6eluE9reeONZ6aLNT\n",
      "QCvk2XrZSVeWy9ybmrVcIc/SzZhtaX3ac7cWEUfFllowxV6674As5q/ae0mKjCy1doq9DLtzRSK+\n",
      "vZ2pt4cgMEDUq6dkFMmCibRqFqx7Bb+X1NxR0w9/N+bxuQIzjUxel5KqyM5Wl5ZpauUcmsMRCfm2\n",
      "ElNPd1Nvb65QqKmtpdRqhEUTrsjdZoCnTf+GCtOlp/Mqrio1NXpYCRO5HJ6dKCjQOfxZtxjRE6lp\n",
      "sOKyN97K2yRTFDHbPCym4aE4fB7F43G43IZXN9DaSAgC1RStYTYGWIiMtiL/Pt4rvSShlJaqP2Oz\n",
      "vi6uTtBQGr1uumoPIzK17+6+qLPr9GfdaESPV1M/6dQ8OJfyQX5lDI8raHYMRzd6hwP972oxku/q\n",
      "Oucln1VYPpk0M7XkKIfDN+BuA0epljmJuw/0XWdr3uFZtxvRY9QEWDnl1y6nf1xSc4/HNWj6Fzjw\n",
      "dxjvL57n4ezPTLHncc0MqVB3g9RFd4O0iyH1ED0FNQNWhg4sysSQ5xt0YE3wF8/VgTVB9+4GQ3/S\n",
      "IWA9L2oOrOUlNYmtECxLgav2t0ICVqsXAYuIFRGwiFgRAYuIFRGwiFgRAYuIFRGwiFgRAYuIFRGw\n",
      "iFgRAYuIFRGwiFgRAYuIFRGwiFgRAYuIFRGwiFgRAYuIFTUJ1lUdWEZ50G98L8/llgJn47y7gVZZ\n",
      "mJEH/Z4PNQFWXsX1S2kRxTV3eFyDXuqnUNd0dAwPa78Bfx+9+0ZW+TkD392g1iitBB7wWI7ikGfd\n",
      "bkSPURNgZecnxZd9mV4azeWY6Dt7naJpNU1penos6eHxARYvp31yp+C/ao1C7w9hokqVWu5rN7Kv\n",
      "9+dWQvdn3W5Ej1Ez78eSnkzI21ZRmwY+9GKL5nHNnCy7v+A219ZcO325tCb1Zu4PeZWxak2dXnbS\n",
      "INLS1K2b+0JPSX+9aiB6qmp2wmpJdbJUlqj1MS0Hi6ZoU77Y125Yo/LUkmiFulKvb4PTcJ8OFiHk\n",
      "G7vPi1owxZ6I6Mn1CI+VVCpLUtPKlr7RSlsdTZvyLHzshv6zPCs/SWmSoVRX614d0zIrYSSXw7c3\n",
      "D5KY+/2zPLvsYo2iiG65U9XO1aYpSzM3V+te7DRsW1fTYKVJTyXkbyuXpWgoPT8mwecKnC17dnWd\n",
      "Y2uhnbWsy7E25FVeU+n1GiOtoRTPSuDZzW2Bx8McKzZzdVpptFxZqueL12hKaCLp6DgphMzZZ0FN\n",
      "g3X83pQ0abRuJrSxRoWfJhRs12iUhowKlWqZn93ovt4rMSrMkJ4+m7JApizWvdFPTyM1GoXARDIy\n",
      "MMrBkty/MLKauY+VHlFcfYfHMTXkBqlCXQ1/8PA+1oSs8vMGv4NUKRZ4Dm7/k6M4JDZzbUL+z4a+\n",
      "3JaiapVlrwVGNYraRIbreb3zHpPx9Z2CX4zy1uRh/jva2480ZqMSPYe/FboMrgeLvI67Veu5A6v+\n",
      "R2gCVisXAYuAxYoIWAQsVkTAImCxIgIWAYsVEbAIWKyIgEXAYkUELAIWKyJgEbBYEQGLgMWKCFgE\n",
      "LFZEwCJgsSICFgGLFRGwCFisiIBFwGJFz+u3dIz4oB8Biw2x/fWvBrDG68Ay8NFkgOU6pN5jGQks\n",
      "dcXwgN1+9iOM16REWjX5vcK/z6UsZL5XqK/H4lA0rVRXd3Gd9ZLPF5T2e4UzUqXHtJ8r17dCjo5U\n",
      "J3H3UJ91dhYd7uTvjMn8QqGu1n6dWq86ORRHQ6vVGsXooIPuNv3Ya+K2qea+sLrhdt4WmaJI38ms\n",
      "2hnxNsL2fb0+87IdSGnnk/1xPWtNcU0CTbf8w+AP6xSa2HV3X9jZdQalm6WYUPplVvlZtaZWDyN1\n",
      "30nX8Lkib9thFmVj+/Ua3PI6iB6lZiesJhbsKa6KV1MqPdwB6jThiTxtwjwlLzcUpkv/zK64oFTJ\n",
      "9IhdqBCkOliEBDlPbigsqU5KKTkiUxbqcdrMrFoLM2d/h4nkFSNsiEyxJ2JFjwKrsjZX93IYfXyW\n",
      "jahdkyvKZOl62UlzOaZWQrdn00hELVfTYJXVpCYVR5bI7mtoPUMhnyf0sB4Q7DyloTAh75eciisq\n",
      "jUwPK5l3N0hEHQKdplgLPdloiJMnTyYnJ0ul0vfee+/AgQNcLnfWrFnMqh9++KFbt259+vTB33v3\n",
      "7r1//z6Golh0cXG5ceNGWVkZn8/HKpVKJRaLX3nllejoaIlE0rlz5+PHj2s0GqyF/VhraWmJzRQK\n",
      "hb29/bhx4/B3UlLSiRMn+vfvj8JLly4JBAIcV61WY7F37944RH5+PjZITU21sLDo3r17WFjYP20+\n",
      "evRoWloa/sAuqDM0NBTbox4ej4fj1tXVjRkzRigUnj17tqCgQKlUwrwOHToMGTKE2X3nzp3l5eUa\n",
      "naysrGB5RUUF2qG2thYn6O3tjbMYPLg++zx16hRO3Nra+s0332RKLly4kJCQMGLECC8vrycF62Jq\n",
      "xJ2CX+GudBPY9RGIFJk49PNe5e84Fot383fFZn1ToyjQu0Jk/UizurrO7uO9gg2w0F6AJi4uDv3x\n",
      "8ssvo2U///zz+fPnozVDQkKWLl362WefrVixYvv27QAFHT9p0qR+/fp9++23gAO7AAgzMzN0xrp1\n",
      "6yZMmODv779o0aJp06ahO9F56Gl0qrOz87Zt21B5ly5dzpw5g4P+/vvvEydORCXYHYfD/zKZDAyB\n",
      "wo8//njQoEEoPH36tLu7e25uLroZrMOkhp7evHnzH3/84ejoiEUccdWqVah2yZIlrq6uYBSU7N69\n",
      "G6tmz55dXV2NSgoLC2HJ0KFDsSPKO3XqBC6xO8Dy8PCAGbdu3Xr33XcBH3AsLi4ePXo0zsLNTRso\n",
      "XnvtNVwwqDY2NrZjx44o+fDDD7ds2XL48OFGuDcLVlFV/PnUxYXVt/hcgSFdVaeqDHGZPsB3Df4+\n",
      "njg5o+xPLsfEkNtOKk2dnXnAIL9N9haBRgdr/Pjx+/btu337Nq7XF198ES0IH4BGBBZoR4D19ttv\n",
      "A4j27dtv3bq1srLSxsbGwcEBvuTmzZtff/21k5PTvHnzfHx8UIjdAwMDgendu3cBytixY9u1a/fT\n",
      "Tz+hU8EWVsH3xMTE4KDo+MmTJwNZVA5Af/311z179ixcuBA+DA4PiPz222+ffvopfElRUdHUqVOx\n",
      "y/nz54ODgymdt5szZ058fPzatWsBNAzu0aNHRETEl19++cknnwwbNgwwvfDCC+fOncM1A8cDvHA9\n",
      "4FhXr14F/e+//z6sgicDLsxVAccDHwaSsPuoUaNQFZwfzmL48OHXr19H+6BB4KFxIjNmaAfmOPqm\n",
      "TZuwO8x7IrByyq9czlhh6J13mlLSMn/7CQHiue7aG6TjdFPsjXKDdKuTuLPRwXrjjTciIyMBFtxP\n",
      "z549//Of/6DX0RkfffQRruZly5a98847KEcfwJfgal65ciWzY2JiIoMOugr9l52dDSbAInqlvok5\n",
      "HJCEvsHfABGuBYvo3Qaw0JGgB4tfffUVDgQ3Bp+Xl5eH+Iv+BtyAFWsXLFgAIODDYAAD1ty5c+/d\n",
      "uwcv6OfnB7DgWhiwQCS8CDCCT0UcxLnAeJRjG3A5cODAoKAgEOnr6wuwoqKiYCHCNC4beCBUjgrh\n",
      "q8LDw0E/yMb2a9aswflu3LgRPhtYI8TDABwdJS0CyxjvbtCBFeAwwd+SAcsY727QqCyFbtrfCi1Z\n",
      "BwtO6IpOO3bsQBoBvFCCFkfHgyr0AfwT40LgsdAH8Bm4lIFgVlYW1jYCC54D1zr+TklJAVhwLQxY\n",
      "8E/o9Qaw0Hn4e9euXShEBgO30atXL1hlbm6OSkDhlClTEF7hMhmwEBYRCuEsEcsQYUEPqoVPAo7w\n",
      "jrgGEBmRNeLUYCqIBD1wYwipiMsoB1gAHZUjRQNqyK5waODr6emJQvhaXFeIdzgWLEHQROWoBzkf\n",
      "Do0zJWDpAxacB9wPfAZS3cuXLyOjX716NaIkPMSxY8c2bNiAoPbjjz8iv24RWOhIrOrateu1a9ca\n",
      "wAJPy5cvbwQWtkeHIbYCDpFIBErgrtDr6Gn4DwYswA1HiJAEtpBXwc3A33zxxRcI3DAeHgvmMR6L\n",
      "AQs8YS8wBA+H3JHxWPv374eFSOyQSuIUUD8wAhVHjhxB0gYXiC1RAzwcdkxPT0cagIZCZMTR0Q7A\n",
      "sWE0QMB6PFhMZ8MH/PLLL7h8ce1+8803yLcwLEJSjAwXeCElQhBsEVhYi8iCEqQ+QAGHQOchAKHC\n",
      "RmBhEZWgU+G6XnrpJTgV4IhRGEAZMGAA9TAUPnjwAASACeZYQAqeFaEKiRFTgpEjoi2yIuCIvsZp\n",
      "IvYxAxFQizOC62K2xCGQvwNNZE44FrwjQjDQx+gB7OIUEAQRoA8dOoTzhZEMWIx5BKxm9frrrx88\n",
      "eBDDIrglBCC0O1of/YrWRIsvXrx45syZr776KtIUjAr/+usv5NeIjLjoMZAcN24ccix0AFMVrn5k\n",
      "6MiNGsDC+AtXPLPIJFIYeWE4Bvj69u0LQLE7VoEqsIXgi07FIroQHABrjAYyMjJgDEDHQZl6ABZM\n",
      "QmzF8BCHYwqRXeECABC4AKqqquClML7DVQGfhxCcrhOYY5IkXAbICHEKYACJOQYNOTk5cIoItQi4\n",
      "oAcNgi0PHDgA34z/x4wZk5+fj8umtLQU7hBDVFwSdnZ2sBBtMn36dCQMBKzGWr9+PUIeLmulUgmq\n",
      "4IrQjij/+eefcVEizULjok1BHkABeXAqzKgbXYVUAx2DTmWqgnuANwIlzCIycXQeIhSziDEakneM\n",
      "0lUqFVwjglRAQACzCh2JZBmDACTdTMnFixe3b98OqhDFgD6T1TUI+XhhYSGCl7t7/a9S8EaoAfSj\n",
      "W+VyOTobhsGVwtMg8XJxcRk6dCiOAnYp3WgAoNA6AUSQBG8NF4WjhIaGwkK4pUmTJoHdzMxMHAVe\n",
      "GXvBxcKvIzFAs+BawlWH3ZHSgVdsTMAiYlcELCJWRMAiYkUELCJWRMB6SjqXstjKzLOr++xnbchT\n",
      "EgHraehWzk+ppcfGdjr+rA15eiJg1aukJqlSnkHTajO+tZtNH6bwbt4OgYnE9+FUi9TiEzgxPk8k\n",
      "EXawFLpQ2i9upORWXrY3D2G+zZlZek6pqfXVvTX+fsE+F6ueVkIP/J1UdKBOVRHi8rbRzW61ImDV\n",
      "K/L2kFJZkoAvqVEU+Ni+OjRga3LR4eikNy3MXEcFHbIz7xCXvfFSeoTYzEOuKnUR9xzg8621yPti\n",
      "asSNnO+9JcNe9lltI2oXeXtwXsXViV0uOIlf2HzFvYvr7F5eS7Lzkw6l9jXlWvb2+qSTy1SjW946\n",
      "RcCqV+TtQSITxxGBe07cn5ZeGj27T+75lKVppcc5FK+b+wfBzlNuZH2fXHLo1Y6/ZZaejs36KtR3\n",
      "nY/d0OOJU/KrYuHkBvltcLHqsS9+eF5lTIjzdB/zqScyX+3sPLOn56K/i478+eA9a4GPnXngEP8f\n",
      "jW556xQBq16R8WGmXHGY36armSvTpSdn9k6LvB1mJfCuVuRbCbzC2m+4kbXuXtFeAJRfGXu3YMdA\n",
      "v418rtn51EUSkX9hdVxP98XtHUYDLKnsHo8jGBN8eP+d4QxY8GqppdF+diPTpCemdIs1uuWtUwSs\n",
      "ekXFvyJTFCPG5ZRfdrXqDdey5arXix5LS+X3C6tuhXe9EJe94Xr2Wnvz4MraDDfrfgN8v39QfDg+\n",
      "/+cgp6nJRZHO4hf7eC+Puv2KKd+iuPpOV7e5f2Wv7eIyG2ABULGZl5ck7HL68tHBRxFVjW58KxQB\n",
      "q15R8UPqVFW+tiOEJnadXaenlkT/kTy9s8t7wCi/6sbwgJ255Zfi8jYGOLxRXB1fq6oY6LchTXr8\n",
      "ftFvHR0mp0qPi0wdRgb9DrDEAg9TnmVR9W2pLKm72/wenou2XPXwtA6zs+h4M2djv3arAp0mGW5t\n",
      "61czT5CmryiRGeMJUocJAUYFi70nSBEKRXwH5FjM4qW0FYkFuySiDipNrVxZ3NNjsVItv1e4e0Rg\n",
      "ZHbZhZisL3t5RiAmppVGi808ZcoiDoc3Jujwyb9niEzsu7rORdYvV5b18FhoZx4cnfSWrSgA7Yxh\n",
      "QTvbV0L9vjO68a1QTYBVUHnzQtoSXJc8rpkhVStUVUHObw3UteOxxPDMsrMGPvOu1ihsRH5hfpsd\n",
      "LION3hB7bw0QmtiOCtrPLCJ+cSn+uM7RJTXJ++OHYJxob94poWDba4FRORWXYzK+CHAKzym/5Cru\n",
      "3bfdp7dztyIzGxW4/0LaUoA1MijyaOLEzLIzPdw/VKhrEgt2vNs7A3XCn6k0ckRVoxvfCtX0LJ3T\n",
      "f7+fVBSp/b6t3t+YpFUmPIu+Xp8Fu2hnC8XlbIrLWVenqtC+akEv0do5YOpgp7cG+K1hoyHOPFgg\n",
      "4EuQJzGLRxPD3cR9u7prZ4CdSp5lyrNyt+7/d/H+oQHbMkrPJuRvc7LsViZP8bEd7ms3vLAyHj6s\n",
      "q9s8JFvmpk69vJalS0/fyPmuk/M0qSy5ojZ1qL/2ISpkaXmVsSMCd7Nhf2tT02AVVt66W7CrTJ6s\n",
      "odV6fG8Zgrdzt+rfw/ODhuKYzNV5FVdVdK12g5bXyeFwrYU+XVzeQ7LCRkNU1uaKBa4Ni6WyFInI\n",
      "l/k7Oz/JysYSa0trUiXmPpRu2m11RZ2VtYX44RxaafXfthbtK+U5DSWFVQmOlp20+/5js5LqZDuL\n",
      "tpq8N6io6o52JrQ+Pos249lIzH0blUprkhXqKn3MpGnkZ47kA7vPj8i7G4hYEQGLiBURsIhY0f8A\n",
      "XUXVOAplbmRzdHJlYW0KZW5kb2JqCjUgMCBvYmoKPDwvTGVuZ3RoIDExMDYvRmlsdGVyL0ZsYXRl\n",
      "RGVjb2RlPj5zdHJlYW0KeJzNVr1u20gQ7vkUU8qAveLyn+kYam0wkEhHpN2cDweapHwMRK1MUg6Q\n",
      "tzNcBFffEwQpDlekSpfqZsmIEmlbDuDmJEicXc7ufDM7883eSm8jSTXAkg2IUolF0ntJgXdiloKM\n",
      "X/FvaQpEhTQ+pUBRWkijo+iD0N2pyJAU+4sUVSaKArpNiWG0ixWgmlgsNyrljTSaAAMXpuDAHH+f\n",
      "4QECsbEMN09s/tvv+EwbcM+bRVu6qhBL7+PtTMpE1VTVgugjilQ1VVRMpBHsfyZZsozLuODVMaxR\n",
      "AF7BIl9VEMPtJoMqw9GnrMwKWGVJVlVfylyoindb9I2zfcujU+ft3HO9ACZsqyY3OASCffxUJbTB\n",
      "v4fatExNb1GrVLOtBvWMTZg3d+CUzX3Hn7BwZ/6R4yP4F+LlZsWvRvHVEdzlq2SzjNOfwxiyqo4B\n",
      "nazzepP/85UfQ8WvgcPqR5GV/CBgzVaJpndnPAw4pU36COiyZqpmA12RqS3L1DAMegj0Maw4JJuy\n",
      "4pAejm7EXD+YBmeeA2wGjn8/9UKG6YVRYf5lML30ZsyPXgw+AiRmP/iUyLSFr8mabTTwQy+M2MwJ\n",
      "4QTOy6zKVkkeL3Hg83pTIuQTaPH8fea5wWEH+QJTKclTDutsyQ/66Dqz84vwMH5dI/LL+F0ndJ1L\n",
      "NoWrTrw6Opg9WZPfmCVfoIjrMt/PnpXAXn7j6MMyq/M7Doqs4MGTx1BfKGvxFZDhYzPR2p+fbZWo\n",
      "buHWBhSShpQlpGUnDZ9J+0Y3tzooDZ9Ju2Ojs5WGz6Szuuyk4TORFv9jbGEXvkO0qeiY+R1rDoh6\n",
      "e5AduysWUXQkeZNovWQbud/T/Kap1ruszBd5EiOZvHm0XteJhvgUTE67v0G/AgY4EjtNY6pSmr6y\n",
      "T1BTR04FJCGi7byW+9bOBflv3SiRJONNna3qHKs1RgdTrAb858mmwFkOsWgG2dBVJBRLRXsWsZSO\n",
      "IweG/qzrdfVmPK7ymzgm+WJdkizdkOuynRmvN9fLPBn3zI/rfM3/6KyTD9WiV8DykGiQ3Re8LOIV\n",
      "lmncFPE3UcTHQ8DUsEXLpoZJqNk/mzTGJoGeZ0VeVV/xlPme+xl2i+Sp0yevPCtFnJWOuWB2bYaC\n",
      "3XfPiZj/+eHVtwe0greHZ60wZH2YBO5F20v8hwD+gktsNZMAzh3RiT0/xBYDYTDFVh85CEkML52z\n",
      "pi0FFxEqoU7kRRde+3IYfoEBy0K0+P3QMz/0/ADCi3M294I5AeRtHLJ3DvjMZWF4j9MQOdMdvmME\n",
      "t/fODWaIEcd41wqeskop6XeOUcjmjvva4xNEZFqYU7v0V/th/RkQjOgp3mjmjQ9NPP37R8kpNjM1\n",
      "og1Yo22NcLCv/VrvQVqyZAUw/ic2TmRI7bdiJJboBsELI2rgZYxgyJICxnlxI8OEw/t9n3cqiLJZ\n",
      "jHfrk61w+OKsK3jFAwUjpj9HTIotSmwW502piWb7Sz7+B2fMzf0KZW5kc3RyZWFtCmVuZG9iagox\n",
      "IDAgb2JqCjw8L0dyb3VwPDwvVHlwZS9Hcm91cC9DUy9EZXZpY2VSR0IvUy9UcmFuc3BhcmVuY3k+\n",
      "Pi9QYXJlbnQgNiAwIFIvQ29udGVudHMgNSAwIFIvVHlwZS9QYWdlL1Jlc291cmNlczw8L1hPYmpl\n",
      "Y3Q8PC9pbWcwIDQgMCBSPj4vUHJvY1NldCBbL1BERiAvVGV4dCAvSW1hZ2VCIC9JbWFnZUMgL0lt\n",
      "YWdlSV0vQ29sb3JTcGFjZTw8L0NTL0RldmljZVJHQj4+L0ZvbnQ8PC9GMSAyIDAgUi9GMiAzIDAg\n",
      "Uj4+Pj4vTWVkaWFCb3hbMCAwIDU5NSA4NDJdPj4KZW5kb2JqCjcgMCBvYmoKWzEgMCBSL1hZWiAw\n",
      "IDg1NCAwXQplbmRvYmoKMiAwIG9iago8PC9CYXNlRm9udC9IZWx2ZXRpY2EvVHlwZS9Gb250L0Vu\n",
      "Y29kaW5nL1dpbkFuc2lFbmNvZGluZy9TdWJ0eXBlL1R5cGUxPj4KZW5kb2JqCjMgMCBvYmoKPDwv\n",
      "QmFzZUZvbnQvSGVsdmV0aWNhLUJvbGQvVHlwZS9Gb250L0VuY29kaW5nL1dpbkFuc2lFbmNvZGlu\n",
      "Zy9TdWJ0eXBlL1R5cGUxPj4KZW5kb2JqCjYgMCBvYmoKPDwvSVRYVCgyLjEuNykvVHlwZS9QYWdl\n",
      "cy9Db3VudCAxL0tpZHNbMSAwIFJdPj4KZW5kb2JqCjggMCBvYmoKPDwvTmFtZXNbKEpSX1BBR0Vf\n",
      "QU5DSE9SXzBfMSkgNyAwIFJdPj4KZW5kb2JqCjkgMCBvYmoKPDwvRGVzdHMgOCAwIFI+PgplbmRv\n",
      "YmoKMTAgMCBvYmoKPDwvTmFtZXMgOSAwIFIvVHlwZS9DYXRhbG9nL1BhZ2VzIDYgMCBSPj4KZW5k\n",
      "b2JqCjExIDAgb2JqCjw8L0NyZWF0b3IoSmFzcGVyUmVwb3J0cyBcKGRlY2xhcmFjYW9fdmluY3Vs\n",
      "b19ncmFkdWFjYW9faWZwclwpKS9Qcm9kdWNlcihpVGV4dCAyLjEuNyBieSAxVDNYVCkvTW9kRGF0\n",
      "ZShEOjIwMjAwNTI5MTMyNTM4LTAzJzAwJykvQ3JlYXRpb25EYXRlKEQ6MjAyMDA1MjkxMzI1Mzgt\n",
      "MDMnMDAnKT4+CmVuZG9iagp4cmVmCjAgMTIKMDAwMDAwMDAwMCA2NTUzNSBmIAowMDAwMDA3OTIy\n",
      "IDAwMDAwIG4gCjAwMDAwMDgyMjMgMDAwMDAgbiAKMDAwMDAwODMxMSAwMDAwMCBuIAowMDAwMDAw\n",
      "MDE1IDAwMDAwIG4gCjAwMDAwMDY3NDggMDAwMDAgbiAKMDAwMDAwODQwNCAwMDAwMCBuIAowMDAw\n",
      "MDA4MTg4IDAwMDAwIG4gCjAwMDAwMDg0NjcgMDAwMDAgbiAKMDAwMDAwODUyMSAwMDAwMCBuIAow\n",
      "MDAwMDA4NTUzIDAwMDAwIG4gCjAwMDAwMDg2MTEgMDAwMDAgbiAKdHJhaWxlcgo8PC9Sb290IDEw\n",
      "IDAgUi9JRCBbPDNjZjIyZmEwODQxMDRkNmU3NDU3MTQwNmY5ODUzYWMyPjw5NTI5YTUwMjcyZWEy\n",
      "N2FkMmNiZDllNWZlMGQ3ZmI5Zj5dL0luZm8gMTEgMCBSL1NpemUgMTI+PgpzdGFydHhyZWYKODc5\n",
      "NQolJUVPRgo=\n",
      "\n",
      "--===============6257442002102367787==--\n",
      "\n"
     ]
    }
   ],
   "source": [
    "arqNome = 'declaracaomatricula.pdf' #Nome do arquivo que será anexado\n",
    "arqAnexo = open(arqNome, 'rb') # Abre o arquivo que será anexado, como binário\n",
    "payload = MIMEBase('application', 'octate-stream') #cria um payload a ser adicionado no e-mail\n",
    "payload.set_payload((arqAnexo).read()) #lê o arquivo e coloca no payload\n",
    "encoders.encode_base64(payload) #codifica o payload, em base64\n",
    "payload.add_header('Content-Disposition', 'attachment', filename=arqNome)\n",
    "msg.attach(payload) #adiciona o payload à mensagem\n",
    " \n",
    "print(msg) #visualiza a mensagem, inclusive com o anexo"
   ]
  },
  {
   "cell_type": "code",
   "execution_count": 53,
   "metadata": {
    "colab": {
     "base_uri": "https://localhost:8080/",
     "height": 1000
    },
    "colab_type": "code",
    "executionInfo": {
     "elapsed": 1245,
     "status": "ok",
     "timestamp": 1592777005756,
     "user": {
      "displayName": "José Vinícius S. Barboza",
      "photoUrl": "",
      "userId": "14879123349351999351"
     },
     "user_tz": 180
    },
    "id": "g2XhkD9itCoV",
    "outputId": "82abd980-6e7b-42b4-dea0-a2138334a9a8"
   },
   "outputs": [
    {
     "name": "stdout",
     "output_type": "stream",
     "text": [
      "Content-Type: multipart/mixed; boundary=\"===============6257442002102367787==\"\n",
      "MIME-Version: 1.0\n",
      "subject: Exercicio 10 - Envie um e-mail com mais de um arquivo no formato PDF como anexo\n",
      "from: fabriciomfernanes@gmail.com\n",
      "\n",
      "--===============6257442002102367787==\n",
      "Content-Type: text/plain; charset=\"us-ascii\"\n",
      "MIME-Version: 1.0\n",
      "Content-Transfer-Encoding: 7bit\n",
      "\n",
      "Um PDF e um Foto\n",
      "\n",
      "--===============6257442002102367787==\n",
      "Content-Type: application/octate-stream\n",
      "MIME-Version: 1.0\n",
      "Content-Transfer-Encoding: base64\n",
      "Content-Disposition: attachment; filename=\"declaracaomatricula.pdf\"\n",
      "\n",
      "JVBERi0xLjQKJeLjz9MKNCAwIG9iago8PC9EZWNvZGVQYXJtczw8L0NvbG9ycyAzL1ByZWRpY3Rv\n",
      "ciAxNS9CaXRzUGVyQ29tcG9uZW50IDgvQ29sdW1ucyAyMDA+Pi9UeXBlL1hPYmplY3QvQ29sb3JT\n",
      "cGFjZS9EZXZpY2VSR0IvU3VidHlwZS9JbWFnZS9CaXRzUGVyQ29tcG9uZW50IDgvV2lkdGggMjAw\n",
      "L0xlbmd0aCA2NTA4L0hlaWdodCAxMTUvRmlsdGVyL0ZsYXRlRGVjb2RlPj5zdHJlYW0KeNrtnQdU\n",
      "FFfbx2cLsLvAAkvvIKAgIGosscWIolFjLLFEfDUmsSS2aIxGJZrEmKYmMdYkat7YYsBejhhjr2BE\n",
      "BUUh0ntbOruwbd7/7iBfPgIquzuKh/s/Rw9zZ+bOM/f+5nmeOzt3hkPTNEVEZGxxCFhEbKjFYMnT\n",
      "0pXZOSppKS2XY0+eSMSzk5h6egg8PJ71uRC1IrUArNIDh2ti/qq7n6TMzFZJpRqZHIVcgGVva+bl\n",
      "adYxwLx3D5sRwx9RQ0n1faWmmqJwRE6LrKQpmkeZOIq7NCovl2XKVSVUy32uzgJaKbPwcPZns3nb\n",
      "rp4IrNLDR8ujDtVcvFKXm8rRMsHjUNyHcGB/DUWpwJipp6/Fy/1swsdbDx7070piM9fmVl5Va2R6\n",
      "WAmwuBTfWugb4jLT3qIjU3ivYG+a9IRcJdWPVPwv5EuCnN70th38lBu9LejxYOV8/Gn5rsi6rFQd\n",
      "THxdBzbRi7quUuKfWTs/2xlvOX+08J9r47I33cj5XqGq4HB4+hmK+jW0MtjpnVC/NVjMr7x5+sGc\n",
      "cnmKzio9pabrbEWBw/x/lZj7stvMbU+PAqs2Nzf/45Xle6JopVyH1OO9Aq11YAqe0Eoy7U3TWdOc\n",
      "/OsDzbHE8Myys1yOCYfTMtfyT6k1ChuRX5jfZgfL4BtZ62/lbVSqZRyO/mDB3Fp1+ajAA962Yew1\n",
      "cdvUo8BKnzqjbOfvFK3iUC1zMzSl5PAEdvNmun/3DVNy5O747PILXK6Z/lhRlEajshC4Dmm/1Unc\n",
      "OSbj64SCX1RquSGkwtA6TeVw/x1+9iON2ahEjwArZ+mK4u820orallLFCGxxTUXOa1Y5zptF1YN1\n",
      "kcs1NRAsS6Hb4PY/O1kCrG/uFGxXGgesnX72rxmzUYmaA6v04OHc+R8ps7M4FF/vqjVUnZmXr+fO\n",
      "bZb9ehOw2pqaBiv19fCKgwefMK9qTrp8q9Z+7gKP9WuO3p+YJT1HwGo7agIsadT+vAXLlHlwVyYG\n",
      "1o6AaOLk4rVvz3nHLZmFpwhYbUdNgJU154PiTRs5lKkh7oqRzmnJ3L5dfy30bE7NNe2o0IDaCFjP\n",
      "kRqDJU9Ly5n5fuXpk1xKYJQDaCi5zfjwuLfTisTpHJpHwGojagxWxelzufM+rL1/Fx7LKAdANBQG\n",
      "dYpfViNtV8FVG3DPiYD1XKkxWNLfonI/WKIqzDdkPPj/peFZS+6u5pWFqLkqg2IrAes5UmOwirf9\n",
      "N+/DCHVFuX63r5oSzeHyE9ebl3fncVUGVUTAeo70b7B+zVu4TF1pXLB4OrD4BKy2o6ZC4YIlqiKj\n",
      "hkIrm7tr+CQUtik1Bqv8z7O58xbVJRkzeRcEdkqIIMl729K/bjekpmpvN5z5w5i3G8aFx71Dbje0\n",
      "LTV1g3T2guLNm4x4g9R17Q8xoWdzZDHkBmnbUVM/6eyNQv6uzM81PM3S/qTj4OK1f8955y2ZBeQn\n",
      "nTakZn6EHjOx/NAhjhF+hJbbz5nvseFb8iN0W1PTYEn3HcxbsESZm23gYzOmnj6eO7eJX+pDHptp\n",
      "a2r2Qb/sjyJKvt9MK+v0f9DPROi8+nPH+XMo7YN+43RgtcInSCuG++8iYBldj3w0efI7ZbujKEqt\n",
      "z6PJXDPbOdM9fljLlBy/NyWj9JSBz7yrNHV25h0H+W60twy8mbM5Lmfdw2fe9Ztzqz13hbpqVNAB\n",
      "L8lAFtq2TetRYMmzsgqWf16+Zx+trm3ZZAqBWPL2ZMeIRWYuLkz53fxd17PW1CjyKX3BomkNuOzi\n",
      "OquP93JKN0XxTMr7RdXxesz9+r8qabWTuMeQ9j9aCT1Zb+k2pieY/rXsk7KdexW56bp8i9ccXrrp\n",
      "Xyqa0ph5+dpOm+ocsbjRBrdzt+VWXFFr5HpYqWWHw7UVdghyfstKWD/lOq3kZIr0mHZeoZ4vCaAF\n",
      "JrbBTm+5WHVntYnbpp5owmrZwSPl+w5Vn7+iKEh7OLuQmbBKMxNWaW245Ji6eluE9reeONZ6aLNT\n",
      "QCvk2XrZSVeWy9ybmrVcIc/SzZhtaX3ac7cWEUfFllowxV6674As5q/ae0mKjCy1doq9DLtzRSK+\n",
      "vZ2pt4cgMEDUq6dkFMmCibRqFqx7Bb+X1NxR0w9/N+bxuQIzjUxel5KqyM5Wl5ZpauUcmsMRCfm2\n",
      "ElNPd1Nvb65QqKmtpdRqhEUTrsjdZoCnTf+GCtOlp/Mqrio1NXpYCRO5HJ6dKCjQOfxZtxjRE6lp\n",
      "sOKyN97K2yRTFDHbPCym4aE4fB7F43G43IZXN9DaSAgC1RStYTYGWIiMtiL/Pt4rvSShlJaqP2Oz\n",
      "vi6uTtBQGr1uumoPIzK17+6+qLPr9GfdaESPV1M/6dQ8OJfyQX5lDI8raHYMRzd6hwP972oxku/q\n",
      "Oucln1VYPpk0M7XkKIfDN+BuA0epljmJuw/0XWdr3uFZtxvRY9QEWDnl1y6nf1xSc4/HNWj6Fzjw\n",
      "dxjvL57n4ezPTLHncc0MqVB3g9RFd4O0iyH1ED0FNQNWhg4sysSQ5xt0YE3wF8/VgTVB9+4GQ3/S\n",
      "IWA9L2oOrOUlNYmtECxLgav2t0ICVqsXAYuIFRGwiFgRAYuIFRGwiFgRAYuIFRGwiFgRAYuIFRGw\n",
      "iFgRAYuIFRGwiFgRAYuIFRGwiFgRAYuIFRGwiFgRAYuIFTUJ1lUdWEZ50G98L8/llgJn47y7gVZZ\n",
      "mJEH/Z4PNQFWXsX1S2kRxTV3eFyDXuqnUNd0dAwPa78Bfx+9+0ZW+TkD392g1iitBB7wWI7ikGfd\n",
      "bkSPURNgZecnxZd9mV4azeWY6Dt7naJpNU1penos6eHxARYvp31yp+C/ao1C7w9hokqVWu5rN7Kv\n",
      "9+dWQvdn3W5Ej1Ez78eSnkzI21ZRmwY+9GKL5nHNnCy7v+A219ZcO325tCb1Zu4PeZWxak2dXnbS\n",
      "INLS1K2b+0JPSX+9aiB6qmp2wmpJdbJUlqj1MS0Hi6ZoU77Y125Yo/LUkmiFulKvb4PTcJ8OFiHk\n",
      "G7vPi1owxZ6I6Mn1CI+VVCpLUtPKlr7RSlsdTZvyLHzshv6zPCs/SWmSoVRX614d0zIrYSSXw7c3\n",
      "D5KY+/2zPLvsYo2iiG65U9XO1aYpSzM3V+te7DRsW1fTYKVJTyXkbyuXpWgoPT8mwecKnC17dnWd\n",
      "Y2uhnbWsy7E25FVeU+n1GiOtoRTPSuDZzW2Bx8McKzZzdVpptFxZqueL12hKaCLp6DgphMzZZ0FN\n",
      "g3X83pQ0abRuJrSxRoWfJhRs12iUhowKlWqZn93ovt4rMSrMkJ4+m7JApizWvdFPTyM1GoXARDIy\n",
      "MMrBkty/MLKauY+VHlFcfYfHMTXkBqlCXQ1/8PA+1oSs8vMGv4NUKRZ4Dm7/k6M4JDZzbUL+z4a+\n",
      "3JaiapVlrwVGNYraRIbreb3zHpPx9Z2CX4zy1uRh/jva2480ZqMSPYe/FboMrgeLvI67Veu5A6v+\n",
      "R2gCVisXAYuAxYoIWAQsVkTAImCxIgIWAYsVEbAIWKyIgEXAYkUELAIWKyJgEbBYEQGLgMWKCFgE\n",
      "LFZEwCJgsSICFgGLFRGwCFisiIBFwGJFz+u3dIz4oB8Biw2x/fWvBrDG68Ay8NFkgOU6pN5jGQks\n",
      "dcXwgN1+9iOM16REWjX5vcK/z6UsZL5XqK/H4lA0rVRXd3Gd9ZLPF5T2e4UzUqXHtJ8r17dCjo5U\n",
      "J3H3UJ91dhYd7uTvjMn8QqGu1n6dWq86ORRHQ6vVGsXooIPuNv3Ya+K2qea+sLrhdt4WmaJI38ms\n",
      "2hnxNsL2fb0+87IdSGnnk/1xPWtNcU0CTbf8w+AP6xSa2HV3X9jZdQalm6WYUPplVvlZtaZWDyN1\n",
      "30nX8Lkib9thFmVj+/Ua3PI6iB6lZiesJhbsKa6KV1MqPdwB6jThiTxtwjwlLzcUpkv/zK64oFTJ\n",
      "9IhdqBCkOliEBDlPbigsqU5KKTkiUxbqcdrMrFoLM2d/h4nkFSNsiEyxJ2JFjwKrsjZX93IYfXyW\n",
      "jahdkyvKZOl62UlzOaZWQrdn00hELVfTYJXVpCYVR5bI7mtoPUMhnyf0sB4Q7DyloTAh75eciisq\n",
      "jUwPK5l3N0hEHQKdplgLPdloiJMnTyYnJ0ul0vfee+/AgQNcLnfWrFnMqh9++KFbt259+vTB33v3\n",
      "7r1//z6Golh0cXG5ceNGWVkZn8/HKpVKJRaLX3nllejoaIlE0rlz5+PHj2s0GqyF/VhraWmJzRQK\n",
      "hb29/bhx4/B3UlLSiRMn+vfvj8JLly4JBAIcV61WY7F37944RH5+PjZITU21sLDo3r17WFjYP20+\n",
      "evRoWloa/sAuqDM0NBTbox4ej4fj1tXVjRkzRigUnj17tqCgQKlUwrwOHToMGTKE2X3nzp3l5eUa\n",
      "naysrGB5RUUF2qG2thYn6O3tjbMYPLg++zx16hRO3Nra+s0332RKLly4kJCQMGLECC8vrycF62Jq\n",
      "xJ2CX+GudBPY9RGIFJk49PNe5e84Fot383fFZn1ToyjQu0Jk/UizurrO7uO9gg2w0F6AJi4uDv3x\n",
      "8ssvo2U///zz+fPnozVDQkKWLl362WefrVixYvv27QAFHT9p0qR+/fp9++23gAO7AAgzMzN0xrp1\n",
      "6yZMmODv779o0aJp06ahO9F56Gl0qrOz87Zt21B5ly5dzpw5g4P+/vvvEydORCXYHYfD/zKZDAyB\n",
      "wo8//njQoEEoPH36tLu7e25uLroZrMOkhp7evHnzH3/84ejoiEUccdWqVah2yZIlrq6uYBSU7N69\n",
      "G6tmz55dXV2NSgoLC2HJ0KFDsSPKO3XqBC6xO8Dy8PCAGbdu3Xr33XcBH3AsLi4ePXo0zsLNTRso\n",
      "XnvtNVwwqDY2NrZjx44o+fDDD7ds2XL48OFGuDcLVlFV/PnUxYXVt/hcgSFdVaeqDHGZPsB3Df4+\n",
      "njg5o+xPLsfEkNtOKk2dnXnAIL9N9haBRgdr/Pjx+/btu337Nq7XF198ES0IH4BGBBZoR4D19ttv\n",
      "A4j27dtv3bq1srLSxsbGwcEBvuTmzZtff/21k5PTvHnzfHx8UIjdAwMDgendu3cBytixY9u1a/fT\n",
      "Tz+hU8EWVsH3xMTE4KDo+MmTJwNZVA5Af/311z179ixcuBA+DA4PiPz222+ffvopfElRUdHUqVOx\n",
      "y/nz54ODgymdt5szZ058fPzatWsBNAzu0aNHRETEl19++cknnwwbNgwwvfDCC+fOncM1A8cDvHA9\n",
      "4FhXr14F/e+//z6sgicDLsxVAccDHwaSsPuoUaNQFZwfzmL48OHXr19H+6BB4KFxIjNmaAfmOPqm\n",
      "TZuwO8x7IrByyq9czlhh6J13mlLSMn/7CQHiue7aG6TjdFPsjXKDdKuTuLPRwXrjjTciIyMBFtxP\n",
      "z549//Of/6DX0RkfffQRruZly5a98847KEcfwJfgal65ciWzY2JiIoMOugr9l52dDSbAInqlvok5\n",
      "HJCEvsHfABGuBYvo3Qaw0JGgB4tfffUVDgQ3Bp+Xl5eH+Iv+BtyAFWsXLFgAIODDYAAD1ty5c+/d\n",
      "uwcv6OfnB7DgWhiwQCS8CDCCT0UcxLnAeJRjG3A5cODAoKAgEOnr6wuwoqKiYCHCNC4beCBUjgrh\n",
      "q8LDw0E/yMb2a9aswflu3LgRPhtYI8TDABwdJS0CyxjvbtCBFeAwwd+SAcsY727QqCyFbtrfCi1Z\n",
      "BwtO6IpOO3bsQBoBvFCCFkfHgyr0AfwT40LgsdAH8Bm4lIFgVlYW1jYCC54D1zr+TklJAVhwLQxY\n",
      "8E/o9Qaw0Hn4e9euXShEBgO30atXL1hlbm6OSkDhlClTEF7hMhmwEBYRCuEsEcsQYUEPqoVPAo7w\n",
      "jrgGEBmRNeLUYCqIBD1wYwipiMsoB1gAHZUjRQNqyK5waODr6emJQvhaXFeIdzgWLEHQROWoBzkf\n",
      "Do0zJWDpAxacB9wPfAZS3cuXLyOjX716NaIkPMSxY8c2bNiAoPbjjz8iv24RWOhIrOrateu1a9ca\n",
      "wAJPy5cvbwQWtkeHIbYCDpFIBErgrtDr6Gn4DwYswA1HiJAEtpBXwc3A33zxxRcI3DAeHgvmMR6L\n",
      "AQs8YS8wBA+H3JHxWPv374eFSOyQSuIUUD8wAhVHjhxB0gYXiC1RAzwcdkxPT0cagIZCZMTR0Q7A\n",
      "sWE0QMB6PFhMZ8MH/PLLL7h8ce1+8803yLcwLEJSjAwXeCElQhBsEVhYi8iCEqQ+QAGHQOchAKHC\n",
      "RmBhEZWgU+G6XnrpJTgV4IhRGEAZMGAA9TAUPnjwAASACeZYQAqeFaEKiRFTgpEjoi2yIuCIvsZp\n",
      "IvYxAxFQizOC62K2xCGQvwNNZE44FrwjQjDQx+gB7OIUEAQRoA8dOoTzhZEMWIx5BKxm9frrrx88\n",
      "eBDDIrglBCC0O1of/YrWRIsvXrx45syZr776KtIUjAr/+usv5NeIjLjoMZAcN24ccix0AFMVrn5k\n",
      "6MiNGsDC+AtXPLPIJFIYeWE4Bvj69u0LQLE7VoEqsIXgi07FIroQHABrjAYyMjJgDEDHQZl6ABZM\n",
      "QmzF8BCHYwqRXeECABC4AKqqquClML7DVQGfhxCcrhOYY5IkXAbICHEKYACJOQYNOTk5cIoItQi4\n",
      "oAcNgi0PHDgA34z/x4wZk5+fj8umtLQU7hBDVFwSdnZ2sBBtMn36dCQMBKzGWr9+PUIeLmulUgmq\n",
      "4IrQjij/+eefcVEizULjok1BHkABeXAqzKgbXYVUAx2DTmWqgnuANwIlzCIycXQeIhSziDEakneM\n",
      "0lUqFVwjglRAQACzCh2JZBmDACTdTMnFixe3b98OqhDFgD6T1TUI+XhhYSGCl7t7/a9S8EaoAfSj\n",
      "W+VyOTobhsGVwtMg8XJxcRk6dCiOAnYp3WgAoNA6AUSQBG8NF4WjhIaGwkK4pUmTJoHdzMxMHAVe\n",
      "GXvBxcKvIzFAs+BawlWH3ZHSgVdsTMAiYlcELCJWRMAiYkUELCJWRMB6SjqXstjKzLOr++xnbchT\n",
      "EgHraehWzk+ppcfGdjr+rA15eiJg1aukJqlSnkHTajO+tZtNH6bwbt4OgYnE9+FUi9TiEzgxPk8k\n",
      "EXawFLpQ2i9upORWXrY3D2G+zZlZek6pqfXVvTX+fsE+F6ueVkIP/J1UdKBOVRHi8rbRzW61ImDV\n",
      "K/L2kFJZkoAvqVEU+Ni+OjRga3LR4eikNy3MXEcFHbIz7xCXvfFSeoTYzEOuKnUR9xzg8621yPti\n",
      "asSNnO+9JcNe9lltI2oXeXtwXsXViV0uOIlf2HzFvYvr7F5eS7Lzkw6l9jXlWvb2+qSTy1SjW946\n",
      "RcCqV+TtQSITxxGBe07cn5ZeGj27T+75lKVppcc5FK+b+wfBzlNuZH2fXHLo1Y6/ZZaejs36KtR3\n",
      "nY/d0OOJU/KrYuHkBvltcLHqsS9+eF5lTIjzdB/zqScyX+3sPLOn56K/i478+eA9a4GPnXngEP8f\n",
      "jW556xQBq16R8WGmXHGY36armSvTpSdn9k6LvB1mJfCuVuRbCbzC2m+4kbXuXtFeAJRfGXu3YMdA\n",
      "v418rtn51EUSkX9hdVxP98XtHUYDLKnsHo8jGBN8eP+d4QxY8GqppdF+diPTpCemdIs1uuWtUwSs\n",
      "ekXFvyJTFCPG5ZRfdrXqDdey5arXix5LS+X3C6tuhXe9EJe94Xr2Wnvz4MraDDfrfgN8v39QfDg+\n",
      "/+cgp6nJRZHO4hf7eC+Puv2KKd+iuPpOV7e5f2Wv7eIyG2ABULGZl5ck7HL68tHBRxFVjW58KxQB\n",
      "q15R8UPqVFW+tiOEJnadXaenlkT/kTy9s8t7wCi/6sbwgJ255Zfi8jYGOLxRXB1fq6oY6LchTXr8\n",
      "ftFvHR0mp0qPi0wdRgb9DrDEAg9TnmVR9W2pLKm72/wenou2XPXwtA6zs+h4M2djv3arAp0mGW5t\n",
      "61czT5CmryiRGeMJUocJAUYFi70nSBEKRXwH5FjM4qW0FYkFuySiDipNrVxZ3NNjsVItv1e4e0Rg\n",
      "ZHbZhZisL3t5RiAmppVGi808ZcoiDoc3Jujwyb9niEzsu7rORdYvV5b18FhoZx4cnfSWrSgA7Yxh\n",
      "QTvbV0L9vjO68a1QTYBVUHnzQtoSXJc8rpkhVStUVUHObw3UteOxxPDMsrMGPvOu1ihsRH5hfpsd\n",
      "LION3hB7bw0QmtiOCtrPLCJ+cSn+uM7RJTXJ++OHYJxob94poWDba4FRORWXYzK+CHAKzym/5Cru\n",
      "3bfdp7dztyIzGxW4/0LaUoA1MijyaOLEzLIzPdw/VKhrEgt2vNs7A3XCn6k0ckRVoxvfCtX0LJ3T\n",
      "f7+fVBSp/b6t3t+YpFUmPIu+Xp8Fu2hnC8XlbIrLWVenqtC+akEv0do5YOpgp7cG+K1hoyHOPFgg\n",
      "4EuQJzGLRxPD3cR9u7prZ4CdSp5lyrNyt+7/d/H+oQHbMkrPJuRvc7LsViZP8bEd7ms3vLAyHj6s\n",
      "q9s8JFvmpk69vJalS0/fyPmuk/M0qSy5ojZ1qL/2ISpkaXmVsSMCd7Nhf2tT02AVVt66W7CrTJ6s\n",
      "odV6fG8Zgrdzt+rfw/ODhuKYzNV5FVdVdK12g5bXyeFwrYU+XVzeQ7LCRkNU1uaKBa4Ni6WyFInI\n",
      "l/k7Oz/JysYSa0trUiXmPpRu2m11RZ2VtYX44RxaafXfthbtK+U5DSWFVQmOlp20+/5js5LqZDuL\n",
      "tpq8N6io6o52JrQ+Pos249lIzH0blUprkhXqKn3MpGnkZ47kA7vPj8i7G4hYEQGLiBURsIhY0f8A\n",
      "XUXVOAplbmRzdHJlYW0KZW5kb2JqCjUgMCBvYmoKPDwvTGVuZ3RoIDExMDYvRmlsdGVyL0ZsYXRl\n",
      "RGVjb2RlPj5zdHJlYW0KeJzNVr1u20gQ7vkUU8qAveLyn+kYam0wkEhHpN2cDweapHwMRK1MUg6Q\n",
      "tzNcBFffEwQpDlekSpfqZsmIEmlbDuDmJEicXc7ufDM7883eSm8jSTXAkg2IUolF0ntJgXdiloKM\n",
      "X/FvaQpEhTQ+pUBRWkijo+iD0N2pyJAU+4sUVSaKArpNiWG0ixWgmlgsNyrljTSaAAMXpuDAHH+f\n",
      "4QECsbEMN09s/tvv+EwbcM+bRVu6qhBL7+PtTMpE1VTVgugjilQ1VVRMpBHsfyZZsozLuODVMaxR\n",
      "AF7BIl9VEMPtJoMqw9GnrMwKWGVJVlVfylyoindb9I2zfcujU+ft3HO9ACZsqyY3OASCffxUJbTB\n",
      "v4fatExNb1GrVLOtBvWMTZg3d+CUzX3Hn7BwZ/6R4yP4F+LlZsWvRvHVEdzlq2SzjNOfwxiyqo4B\n",
      "nazzepP/85UfQ8WvgcPqR5GV/CBgzVaJpndnPAw4pU36COiyZqpmA12RqS3L1DAMegj0Maw4JJuy\n",
      "4pAejm7EXD+YBmeeA2wGjn8/9UKG6YVRYf5lML30ZsyPXgw+AiRmP/iUyLSFr8mabTTwQy+M2MwJ\n",
      "4QTOy6zKVkkeL3Hg83pTIuQTaPH8fea5wWEH+QJTKclTDutsyQ/66Dqz84vwMH5dI/LL+F0ndJ1L\n",
      "NoWrTrw6Opg9WZPfmCVfoIjrMt/PnpXAXn7j6MMyq/M7Doqs4MGTx1BfKGvxFZDhYzPR2p+fbZWo\n",
      "buHWBhSShpQlpGUnDZ9J+0Y3tzooDZ9Ju2Ojs5WGz6Szuuyk4TORFv9jbGEXvkO0qeiY+R1rDoh6\n",
      "e5AduysWUXQkeZNovWQbud/T/Kap1ruszBd5EiOZvHm0XteJhvgUTE67v0G/AgY4EjtNY6pSmr6y\n",
      "T1BTR04FJCGi7byW+9bOBflv3SiRJONNna3qHKs1RgdTrAb858mmwFkOsWgG2dBVJBRLRXsWsZSO\n",
      "IweG/qzrdfVmPK7ymzgm+WJdkizdkOuynRmvN9fLPBn3zI/rfM3/6KyTD9WiV8DykGiQ3Re8LOIV\n",
      "lmncFPE3UcTHQ8DUsEXLpoZJqNk/mzTGJoGeZ0VeVV/xlPme+xl2i+Sp0yevPCtFnJWOuWB2bYaC\n",
      "3XfPiZj/+eHVtwe0greHZ60wZH2YBO5F20v8hwD+gktsNZMAzh3RiT0/xBYDYTDFVh85CEkML52z\n",
      "pi0FFxEqoU7kRRde+3IYfoEBy0K0+P3QMz/0/ADCi3M294I5AeRtHLJ3DvjMZWF4j9MQOdMdvmME\n",
      "t/fODWaIEcd41wqeskop6XeOUcjmjvva4xNEZFqYU7v0V/th/RkQjOgp3mjmjQ9NPP37R8kpNjM1\n",
      "og1Yo22NcLCv/VrvQVqyZAUw/ic2TmRI7bdiJJboBsELI2rgZYxgyJICxnlxI8OEw/t9n3cqiLJZ\n",
      "jHfrk61w+OKsK3jFAwUjpj9HTIotSmwW502piWb7Sz7+B2fMzf0KZW5kc3RyZWFtCmVuZG9iagox\n",
      "IDAgb2JqCjw8L0dyb3VwPDwvVHlwZS9Hcm91cC9DUy9EZXZpY2VSR0IvUy9UcmFuc3BhcmVuY3k+\n",
      "Pi9QYXJlbnQgNiAwIFIvQ29udGVudHMgNSAwIFIvVHlwZS9QYWdlL1Jlc291cmNlczw8L1hPYmpl\n",
      "Y3Q8PC9pbWcwIDQgMCBSPj4vUHJvY1NldCBbL1BERiAvVGV4dCAvSW1hZ2VCIC9JbWFnZUMgL0lt\n",
      "YWdlSV0vQ29sb3JTcGFjZTw8L0NTL0RldmljZVJHQj4+L0ZvbnQ8PC9GMSAyIDAgUi9GMiAzIDAg\n",
      "Uj4+Pj4vTWVkaWFCb3hbMCAwIDU5NSA4NDJdPj4KZW5kb2JqCjcgMCBvYmoKWzEgMCBSL1hZWiAw\n",
      "IDg1NCAwXQplbmRvYmoKMiAwIG9iago8PC9CYXNlRm9udC9IZWx2ZXRpY2EvVHlwZS9Gb250L0Vu\n",
      "Y29kaW5nL1dpbkFuc2lFbmNvZGluZy9TdWJ0eXBlL1R5cGUxPj4KZW5kb2JqCjMgMCBvYmoKPDwv\n",
      "QmFzZUZvbnQvSGVsdmV0aWNhLUJvbGQvVHlwZS9Gb250L0VuY29kaW5nL1dpbkFuc2lFbmNvZGlu\n",
      "Zy9TdWJ0eXBlL1R5cGUxPj4KZW5kb2JqCjYgMCBvYmoKPDwvSVRYVCgyLjEuNykvVHlwZS9QYWdl\n",
      "cy9Db3VudCAxL0tpZHNbMSAwIFJdPj4KZW5kb2JqCjggMCBvYmoKPDwvTmFtZXNbKEpSX1BBR0Vf\n",
      "QU5DSE9SXzBfMSkgNyAwIFJdPj4KZW5kb2JqCjkgMCBvYmoKPDwvRGVzdHMgOCAwIFI+PgplbmRv\n",
      "YmoKMTAgMCBvYmoKPDwvTmFtZXMgOSAwIFIvVHlwZS9DYXRhbG9nL1BhZ2VzIDYgMCBSPj4KZW5k\n",
      "b2JqCjExIDAgb2JqCjw8L0NyZWF0b3IoSmFzcGVyUmVwb3J0cyBcKGRlY2xhcmFjYW9fdmluY3Vs\n",
      "b19ncmFkdWFjYW9faWZwclwpKS9Qcm9kdWNlcihpVGV4dCAyLjEuNyBieSAxVDNYVCkvTW9kRGF0\n",
      "ZShEOjIwMjAwNTI5MTMyNTM4LTAzJzAwJykvQ3JlYXRpb25EYXRlKEQ6MjAyMDA1MjkxMzI1Mzgt\n",
      "MDMnMDAnKT4+CmVuZG9iagp4cmVmCjAgMTIKMDAwMDAwMDAwMCA2NTUzNSBmIAowMDAwMDA3OTIy\n",
      "IDAwMDAwIG4gCjAwMDAwMDgyMjMgMDAwMDAgbiAKMDAwMDAwODMxMSAwMDAwMCBuIAowMDAwMDAw\n",
      "MDE1IDAwMDAwIG4gCjAwMDAwMDY3NDggMDAwMDAgbiAKMDAwMDAwODQwNCAwMDAwMCBuIAowMDAw\n",
      "MDA4MTg4IDAwMDAwIG4gCjAwMDAwMDg0NjcgMDAwMDAgbiAKMDAwMDAwODUyMSAwMDAwMCBuIAow\n",
      "MDAwMDA4NTUzIDAwMDAwIG4gCjAwMDAwMDg2MTEgMDAwMDAgbiAKdHJhaWxlcgo8PC9Sb290IDEw\n",
      "IDAgUi9JRCBbPDNjZjIyZmEwODQxMDRkNmU3NDU3MTQwNmY5ODUzYWMyPjw5NTI5YTUwMjcyZWEy\n",
      "N2FkMmNiZDllNWZlMGQ3ZmI5Zj5dL0luZm8gMTEgMCBSL1NpemUgMTI+PgpzdGFydHhyZWYKODc5\n",
      "NQolJUVPRgo=\n",
      "\n",
      "--===============6257442002102367787==\n",
      "Content-Type: application/octate-stream\n",
      "MIME-Version: 1.0\n",
      "Content-Transfer-Encoding: base64\n",
      "Content-Disposition: attachment; filename=\"summer_300x300.jpg\"\n",
      "\n",
      "/9j/4AAQSkZJRgABAQEAAQABAAD/2wBDAAgGBgcGBQgHBwcJCQgKDBQNDAsLDBkSEw8UHRofHh0a\n",
      "HBwgJC4nICIsIxwcKDcpLDAxNDQ0Hyc5PTgyPC4zNDL/2wBDAQkJCQwLDBgNDRgyIRwhMjIyMjIy\n",
      "MjIyMjIyMjIyMjIyMjIyMjIyMjIyMjIyMjIyMjIyMjIyMjIyMjIyMjIyMjL/wAARCAEsASwDASIA\n",
      "AhEBAxEB/8QAGgAAAwEBAQEAAAAAAAAAAAAAAQIDBAAFBv/EADkQAAEDAwIFAgQDBwMFAAAAAAEA\n",
      "AhEDITESQQQiUWFxE4EFMpGhFEKxI1JicsHR4Qbw8RUlM0OC/8QAGAEBAQEBAQAAAAAAAAAAAAAA\n",
      "AAECAwT/xAAeEQEBAQEBAQEBAAMAAAAAAAAAARECIUExEiJRcf/aAAwDAQACEQMRAD8AvxLRw7PQ\n",
      "b8j2v1GbmZk/WB2Xm1OGHqcRVIh1WrTgfyMH9yt9SoKvxSqyQQ2iGiP1UeKdM9Gst5vKauPMDdVU\n",
      "zfXY+MIsY5ofVZMtEge3+FcsDalMxnI8rR6TWku/K63uud9dObjyuOY5vEUeJZejUc2ffqsjaBZx\n",
      "JqU55KmqNxe/2Xs+iHUaTKl6TxoPY7fcfdQ4Vh/E1KdQhrjILo3BsfcLlefXXnrxbhaQNKodnsiO\n",
      "8gH7/qnh8CPmaHNI6QZC6iCzlc03LmOF7HIP2VYis0zyuId9oK6SOdvrNxIB0ObgtmFiqiGAgZG6\n",
      "9GoP/W4QI+hWSq0gC2CsdRvmstJ4II/eyVeiACC4SBzFYqfLJM3OPdbm/JBsTcrHN9a6nigcGguf\n",
      "f8x7qTWDiKr61QmJjyAqNYXZGcLQKbKNLmdHV3QLrHNnbTe9xIbEnbZB1JjjpHMBkDc+VT1XVG6K\n",
      "YLGbDeOp7lRceUMpCG7kbqW4smiWtJgAGNhgLgBJIORdxTafTaJBjYdVzGue7E9lJWrE/TaeY2B+\n",
      "6lXaazegxK2+lJ53A9guMAYxgLTDGaOhga0ZtJTPAgNsSqiXu1G4H0CLwylNV13bKowcTTJgOMvN\n",
      "oClUoinw4YDkyStlBrqjnVHt8BZuIL3PJbEA3ccBBlqNFFup1zsFFj31Q7UYEWK0ksq1ACCfIS1X\n",
      "MDtIA0jACfisfp1HEtoiAcuO6r+EbRaC67upV2lxNjAV/SqvtH1UajzTLnYnwtNIWE2VH0iyxyub\n",
      "ScTIWdb/AFtoOAiTdbqZsCF5dKWxK9Ci7lTWMepw1cti69WjxJIyvn6brrXSrELtz043l7za87qg\n",
      "rFeVTrDqq+tbK3rGPTbWVxVsvHbVI3VBXMZV/pMfP0Kn/ceKqAYAaFTiSCGgmTjzZTo2LqsXe+R4\n",
      "T8QBJ7GQuMrrZ6m4S8OvjCsXQHAC8BwSAXZKYSWAnIF0MCQ+hptY3EXvcKNRgNUVGQSWyZ3Cuwcs\n",
      "i40ieuVnY7UdTTzU3kgdeoUs1qNDef1Gts4Ee/8AsJXg+jIHNTODuCmb+zqNe10sdYdtwqcRJpio\n",
      "2wIh3Y7LTOk4pmXdQHLNxNMNYe7tQ+i9B4FSgyfzAQehWarTL2hpBkX/AFUsXmvDqUiHtaTYOP6r\n",
      "VS5j/Dn2S1W/soIOoukH3iFWm3SyLajv0XHMd98aOHBqP03nvshWcaxIY0loMCyo0OYzRSBE3c7f\n",
      "/CEG0PcSPyMXSTxy36m2gSAxztA/M0XcfKo2nw9OARUcekgKrGHSNXMJ62QfTAFpc4/RLF0P2P5q\n",
      "Ag9XlKajDytoFrexRDXajYHzgLvTc3JB9kQoFI41A/VI6kBu13gyU5pVXtkwBPsg2houHCeyCbDs\n",
      "AbdUjxrdC1OGoQW//Sk9rWgyQPCoz1XBoDB9lmdR1CX/ACjDZWkxPL9kvpE8xB/oE1MYX0XPOkN0\n",
      "j7lZ6lL0mGTLytlelxBcfTbAP3UH6WWrVG6xtupVlQoaxUFjHVek1xLYAXlfimeodF4WihXc5sEt\n",
      "aD3QaHUySC4ohwmwUPXBcWgyUdekSsV0l8bAxroV2NgBYKdcjJW2jWa6ykTV2WN1dpuoSNk7Sukr\n",
      "FjWypAWhtTusIdZUa8hb1ixu12XGodiszalk+pa1nEWtuJEQ3HRI/mMGJhUmWTuXJHWDj1dAWPxo\n",
      "jhZvZNh7gcAA/dDLgewRLpfHayJQpu0cTpjaJUiGtrPqMBhwu3xla9IDibWAKhBpVpaAb6vPX7Km\n",
      "ma0EBriAx4kHoQtFMcjmuG3N2/3dRa2HObf05kduy0Ug605w7xhVNc1pNEMNoAPule2WE4gZ91cM\n",
      "/KRtlLILADac+2VcNeLxDY4hgaZJkgdO6pR4eawvysEnuVr9FpDXlvM4THQTP9lVlLl0mwN3H+i5\n",
      "/wA+un9eJBpeIGcyRsqCiylT6AZG5VQA0TMDqVOtUAu4hrBgLWM6iXlxDqnLTGG9UtQ1agsCGdsn\n",
      "spO45rn2IAwpfiGkma71m2NZf1o9Go75zob0m6b0qbYIbJ/mhZPU4ciS4k97q7KlJzRDWnwhVCXO\n",
      "yGgdnSl0SDzt+qdjadS0AdiE7+HbiY+quJpGtjo7wUC2QQWx5QPDlvyuCBlliB7FArm6MCB2Uajm\n",
      "zLpI6C60zO7kpAixnystPNrvc9pDKb/GF5dXgfUcfUboHZ119G6m1zdlmfSYPzD9ER83XoMpHTTB\n",
      "A3MqGssMN1FexxNAsdrkOB6rC4EGw+yokwuAJ3K1UXFjeeSgw3sxbGUjUZEZ7LNi6y1KlrGFThax\n",
      "a4XXVuEc0Eu9lCixwq9kkW17dN+sBaW4CycO3lB3Wpqh8WamDkgNly0iocqB4i6zynlalYsaA0EN\n",
      "a0YGUjo1HMAhVZEHqLlRDS42xMhVmFP/AJI2EIQQWHMOhO4Q6xtZEDHe8Irny4GDZzUA2KTQbkKt\n",
      "QANAHSxU2M1DcCNJCopSB0i1wIIVmNI1AtG1x3/ylawgGVXVZ1xgFWRmmGIEyLKZZzOg+EwIDjG9\n",
      "/wBExESVUR9LUZf9kajmhs2AG3VR4njGUGy5wAiSei+d4j4y7iXltLUKWNW7lM1dx6nG/FaVEw0g\n",
      "uFpdgf5XgV/i3rPmS89Tj2UHscdYNS21151UMDSGnG/VbnM+s/3fjRV+JVSC1r9JO4WccXUd81R3\n",
      "1XmcXxgZDR8yxN46oCJFlfInt9fWcLxMvggEHIK2taRdpdTdNix0wvnuErisAQZ8L3acM0mCfdSy\n",
      "VJsaR8Qq8O7TxJlm1Vo/UL0+H+IO0tIcCDgg2K8zlr07CRsSvO4aqeC4t3Dk/s3ElsnBWcdJX2Le\n",
      "KLxsQUHFp/KJ8LwG8RWY6WkR0Xo0OKLm84vGFztkdZzWwObMG3sjyuGxUmvY8Z9ijLR8qxauC5gi\n",
      "QxY6vDveZ00z0yFua+d5TQ2DYQh68N7HB2k02rJUbU1WYDfAXu16bXQA0LFUoBrpFp6KjC1riLAN\n",
      "6rXQdpbBygeGm/qQi2gGunVKIs+HCIklY/Qc2vewWsOfERCR+ouk5SkaKLYAutAKy8OScrUBCjRw\n",
      "jHVcEUZBGUTZLBVG8ACnLjlTkNaQOsnwqEmZOALBS08t98rq5liwtsU7WkFnhLZxPS6oBqgbXUHV\n",
      "mywgFTpk2OJMEKjza0lK2xG4G/VBQOzH/KYODS0OB5hCh6hDi23ZGm+b3IwR0WkadXKVi4vjGUGS\n",
      "DEDCLqjmtM7L5zjuINSs7pMIPM+KfE63GcX6AnQ03AWqlSPptkNMC5Oy8yiC7jal4JcvcYJokWcY\n",
      "6LUmMdevO4hgDXOuTgTsvL4p4ZTkT3XuV6LizMNiYXgfEGubTIExHTC2xHg1XFzyTkpQTC43K4Zh\n",
      "ca7Rt+HcQ6lUsJHRfS8LxtWq5oqMAESF8xwtMNqAudBIkL3mjUxnpuggQR2XSexjr9enSrS8ljiR\n",
      "0OyzfFHAup1AeYEJGGG2zgqXFONQsbmSB4WavL2+Dl+lem6jDZaQCvP4Bsx2XtNANOInyuXU1356\n",
      "xh5syQuBcD80rWaF/mAlKaJAMcy815rvz1E2OPQQtLHysxpu3bHkp6ctP9k5thZKuabX7qNThoFo\n",
      "Ks0gi6LmAwbrtPXG+PP0lh5mphL3QGx3V6lEuHykrmU2g3BVZQfReTAI7qXpkGCvQLGtFyovdTmb\n",
      "K0iFNhDsrW0KTXCeVWblZatMLJhhKBZMqgbowhdDwg9MtAYTvie/ZZ6t3iYgAaRv5K0VakgiOabA\n",
      "beVieOdxuYiT1XZyhpkmd4sm16STe95SgwL5FgUjyQQeloUVUusbDKBME5IN0k2GmxKYjBjv4QI4\n",
      "t0iLXmUWPJJGIK6oxofaxN1xEAuIgqjJ8Qrelw5FpObr5r1w6sQLwvX+LvBa6CIA2XzbX6a3lSNZ\n",
      "4DSGce8GBJ3Xu0tQZIjqvA41pZUZWMaXWK9X4fX1NLJmBIW3Ho9d3qPIGwuvH4mkaoLRBnJXuVmh\n",
      "zXZtiFlp02l7joBA2XSOVfL/APTWU3RUJLp2Nkr+AEyH+xC9fjKDtbi0FpGAsbNTnQ5ltzhS8R0n\n",
      "VsJw3BkHWS0xhb6U0iMAgXU3VfSZDQpNqPcJMG6lkk8P1vaWtZLjLplSotNbjB0bcrO6oQCbjb3X\n",
      "qfCuEe8gxLnXK5V15j3fh9Lku0L1Wt5bmFPhOGDKYlaXaWbyf0Wa2XSALySgS2IRLgdyfCQsaYsu\n",
      "dalI8A9b91B1OcTIWsNjt7JXNJGFz65blQpSDcrQCCFlI0uV6ZtdXi/E6/2ocXCjUkYKvqPt4Qz4\n",
      "XRzeTXqcQXQ0EhTY2pqlwK9ksbOLJHNZ+6isdMEALS1IfmCdt0VQIiEAijIEIBGEUV6VbS2BoME3\n",
      "dgeykxoqMcGjkbLiZmTsqcW/W4uMwBAhswpcNxLfTe0xIHKAd12cmTWZIPlS9VwAdptKWrUcKsho\n",
      "7gpdcjm5fdRpYOtF9IxOyqHHRAIWUPIjJCtSJ3kIihk2Odk1xRMmYQnUCJuhUdoZqIgkQ5B89xhL\n",
      "zVbgklfP1uHqgy28L6DinN9QuF1KjS9RwELMrpjwfVNSi7h6kjds7FT4TjDQq6XAgt7r6Ov8JbVa\n",
      "TE/0Xi8Z8DqzLZnutSsXl6tLixVog7kbqLqjmE6AAfK8MfjOE5X0yR1F0zfiLsPeYPWxWp053h6b\n",
      "q4cD6tuyxvawmQ6exUDxmoQXAqXqy4kAuPZa/tmcHcdToOyXWBEAx0G6enw9Wq4Q0iV7Xw/4A+oQ\n",
      "5/KNy5YvTpOPrz+C4KpXqBzhfYdF9h8P4IUGNs0+6rwnA0aDQA0GOpiVsNVlOBACy2M9XNACRxBJ\n",
      "BwldWaXfKCgTTDp0iempYtakPIaLH2AR1HYBSB1dvCoGHclZ1TE2wfKXRbJT47+Si3EKYms7wBfS\n",
      "EGEqlUW3SMbeyzmVrfFmwd0HCLyu0zeSiQI3XVgmowl+YZhU0dMJHMg5UEnU4PVFuESyFwEYRTjC\n",
      "6FwyjJRA9kDKddCD0uKbU1Nvy9GmJCwa3U6NUEcziYMxK38U/W4U95sBk+F5tSkdbnF7tGS7uu1Y\n",
      "jzjr1ESSEA5+oQABt1V65a4gtMB1+im1gBBJm0LFbkUa8Ttqm6syp1KyCC7/AHZMyo5pu5vRXUsb\n",
      "gQHQTkKPFkvp2OM+EzCXRa8KFdwMBwVSfryRS1mD4W3h6GkgdCq06I9QujJAC1ekDnKzI31SaQDP\n",
      "WyL6LXCwv0TNp52O4/qi0EyHCCN1phhrfD6VTlLRe6w1fgFN5PLHsvcd8sOEjZwXB9rEExgqK+fb\n",
      "/pqlqFz7QtdL/TnDtiWn3K9UVGnliD4TCq4iAW+6qRnofDKFBsBg8lam6GNiWAj+JJLnAhxB8QUP\n",
      "w1MwT6c9SMrNrX/RfXp3BqMHhSL6bpPqsI7tJVhRcByem0fwgI+jWBs5pnILYWLa1zjLpYb6yfAI\n",
      "V2MYGwGkhUbQcTdon+aU3pFu4CxZWtKGNiwjynYSBsUwuYmfZPp7BakZtTJJjlF1wBAuSOyoWtjP\n",
      "0QAvZVlB8m0lTFjZai2R27qRYJss2etQQSmudkGWNwnm1lqM0oXFoOQjlGJCsRFzUsKr4hSUUYRX\n",
      "AwgqOMyukowj5CD1ajNT6dRsS0kEn9V53Himym2ixxgSY3kr0/RD61RgH7PTJncrz/iTmsqva2JO\n",
      "IC7Vzn68mtDA0dMlcxsCSb79ktYy256TKzmo68EWi5XK3HaTWguABJOSnYwFowI6rK1xfUBOFsoV\n",
      "NZi1rgLPPWnU8amNsP3Y3Wd1Fvqzvla2AEBK+nEOGN11c0dGkUxGZlVLLWwlvk4CZpgQTcASiOFg\n",
      "STjdMcg7xeFxAsg3lJaWqARvjvsgaQmZ+i0NZa0X2K4UYu1uk9sIrNpMXGoTkIi9mxHRaNBDrggj\n",
      "omFMFoMQOtkNQgiA6m0+yJbA5QJnEqnp0xeXH+QotazTdxP8whZxdICw2cyD1E/0RAlnKRI6KktN\n",
      "g4eEJMxpIA6qYakRUF5/si0GZJv2Co0SSNJjuVz2Fo5dIPQpmro7d0SYgRzeEeUibWXSmGlOOiDQ\n",
      "CqWPZDSDeVcTUyBEgypxdWLIwVMg6lmxZSzC4FOWiENACmL4ACfaV0AZS3WoynUNrKYMqjykCimX\n",
      "R0XBMFcQoMZQ1JyJSFl0NetRrMBu50XmRkrx+Nrft3PcbmyfjOIP4UU2vMTpJXj1HlxLnOcTkX6L\n",
      "p10c8me5xPcKOonIxnuukwJNnBCLafuuPVduYZrnG4sI6QVei64vHQBZ5IF5Pda+EAc7raVibrXU\n",
      "8egZbRLh0tO5VKZJpxFwupsboAzCqxoYdMr0x5azBouLi6UQdWSQYM7haHNk3SenJPdArTBG9lUR\n",
      "YW90DTOLyE9MDceCgppsOW3ZECIuR5TUzodBFjsVYNn5SI6EJhpGwRBddcKbQMCPCfQBAgA9F2m+\n",
      "GohPTBjTkdkjqM2LSO4VTB2I8FDSSLPI8hRdR9OLBzj3lDQ5p+Y+wVC1xOxXDVHyqKUO2kn2XEAl\n",
      "Nafkg9kZGne3VBIWsfaU2ojYFB8nBhRJcNys2rJqpeN0Q9vhQ1E2JlEAhJTFnXwQVMDqi0oiCU+g\n",
      "aV0QiWkXC4LTJYugSITFyU6VFRc4JIVHhIo0NtkZM9kEA7ZVFIQkBLq7roU0xmrNqVWOgYcTIWB/\n",
      "yua8WafqtjtQEAkeFnfSDnEnrspa78xnDg8CMAXXBhvGI3Vm0m7CCnFMrndb8SpCMmVo4cQ47X2Q\n",
      "FONlRrJqMiyvM9Z7vj0qLNLicTC0NAJkBTpU4E3v3V23theh5ag5p1lDRzY+i0PZJ87pSwmJP2RE\n",
      "yJMTfdEAA3+qsGT80Jgz8pxsgQCOhHRO0uaLCfKIpxg23CZpGQQQgYPkXkfcIxIkAFAATIsU9xcB\n",
      "VCSNwfomkEJ9Q3ELiOiCWm8mUrmxeVQjsgRKmKgXDAH1CUunICtA6JCwHZZsqokzgBIQ6ZCsaZSQ\n",
      "eqxY1KiQQbtXTG6rpIyhpF7KSLqckJ2weyEQi0LUSm2QIELsITK0yVwSKhSOFkWEJSxOESUpzZZU\n",
      "YQLQmsRBSkHZUCEJ7pkCL4UE3U1E0rr0HMUdAmEx2lZ20lQUey0sYFj4v4vwfBv9Nzi6p+6wSVZE\n",
      "vSvowEAxtI6n4C7hviHD8RT1hxaf3XCCo1XO4mqAyRTB+qYztepTqio0Q7lVGG+b91GjTik0CSBh\n",
      "Xa2BcBVz8Wbc3wiG3iJCQe8jZMXaQIJW2RjTaCQkJBFjHZcKs2PsiIkn9URw1DeU4EiyDWjVI+ya\n",
      "J3IKDgHA9lVhBCUSgbIHISlDUVxQcUqZAt3CBTICUnsnygQoFkQpuAOypGZQ0gqKkuiU+mChpAUx\n",
      "ZUiDPVMBZPA2QISQ1M2KUqhCQtlAsghKUdMIOwgmRISwn3QUUIXCyNkENGAQhpRhdKYa2V6XpyFi\n",
      "B5j5Vq/FCqJlZab5kqu8nhPiFV7OEcKR0uNpXi0OCAIJEk3Mr2eIaa0NT8LwcmSFcYviHD8I2LAB\n",
      "ejw/DFrRZaafCtaBZaW0yAOiuOd6R9IgQ037oHULOELQW7oETsjOsNRxaAW9bEbdipsrFxm8bhbn\n",
      "0ZwBBU2cKAVPqslcVCNVMym4eq93zSCtvoSOqT0Q10xCsRNtYtfBESqmobcwTekCLgLhSjFx3VQz\n",
      "SeoRMpdMWhcJn5SEDBMLJQjPVAbFcJXQhCAHwjK6Oi66gUmEoxKYoERhB1kFy5FIRCUhM4pNSgBl\n",
      "LO6Y3ukOUHG91Mp7pHBRSlKSjH0XaQgWbruiMAJZQHVKMpZuhKKg5xAIOQpcNVBbCvxTQ2mSLGFm\n",
      "4FjnsBOMgrWO06/xejQp+pBhelSow0foslEhnjK20qgc2Qq49XVgIwbphflwkyEwkWhVgpkbGFJ7\n",
      "3NuAtAvvCDmagoMz6r4nSCMqRrm8alrbSBEKbqEOJCCHrukFoB7gwmFckSWwmdQn8s90zaNoNwgR\n",
      "tY3lhBVG1JwEzaUBEshAhJNoXAGUZGEwg/4QLeEUYRQL7IfZMhCAakuqTayaALruXICg6ZzdCy5A\n",
      "wgDiAplyYlJEoON90kT3TEFCNwooRC4rpKGpApskPhO4wpnMooSguRUUhalLVWEh8KISLroCeJKW\n",
      "ExWf4hVZToOBN4hDgHNNBuk4sVN9L1Te47p6dH0vlELo38x6dL6qjBHymFkpVTPNstIf8pBVc60t\n",
      "c4stlUZUqRcCFFhOm30VWvBtv3RlTUci/ZEPJxM9OqWAQOuxTDYEIibqk3H/AAmL3NHUdUXUxK4U\n",
      "4mMdEC+rGQfIXepJsLI+nBXemBgortZmUpqOlNjAQDZUHQD2XRHhENhGIQC4wuDuohGy77oO8FA9\n",
      "0J6Lg7qg4ibJcBNyneEC0xcSgVAowgQoEIQAhPBQjoilR7hcbJZQcRIU3BUJ+iR18KCRFkvlUIlI\n",
      "Re6ihC4iFyPlAPKBamhAgoEhD2TEJLhAjKZPzCCqOpyFQMiLp9HVdF1m0kTZGm86rjBV2sIOETTE\n",
      "zF8qFUp1RvaVbWCAdlkLIxMrmapgqst7XiITh1lkpF0wVpYeqIrqsNwUC4jwuwuJlECS0A5C67sf\n",
      "RcEbC4RSgGUQiSD5QBUBk+VwvjPQoAyYP1RibGx6oBulMhOZAg3SmQOoQAd0CJwmADhbKUyCoAVw\n",
      "cjM5Ske6Bsi6Ug7XXArvsUAXIyJuEDhACFN26fVspneFFLMISuKTSgJMpDjKaLIQopJMIhyJCCAy\n",
      "uQKWCgeyUt7hAGEdYQatHYLtGpv3Vi3dFjL4W01MNGyAZO3hXDQLAJg1UQ9Kcrm0gHYWnQuDLyiJ\n",
      "BkGU4bumwuQA2XeEcoQoOQEwjuuQd3C7I7rpXYQBMMQhm+65AcZuELtMtXTBRN7tQCA7GeiHYroH\n",
      "grg4Os7PVApAOEtwU5bCBAKgGcJSEYiy6ev1RSzK6SCiRCWUHFoNxnopEQeioUsg2P1QIUPKeI8J\n",
      "Y2UCwDul0p9MXCElRSkWuliydLCBVyMRlC4QCF2kdJRBhdI7Kj03M2KIG4Vy0G6SBC2zpAJTwAus\n",
      "EJQEELgUmCigMzlKjKCgGEUEYUA3XZRQhAUEcoKg47FHaQguBgqALgYRI+hSoGcARISyCL5XTBRI\n",
      "DhI+iDgSLG4QI3CAPXCMkGyKWYQI6JiA4WseingygabJCJEom+EupAMIEdE5E4SqBQYx9F0DIXFq\n",
      "DZbdByBsUxvcfRD2QISlmFQhKQCgUkIEiLolqRFA5QRMHCGkqD2y7lMYwl1SgL0wlW2TTKAMIBFB\n",
      "09UUuyIQcuXBcg5FAIqBSiuylm6BlxXLkHSuAlBUphUM1komkr02hUc0RhVHnuYUlwVse0KDgLqK\n",
      "iTuPdDVsVzhBsk3UU+6JAdnP6qYJsEwQKRB6JSNwqn5fCmcqACUTfyuXBAh6bIFOUpHKgUlcXT5Q\n",
      "IQ3QLJQMp4BgoIpZlDZNAK4BAmldCeEYCD//2Q==\n",
      "\n",
      "--===============6257442002102367787==--\n",
      "\n"
     ]
    }
   ],
   "source": [
    "arqNome1 = 'summer_300x300.jpg' #Nome do arquivo que será anexado\n",
    "arqAnexo1 = open(arqNome1, 'rb') # Abre o arquivo que será anexado, como binário\n",
    "payload = MIMEBase('application', 'octate-stream') #cria um payload a ser adicionado no e-mail\n",
    "payload.set_payload((arqAnexo1).read()) #lê o arquivo e coloca no payload\n",
    "encoders.encode_base64(payload) #codifica o payload, em base64\n",
    "payload.add_header('Content-Disposition', 'attachment', filename=arqNome1)\n",
    "msg.attach(payload) #adiciona o payload à mensagem\n",
    " \n",
    "print(msg) #visualiza a mensagem, inclusive com o anexo"
   ]
  },
  {
   "cell_type": "code",
   "execution_count": 54,
   "metadata": {
    "colab": {
     "base_uri": "https://localhost:8080/",
     "height": 598
    },
    "colab_type": "code",
    "executionInfo": {
     "elapsed": 2285,
     "status": "ok",
     "timestamp": 1592777047247,
     "user": {
      "displayName": "José Vinícius S. Barboza",
      "photoUrl": "",
      "userId": "14879123349351999351"
     },
     "user_tz": 180
    },
    "id": "JbTmsRfgtIPr",
    "outputId": "ecc457a6-ece4-4076-bc8e-379f45fa0cbb"
   },
   "outputs": [
    {
     "name": "stderr",
     "output_type": "stream",
     "text": [
      "send: 'ehlo MacBook-Pro-de-Fabricio.local\\r\\n'\n",
      "reply: b'250-smtp.gmail.com at your service, [187.59.54.62]\\r\\n'\n",
      "reply: b'250-SIZE 35882577\\r\\n'\n",
      "reply: b'250-8BITMIME\\r\\n'\n",
      "reply: b'250-AUTH LOGIN PLAIN XOAUTH2 PLAIN-CLIENTTOKEN OAUTHBEARER XOAUTH\\r\\n'\n",
      "reply: b'250-ENHANCEDSTATUSCODES\\r\\n'\n",
      "reply: b'250-PIPELINING\\r\\n'\n",
      "reply: b'250-CHUNKING\\r\\n'\n",
      "reply: b'250 SMTPUTF8\\r\\n'\n",
      "reply: retcode (250); Msg: b'smtp.gmail.com at your service, [187.59.54.62]\\nSIZE 35882577\\n8BITMIME\\nAUTH LOGIN PLAIN XOAUTH2 PLAIN-CLIENTTOKEN OAUTHBEARER XOAUTH\\nENHANCEDSTATUSCODES\\nPIPELINING\\nCHUNKING\\nSMTPUTF8'\n",
      "send: 'AUTH PLAIN AGZhYnJpY2lvbWZlcm5hbmRlc0BnbWFpbC5jb20ARGVib3JhaDQ2OTE2NzY2\\r\\n'\n",
      "reply: b'235 2.7.0 Accepted\\r\\n'\n",
      "reply: retcode (235); Msg: b'2.7.0 Accepted'\n",
      "send: 'mail FROM:<fabriciomfernanes@gmail.com> size=23515\\r\\n'\n"
     ]
    },
    {
     "name": "stdout",
     "output_type": "stream",
     "text": [
      "Enviando e-mail...\n"
     ]
    },
    {
     "name": "stderr",
     "output_type": "stream",
     "text": [
      "reply: b'250 2.1.0 OK b196sm13357043qkg.11 - gsmtp\\r\\n'\n",
      "reply: retcode (250); Msg: b'2.1.0 OK b196sm13357043qkg.11 - gsmtp'\n",
      "send: 'rcpt TO:<faskt8@gmail.com>\\r\\n'\n",
      "reply: b'250 2.1.5 OK b196sm13357043qkg.11 - gsmtp\\r\\n'\n",
      "reply: retcode (250); Msg: b'2.1.5 OK b196sm13357043qkg.11 - gsmtp'\n",
      "send: 'data\\r\\n'\n",
      "reply: b'354  Go ahead b196sm13357043qkg.11 - gsmtp\\r\\n'\n",
      "reply: retcode (354); Msg: b'Go ahead b196sm13357043qkg.11 - gsmtp'\n",
      "data: (354, b'Go ahead b196sm13357043qkg.11 - gsmtp')\n",
      "send: b'Content-Type: multipart/mixed; boundary=\"===============6257442002102367787==\"\\r\\nMIME-Version: 1.0\\r\\nsubject: Exercicio 10 - Envie um e-mail com mais de um arquivo no formato PDF como anexo\\r\\nfrom: fabriciomfernanes@gmail.com\\r\\n\\r\\n--===============6257442002102367787==\\r\\nContent-Type: text/plain; charset=\"us-ascii\"\\r\\nMIME-Version: 1.0\\r\\nContent-Transfer-Encoding: 7bit\\r\\n\\r\\nUm PDF e um Foto\\r\\n\\r\\n--===============6257442002102367787==\\r\\nContent-Type: application/octate-stream\\r\\nMIME-Version: 1.0\\r\\nContent-Transfer-Encoding: base64\\r\\nContent-Disposition: attachment; filename=\"declaracaomatricula.pdf\"\\r\\n\\r\\nJVBERi0xLjQKJeLjz9MKNCAwIG9iago8PC9EZWNvZGVQYXJtczw8L0NvbG9ycyAzL1ByZWRpY3Rv\\r\\nciAxNS9CaXRzUGVyQ29tcG9uZW50IDgvQ29sdW1ucyAyMDA+Pi9UeXBlL1hPYmplY3QvQ29sb3JT\\r\\ncGFjZS9EZXZpY2VSR0IvU3VidHlwZS9JbWFnZS9CaXRzUGVyQ29tcG9uZW50IDgvV2lkdGggMjAw\\r\\nL0xlbmd0aCA2NTA4L0hlaWdodCAxMTUvRmlsdGVyL0ZsYXRlRGVjb2RlPj5zdHJlYW0KeNrtnQdU\\r\\nFFfbx2cLsLvAAkvvIKAgIGosscWIolFjLLFEfDUmsSS2aIxGJZrEmKYmMdYkat7YYsBejhhjr2BE\\r\\nBUUh0ntbOruwbd7/7iBfPgIquzuKh/s/Rw9zZ+bOM/f+5nmeOzt3hkPTNEVEZGxxCFhEbKjFYMnT\\r\\n0pXZOSppKS2XY0+eSMSzk5h6egg8PJ71uRC1IrUArNIDh2ti/qq7n6TMzFZJpRqZHIVcgGVva+bl\\r\\nadYxwLx3D5sRwx9RQ0n1faWmmqJwRE6LrKQpmkeZOIq7NCovl2XKVSVUy32uzgJaKbPwcPZns3nb\\r\\nrp4IrNLDR8ujDtVcvFKXm8rRMsHjUNyHcGB/DUWpwJipp6/Fy/1swsdbDx7070piM9fmVl5Va2R6\\r\\nWAmwuBTfWugb4jLT3qIjU3ivYG+a9IRcJdWPVPwv5EuCnN70th38lBu9LejxYOV8/Gn5rsi6rFQd\\r\\nTHxdBzbRi7quUuKfWTs/2xlvOX+08J9r47I33cj5XqGq4HB4+hmK+jW0MtjpnVC/NVjMr7x5+sGc\\r\\ncnmKzio9pabrbEWBw/x/lZj7stvMbU+PAqs2Nzf/45Xle6JopVyH1OO9Aq11YAqe0Eoy7U3TWdOc\\r\\n/OsDzbHE8Myys1yOCYfTMtfyT6k1ChuRX5jfZgfL4BtZ62/lbVSqZRyO/mDB3Fp1+ajAA962Yew1\\r\\ncdvUo8BKnzqjbOfvFK3iUC1zMzSl5PAEdvNmun/3DVNy5O747PILXK6Z/lhRlEajshC4Dmm/1Unc\\r\\nOSbj64SCX1RquSGkwtA6TeVw/x1+9iON2ahEjwArZ+mK4u820orallLFCGxxTUXOa1Y5zptF1YN1\\r\\nkcs1NRAsS6Hb4PY/O1kCrG/uFGxXGgesnX72rxmzUYmaA6v04OHc+R8ps7M4FF/vqjVUnZmXr+fO\\r\\nbZb9ehOw2pqaBiv19fCKgwefMK9qTrp8q9Z+7gKP9WuO3p+YJT1HwGo7agIsadT+vAXLlHlwVyYG\\r\\n1o6AaOLk4rVvz3nHLZmFpwhYbUdNgJU154PiTRs5lKkh7oqRzmnJ3L5dfy30bE7NNe2o0IDaCFjP\\r\\nkRqDJU9Ly5n5fuXpk1xKYJQDaCi5zfjwuLfTisTpHJpHwGojagxWxelzufM+rL1/Fx7LKAdANBQG\\r\\ndYpfViNtV8FVG3DPiYD1XKkxWNLfonI/WKIqzDdkPPj/peFZS+6u5pWFqLkqg2IrAes5UmOwirf9\\r\\nN+/DCHVFuX63r5oSzeHyE9ebl3fncVUGVUTAeo70b7B+zVu4TF1pXLB4OrD4BKy2o6ZC4YIlqiKj\\r\\nhkIrm7tr+CQUtik1Bqv8z7O58xbVJRkzeRcEdkqIIMl729K/bjekpmpvN5z5w5i3G8aFx71Dbje0\\r\\nLTV1g3T2guLNm4x4g9R17Q8xoWdzZDHkBmnbUVM/6eyNQv6uzM81PM3S/qTj4OK1f8955y2ZBeQn\\r\\nnTakZn6EHjOx/NAhjhF+hJbbz5nvseFb8iN0W1PTYEn3HcxbsESZm23gYzOmnj6eO7eJX+pDHptp\\r\\na2r2Qb/sjyJKvt9MK+v0f9DPROi8+nPH+XMo7YN+43RgtcInSCuG++8iYBldj3w0efI7ZbujKEqt\\r\\nz6PJXDPbOdM9fljLlBy/NyWj9JSBz7yrNHV25h0H+W60twy8mbM5Lmfdw2fe9Ztzqz13hbpqVNAB\\r\\nL8lAFtq2TetRYMmzsgqWf16+Zx+trm3ZZAqBWPL2ZMeIRWYuLkz53fxd17PW1CjyKX3BomkNuOzi\\r\\nOquP93JKN0XxTMr7RdXxesz9+r8qabWTuMeQ9j9aCT1Zb+k2pieY/rXsk7KdexW56bp8i9ccXrrp\\r\\nXyqa0ph5+dpOm+ocsbjRBrdzt+VWXFFr5HpYqWWHw7UVdghyfstKWD/lOq3kZIr0mHZeoZ4vCaAF\\r\\nJrbBTm+5WHVntYnbpp5owmrZwSPl+w5Vn7+iKEh7OLuQmbBKMxNWaW245Ji6eluE9reeONZ6aLNT\\r\\nQCvk2XrZSVeWy9ybmrVcIc/SzZhtaX3ac7cWEUfFllowxV6674As5q/ae0mKjCy1doq9DLtzRSK+\\r\\nvZ2pt4cgMEDUq6dkFMmCibRqFqx7Bb+X1NxR0w9/N+bxuQIzjUxel5KqyM5Wl5ZpauUcmsMRCfm2\\r\\nElNPd1Nvb65QqKmtpdRqhEUTrsjdZoCnTf+GCtOlp/Mqrio1NXpYCRO5HJ6dKCjQOfxZtxjRE6lp\\r\\nsOKyN97K2yRTFDHbPCym4aE4fB7F43G43IZXN9DaSAgC1RStYTYGWIiMtiL/Pt4rvSShlJaqP2Oz\\r\\nvi6uTtBQGr1uumoPIzK17+6+qLPr9GfdaESPV1M/6dQ8OJfyQX5lDI8raHYMRzd6hwP972oxku/q\\r\\nOucln1VYPpk0M7XkKIfDN+BuA0epljmJuw/0XWdr3uFZtxvRY9QEWDnl1y6nf1xSc4/HNWj6Fzjw\\r\\ndxjvL57n4ezPTLHncc0MqVB3g9RFd4O0iyH1ED0FNQNWhg4sysSQ5xt0YE3wF8/VgTVB9+4GQ3/S\\r\\nIWA9L2oOrOUlNYmtECxLgav2t0ICVqsXAYuIFRGwiFgRAYuIFRGwiFgRAYuIFRGwiFgRAYuIFRGw\\r\\niFgRAYuIFRGwiFgRAYuIFRGwiFgRAYuIFRGwiFgRAYuIFTUJ1lUdWEZ50G98L8/llgJn47y7gVZZ\\r\\nmJEH/Z4PNQFWXsX1S2kRxTV3eFyDXuqnUNd0dAwPa78Bfx+9+0ZW+TkD392g1iitBB7wWI7ikGfd\\r\\nbkSPURNgZecnxZd9mV4azeWY6Dt7naJpNU1penos6eHxARYvp31yp+C/ao1C7w9hokqVWu5rN7Kv\\r\\n9+dWQvdn3W5Ej1Ez78eSnkzI21ZRmwY+9GKL5nHNnCy7v+A219ZcO325tCb1Zu4PeZWxak2dXnbS\\r\\nINLS1K2b+0JPSX+9aiB6qmp2wmpJdbJUlqj1MS0Hi6ZoU77Y125Yo/LUkmiFulKvb4PTcJ8OFiHk\\r\\nG7vPi1owxZ6I6Mn1CI+VVCpLUtPKlr7RSlsdTZvyLHzshv6zPCs/SWmSoVRX614d0zIrYSSXw7c3\\r\\nD5KY+/2zPLvsYo2iiG65U9XO1aYpSzM3V+te7DRsW1fTYKVJTyXkbyuXpWgoPT8mwecKnC17dnWd\\r\\nY2uhnbWsy7E25FVeU+n1GiOtoRTPSuDZzW2Bx8McKzZzdVpptFxZqueL12hKaCLp6DgphMzZZ0FN\\r\\ng3X83pQ0abRuJrSxRoWfJhRs12iUhowKlWqZn93ovt4rMSrMkJ4+m7JApizWvdFPTyM1GoXARDIy\\r\\nMMrBkty/MLKauY+VHlFcfYfHMTXkBqlCXQ1/8PA+1oSs8vMGv4NUKRZ4Dm7/k6M4JDZzbUL+z4a+\\r\\n3JaiapVlrwVGNYraRIbreb3zHpPx9Z2CX4zy1uRh/jva2480ZqMSPYe/FboMrgeLvI67Veu5A6v+\\r\\nR2gCVisXAYuAxYoIWAQsVkTAImCxIgIWAYsVEbAIWKyIgEXAYkUELAIWKyJgEbBYEQGLgMWKCFgE\\r\\nLFZEwCJgsSICFgGLFRGwCFisiIBFwGJFz+u3dIz4oB8Biw2x/fWvBrDG68Ay8NFkgOU6pN5jGQks\\r\\ndcXwgN1+9iOM16REWjX5vcK/z6UsZL5XqK/H4lA0rVRXd3Gd9ZLPF5T2e4UzUqXHtJ8r17dCjo5U\\r\\nJ3H3UJ91dhYd7uTvjMn8QqGu1n6dWq86ORRHQ6vVGsXooIPuNv3Ya+K2qea+sLrhdt4WmaJI38ms\\r\\n2hnxNsL2fb0+87IdSGnnk/1xPWtNcU0CTbf8w+AP6xSa2HV3X9jZdQalm6WYUPplVvlZtaZWDyN1\\r\\n30nX8Lkib9thFmVj+/Ua3PI6iB6lZiesJhbsKa6KV1MqPdwB6jThiTxtwjwlLzcUpkv/zK64oFTJ\\r\\n9IhdqBCkOliEBDlPbigsqU5KKTkiUxbqcdrMrFoLM2d/h4nkFSNsiEyxJ2JFjwKrsjZX93IYfXyW\\r\\njahdkyvKZOl62UlzOaZWQrdn00hELVfTYJXVpCYVR5bI7mtoPUMhnyf0sB4Q7DyloTAh75eciisq\\r\\njUwPK5l3N0hEHQKdplgLPdloiJMnTyYnJ0ul0vfee+/AgQNcLnfWrFnMqh9++KFbt259+vTB33v3\\r\\n7r1//z6Golh0cXG5ceNGWVkZn8/HKpVKJRaLX3nllejoaIlE0rlz5+PHj2s0GqyF/VhraWmJzRQK\\r\\nhb29/bhx4/B3UlLSiRMn+vfvj8JLly4JBAIcV61WY7F37944RH5+PjZITU21sLDo3r17WFjYP20+\\r\\nevRoWloa/sAuqDM0NBTbox4ej4fj1tXVjRkzRigUnj17tqCgQKlUwrwOHToMGTKE2X3nzp3l5eUa\\r\\nnaysrGB5RUUF2qG2thYn6O3tjbMYPLg++zx16hRO3Nra+s0332RKLly4kJCQMGLECC8vrycF62Jq\\r\\nxJ2CX+GudBPY9RGIFJk49PNe5e84Fot383fFZn1ToyjQu0Jk/UizurrO7uO9gg2w0F6AJi4uDv3x\\r\\n8ssvo2U///zz+fPnozVDQkKWLl362WefrVixYvv27QAFHT9p0qR+/fp9++23gAO7AAgzMzN0xrp1\\r\\n6yZMmODv779o0aJp06ahO9F56Gl0qrOz87Zt21B5ly5dzpw5g4P+/vvvEydORCXYHYfD/zKZDAyB\\r\\nwo8//njQoEEoPH36tLu7e25uLroZrMOkhp7evHnzH3/84ejoiEUccdWqVah2yZIlrq6uYBSU7N69\\r\\nG6tmz55dXV2NSgoLC2HJ0KFDsSPKO3XqBC6xO8Dy8PCAGbdu3Xr33XcBH3AsLi4ePXo0zsLNTRso\\r\\nXnvtNVwwqDY2NrZjx44o+fDDD7ds2XL48OFGuDcLVlFV/PnUxYXVt/hcgSFdVaeqDHGZPsB3Df4+\\r\\nnjg5o+xPLsfEkNtOKk2dnXnAIL9N9haBRgdr/Pjx+/btu337Nq7XF198ES0IH4BGBBZoR4D19ttv\\r\\nA4j27dtv3bq1srLSxsbGwcEBvuTmzZtff/21k5PTvHnzfHx8UIjdAwMDgendu3cBytixY9u1a/fT\\r\\nTz+hU8EWVsH3xMTE4KDo+MmTJwNZVA5Af/311z179ixcuBA+DA4PiPz222+ffvopfElRUdHUqVOx\\r\\ny/nz54ODgymdt5szZ058fPzatWsBNAzu0aNHRETEl19++cknnwwbNgwwvfDCC+fOncM1A8cDvHA9\\r\\n4FhXr14F/e+//z6sgicDLsxVAccDHwaSsPuoUaNQFZwfzmL48OHXr19H+6BB4KFxIjNmaAfmOPqm\\r\\nTZuwO8x7IrByyq9czlhh6J13mlLSMn/7CQHiue7aG6TjdFPsjXKDdKuTuLPRwXrjjTciIyMBFtxP\\r\\nz549//Of/6DX0RkfffQRruZly5a98847KEcfwJfgal65ciWzY2JiIoMOugr9l52dDSbAInqlvok5\\r\\nHJCEvsHfABGuBYvo3Qaw0JGgB4tfffUVDgQ3Bp+Xl5eH+Iv+BtyAFWsXLFgAIODDYAAD1ty5c+/d\\r\\nuwcv6OfnB7DgWhiwQCS8CDCCT0UcxLnAeJRjG3A5cODAoKAgEOnr6wuwoqKiYCHCNC4beCBUjgrh\\r\\nq8LDw0E/yMb2a9aswflu3LgRPhtYI8TDABwdJS0CyxjvbtCBFeAwwd+SAcsY727QqCyFbtrfCi1Z\\r\\nBwtO6IpOO3bsQBoBvFCCFkfHgyr0AfwT40LgsdAH8Bm4lIFgVlYW1jYCC54D1zr+TklJAVhwLQxY\\r\\n8E/o9Qaw0Hn4e9euXShEBgO30atXL1hlbm6OSkDhlClTEF7hMhmwEBYRCuEsEcsQYUEPqoVPAo7w\\r\\njrgGEBmRNeLUYCqIBD1wYwipiMsoB1gAHZUjRQNqyK5waODr6emJQvhaXFeIdzgWLEHQROWoBzkf\\r\\nDo0zJWDpAxacB9wPfAZS3cuXLyOjX716NaIkPMSxY8c2bNiAoPbjjz8iv24RWOhIrOrateu1a9ca\\r\\nwAJPy5cvbwQWtkeHIbYCDpFIBErgrtDr6Gn4DwYswA1HiJAEtpBXwc3A33zxxRcI3DAeHgvmMR6L\\r\\nAQs8YS8wBA+H3JHxWPv374eFSOyQSuIUUD8wAhVHjhxB0gYXiC1RAzwcdkxPT0cagIZCZMTR0Q7A\\r\\nsWE0QMB6PFhMZ8MH/PLLL7h8ce1+8803yLcwLEJSjAwXeCElQhBsEVhYi8iCEqQ+QAGHQOchAKHC\\r\\nRmBhEZWgU+G6XnrpJTgV4IhRGEAZMGAA9TAUPnjwAASACeZYQAqeFaEKiRFTgpEjoi2yIuCIvsZp\\r\\nIvYxAxFQizOC62K2xCGQvwNNZE44FrwjQjDQx+gB7OIUEAQRoA8dOoTzhZEMWIx5BKxm9frrrx88\\r\\neBDDIrglBCC0O1of/YrWRIsvXrx45syZr776KtIUjAr/+usv5NeIjLjoMZAcN24ccix0AFMVrn5k\\r\\n6MiNGsDC+AtXPLPIJFIYeWE4Bvj69u0LQLE7VoEqsIXgi07FIroQHABrjAYyMjJgDEDHQZl6ABZM\\r\\nQmzF8BCHYwqRXeECABC4AKqqquClML7DVQGfhxCcrhOYY5IkXAbICHEKYACJOQYNOTk5cIoItQi4\\r\\noAcNgi0PHDgA34z/x4wZk5+fj8umtLQU7hBDVFwSdnZ2sBBtMn36dCQMBKzGWr9+PUIeLmulUgmq\\r\\n4IrQjij/+eefcVEizULjok1BHkABeXAqzKgbXYVUAx2DTmWqgnuANwIlzCIycXQeIhSziDEakneM\\r\\n0lUqFVwjglRAQACzCh2JZBmDACTdTMnFixe3b98OqhDFgD6T1TUI+XhhYSGCl7t7/a9S8EaoAfSj\\r\\nW+VyOTobhsGVwtMg8XJxcRk6dCiOAnYp3WgAoNA6AUSQBG8NF4WjhIaGwkK4pUmTJoHdzMxMHAVe\\r\\nGXvBxcKvIzFAs+BawlWH3ZHSgVdsTMAiYlcELCJWRMAiYkUELCJWRMB6SjqXstjKzLOr++xnbchT\\r\\nEgHraehWzk+ppcfGdjr+rA15eiJg1aukJqlSnkHTajO+tZtNH6bwbt4OgYnE9+FUi9TiEzgxPk8k\\r\\nEXawFLpQ2i9upORWXrY3D2G+zZlZek6pqfXVvTX+fsE+F6ueVkIP/J1UdKBOVRHi8rbRzW61ImDV\\r\\nK/L2kFJZkoAvqVEU+Ni+OjRga3LR4eikNy3MXEcFHbIz7xCXvfFSeoTYzEOuKnUR9xzg8621yPti\\r\\nasSNnO+9JcNe9lltI2oXeXtwXsXViV0uOIlf2HzFvYvr7F5eS7Lzkw6l9jXlWvb2+qSTy1SjW946\\r\\nRcCqV+TtQSITxxGBe07cn5ZeGj27T+75lKVppcc5FK+b+wfBzlNuZH2fXHLo1Y6/ZZaejs36KtR3\\r\\nnY/d0OOJU/KrYuHkBvltcLHqsS9+eF5lTIjzdB/zqScyX+3sPLOn56K/i478+eA9a4GPnXngEP8f\\r\\njW556xQBq16R8WGmXHGY36armSvTpSdn9k6LvB1mJfCuVuRbCbzC2m+4kbXuXtFeAJRfGXu3YMdA\\r\\nv418rtn51EUSkX9hdVxP98XtHUYDLKnsHo8jGBN8eP+d4QxY8GqppdF+diPTpCemdIs1uuWtUwSs\\r\\nekXFvyJTFCPG5ZRfdrXqDdey5arXix5LS+X3C6tuhXe9EJe94Xr2Wnvz4MraDDfrfgN8v39QfDg+\\r\\n/+cgp6nJRZHO4hf7eC+Puv2KKd+iuPpOV7e5f2Wv7eIyG2ABULGZl5ck7HL68tHBRxFVjW58KxQB\\r\\nq15R8UPqVFW+tiOEJnadXaenlkT/kTy9s8t7wCi/6sbwgJ255Zfi8jYGOLxRXB1fq6oY6LchTXr8\\r\\nftFvHR0mp0qPi0wdRgb9DrDEAg9TnmVR9W2pLKm72/wenou2XPXwtA6zs+h4M2djv3arAp0mGW5t\\r\\n61czT5CmryiRGeMJUocJAUYFi70nSBEKRXwH5FjM4qW0FYkFuySiDipNrVxZ3NNjsVItv1e4e0Rg\\r\\nZHbZhZisL3t5RiAmppVGi808ZcoiDoc3Jujwyb9niEzsu7rORdYvV5b18FhoZx4cnfSWrSgA7Yxh\\r\\nQTvbV0L9vjO68a1QTYBVUHnzQtoSXJc8rpkhVStUVUHObw3UteOxxPDMsrMGPvOu1ihsRH5hfpsd\\r\\nLION3hB7bw0QmtiOCtrPLCJ+cSn+uM7RJTXJ++OHYJxob94poWDba4FRORWXYzK+CHAKzym/5Cru\\r\\n3bfdp7dztyIzGxW4/0LaUoA1MijyaOLEzLIzPdw/VKhrEgt2vNs7A3XCn6k0ckRVoxvfCtX0LJ3T\\r\\nf7+fVBSp/b6t3t+YpFUmPIu+Xp8Fu2hnC8XlbIrLWVenqtC+akEv0do5YOpgp7cG+K1hoyHOPFgg\\r\\n4EuQJzGLRxPD3cR9u7prZ4CdSp5lyrNyt+7/d/H+oQHbMkrPJuRvc7LsViZP8bEd7ms3vLAyHj6s\\r\\nq9s8JFvmpk69vJalS0/fyPmuk/M0qSy5ojZ1qL/2ISpkaXmVsSMCd7Nhf2tT02AVVt66W7CrTJ6s\\r\\nodV6fG8Zgrdzt+rfw/ODhuKYzNV5FVdVdK12g5bXyeFwrYU+XVzeQ7LCRkNU1uaKBa4Ni6WyFInI\\r\\nl/k7Oz/JysYSa0trUiXmPpRu2m11RZ2VtYX44RxaafXfthbtK+U5DSWFVQmOlp20+/5js5LqZDuL\\r\\ntpq8N6io6o52JrQ+Pos249lIzH0blUprkhXqKn3MpGnkZ47kA7vPj8i7G4hYEQGLiBURsIhY0f8A\\r\\nXUXVOAplbmRzdHJlYW0KZW5kb2JqCjUgMCBvYmoKPDwvTGVuZ3RoIDExMDYvRmlsdGVyL0ZsYXRl\\r\\nRGVjb2RlPj5zdHJlYW0KeJzNVr1u20gQ7vkUU8qAveLyn+kYam0wkEhHpN2cDweapHwMRK1MUg6Q\\r\\ntzNcBFffEwQpDlekSpfqZsmIEmlbDuDmJEicXc7ufDM7883eSm8jSTXAkg2IUolF0ntJgXdiloKM\\r\\nX/FvaQpEhTQ+pUBRWkijo+iD0N2pyJAU+4sUVSaKArpNiWG0ixWgmlgsNyrljTSaAAMXpuDAHH+f\\r\\n4QECsbEMN09s/tvv+EwbcM+bRVu6qhBL7+PtTMpE1VTVgugjilQ1VVRMpBHsfyZZsozLuODVMaxR\\r\\nAF7BIl9VEMPtJoMqw9GnrMwKWGVJVlVfylyoindb9I2zfcujU+ft3HO9ACZsqyY3OASCffxUJbTB\\r\\nv4fatExNb1GrVLOtBvWMTZg3d+CUzX3Hn7BwZ/6R4yP4F+LlZsWvRvHVEdzlq2SzjNOfwxiyqo4B\\r\\nnazzepP/85UfQ8WvgcPqR5GV/CBgzVaJpndnPAw4pU36COiyZqpmA12RqS3L1DAMegj0Maw4JJuy\\r\\n4pAejm7EXD+YBmeeA2wGjn8/9UKG6YVRYf5lML30ZsyPXgw+AiRmP/iUyLSFr8mabTTwQy+M2MwJ\\r\\n4QTOy6zKVkkeL3Hg83pTIuQTaPH8fea5wWEH+QJTKclTDutsyQ/66Dqz84vwMH5dI/LL+F0ndJ1L\\r\\nNoWrTrw6Opg9WZPfmCVfoIjrMt/PnpXAXn7j6MMyq/M7Doqs4MGTx1BfKGvxFZDhYzPR2p+fbZWo\\r\\nbuHWBhSShpQlpGUnDZ9J+0Y3tzooDZ9Ju2Ojs5WGz6Szuuyk4TORFv9jbGEXvkO0qeiY+R1rDoh6\\r\\ne5AduysWUXQkeZNovWQbud/T/Kap1ruszBd5EiOZvHm0XteJhvgUTE67v0G/AgY4EjtNY6pSmr6y\\r\\nT1BTR04FJCGi7byW+9bOBflv3SiRJONNna3qHKs1RgdTrAb858mmwFkOsWgG2dBVJBRLRXsWsZSO\\r\\nIweG/qzrdfVmPK7ymzgm+WJdkizdkOuynRmvN9fLPBn3zI/rfM3/6KyTD9WiV8DykGiQ3Re8LOIV\\r\\nlmncFPE3UcTHQ8DUsEXLpoZJqNk/mzTGJoGeZ0VeVV/xlPme+xl2i+Sp0yevPCtFnJWOuWB2bYaC\\r\\n3XfPiZj/+eHVtwe0greHZ60wZH2YBO5F20v8hwD+gktsNZMAzh3RiT0/xBYDYTDFVh85CEkML52z\\r\\npi0FFxEqoU7kRRde+3IYfoEBy0K0+P3QMz/0/ADCi3M294I5AeRtHLJ3DvjMZWF4j9MQOdMdvmME\\r\\nt/fODWaIEcd41wqeskop6XeOUcjmjvva4xNEZFqYU7v0V/th/RkQjOgp3mjmjQ9NPP37R8kpNjM1\\r\\nog1Yo22NcLCv/VrvQVqyZAUw/ic2TmRI7bdiJJboBsELI2rgZYxgyJICxnlxI8OEw/t9n3cqiLJZ\\r\\njHfrk61w+OKsK3jFAwUjpj9HTIotSmwW502piWb7Sz7+B2fMzf0KZW5kc3RyZWFtCmVuZG9iagox\\r\\nIDAgb2JqCjw8L0dyb3VwPDwvVHlwZS9Hcm91cC9DUy9EZXZpY2VSR0IvUy9UcmFuc3BhcmVuY3k+\\r\\nPi9QYXJlbnQgNiAwIFIvQ29udGVudHMgNSAwIFIvVHlwZS9QYWdlL1Jlc291cmNlczw8L1hPYmpl\\r\\nY3Q8PC9pbWcwIDQgMCBSPj4vUHJvY1NldCBbL1BERiAvVGV4dCAvSW1hZ2VCIC9JbWFnZUMgL0lt\\r\\nYWdlSV0vQ29sb3JTcGFjZTw8L0NTL0RldmljZVJHQj4+L0ZvbnQ8PC9GMSAyIDAgUi9GMiAzIDAg\\r\\nUj4+Pj4vTWVkaWFCb3hbMCAwIDU5NSA4NDJdPj4KZW5kb2JqCjcgMCBvYmoKWzEgMCBSL1hZWiAw\\r\\nIDg1NCAwXQplbmRvYmoKMiAwIG9iago8PC9CYXNlRm9udC9IZWx2ZXRpY2EvVHlwZS9Gb250L0Vu\\r\\nY29kaW5nL1dpbkFuc2lFbmNvZGluZy9TdWJ0eXBlL1R5cGUxPj4KZW5kb2JqCjMgMCBvYmoKPDwv\\r\\nQmFzZUZvbnQvSGVsdmV0aWNhLUJvbGQvVHlwZS9Gb250L0VuY29kaW5nL1dpbkFuc2lFbmNvZGlu\\r\\nZy9TdWJ0eXBlL1R5cGUxPj4KZW5kb2JqCjYgMCBvYmoKPDwvSVRYVCgyLjEuNykvVHlwZS9QYWdl\\r\\ncy9Db3VudCAxL0tpZHNbMSAwIFJdPj4KZW5kb2JqCjggMCBvYmoKPDwvTmFtZXNbKEpSX1BBR0Vf\\r\\nQU5DSE9SXzBfMSkgNyAwIFJdPj4KZW5kb2JqCjkgMCBvYmoKPDwvRGVzdHMgOCAwIFI+PgplbmRv\\r\\nYmoKMTAgMCBvYmoKPDwvTmFtZXMgOSAwIFIvVHlwZS9DYXRhbG9nL1BhZ2VzIDYgMCBSPj4KZW5k\\r\\nb2JqCjExIDAgb2JqCjw8L0NyZWF0b3IoSmFzcGVyUmVwb3J0cyBcKGRlY2xhcmFjYW9fdmluY3Vs\\r\\nb19ncmFkdWFjYW9faWZwclwpKS9Qcm9kdWNlcihpVGV4dCAyLjEuNyBieSAxVDNYVCkvTW9kRGF0\\r\\nZShEOjIwMjAwNTI5MTMyNTM4LTAzJzAwJykvQ3JlYXRpb25EYXRlKEQ6MjAyMDA1MjkxMzI1Mzgt\\r\\nMDMnMDAnKT4+CmVuZG9iagp4cmVmCjAgMTIKMDAwMDAwMDAwMCA2NTUzNSBmIAowMDAwMDA3OTIy\\r\\nIDAwMDAwIG4gCjAwMDAwMDgyMjMgMDAwMDAgbiAKMDAwMDAwODMxMSAwMDAwMCBuIAowMDAwMDAw\\r\\nMDE1IDAwMDAwIG4gCjAwMDAwMDY3NDggMDAwMDAgbiAKMDAwMDAwODQwNCAwMDAwMCBuIAowMDAw\\r\\nMDA4MTg4IDAwMDAwIG4gCjAwMDAwMDg0NjcgMDAwMDAgbiAKMDAwMDAwODUyMSAwMDAwMCBuIAow\\r\\nMDAwMDA4NTUzIDAwMDAwIG4gCjAwMDAwMDg2MTEgMDAwMDAgbiAKdHJhaWxlcgo8PC9Sb290IDEw\\r\\nIDAgUi9JRCBbPDNjZjIyZmEwODQxMDRkNmU3NDU3MTQwNmY5ODUzYWMyPjw5NTI5YTUwMjcyZWEy\\r\\nN2FkMmNiZDllNWZlMGQ3ZmI5Zj5dL0luZm8gMTEgMCBSL1NpemUgMTI+PgpzdGFydHhyZWYKODc5\\r\\nNQolJUVPRgo=\\r\\n\\r\\n--===============6257442002102367787==\\r\\nContent-Type: application/octate-stream\\r\\nMIME-Version: 1.0\\r\\nContent-Transfer-Encoding: base64\\r\\nContent-Disposition: attachment; filename=\"summer_300x300.jpg\"\\r\\n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\\r\\nIQ3QLJQMp4BgoIpZlDZNAK4BAmldCeEYCD//2Q==\\r\\n\\r\\n--===============6257442002102367787==--\\r\\n.\\r\\n'\n"
     ]
    },
    {
     "name": "stderr",
     "output_type": "stream",
     "text": [
      "reply: b'250 2.0.0 OK  1593870353 b196sm13357043qkg.11 - gsmtp\\r\\n'\n",
      "reply: retcode (250); Msg: b'2.0.0 OK  1593870353 b196sm13357043qkg.11 - gsmtp'\n",
      "data: (250, b'2.0.0 OK  1593870353 b196sm13357043qkg.11 - gsmtp')\n",
      "send: 'quit\\r\\n'\n"
     ]
    },
    {
     "name": "stdout",
     "output_type": "stream",
     "text": [
      "Finalizando conexão...\n",
      "Fim.\n"
     ]
    },
    {
     "name": "stderr",
     "output_type": "stream",
     "text": [
      "reply: b'221 2.0.0 closing connection b196sm13357043qkg.11 - gsmtp\\r\\n'\n",
      "reply: retcode (221); Msg: b'2.0.0 closing connection b196sm13357043qkg.11 - gsmtp'\n"
     ]
    }
   ],
   "source": [
    "try:\n",
    "    #Conecta ao servidor\n",
    "    conn = SMTP(SMTPServer)\n",
    " \n",
    "    #Ativa o debug, para mostrar mensagens\n",
    "    conn.set_debuglevel(True)\n",
    " \n",
    "    #Conecta ao servidor smtp, passando login e senha\n",
    "    conn.login(usuario,senha)\n",
    " \n",
    "    try:\n",
    "        print('Enviando e-mail...')\n",
    "        conn.sendmail(remetente, destinatarios, msg.as_string())\n",
    " \n",
    "    finally:\n",
    "        print('Finalizando conexão...')\n",
    "        conn.quit()\n",
    "except:\n",
    "    print('Erro ao enviar e-mail')\n",
    " \n",
    "print('Fim.')"
   ]
  },
  {
   "cell_type": "code",
   "execution_count": null,
   "metadata": {
    "colab": {},
    "colab_type": "code",
    "id": "JUObPfa06aYf"
   },
   "outputs": [],
   "source": []
  },
  {
   "cell_type": "markdown",
   "metadata": {
    "colab_type": "text",
    "id": "d155kH4BKt53"
   },
   "source": [
    "![alt text](![alt text](https://))# Referências\n",
    "KUROSE, J. Redes de Computadores e a Internet: Uma abordagem Top-Down. São Paulo: Pearson do Brasil, 2006, 656 p.\n",
    "\n",
    "## Outras referências\n",
    "[Yahoo! Mail. Segurança da conta](https://login.yahoo.com/account/security)  \n",
    "[Gmail. Segurança da conta](https://myaccount.google.com/lesssecureapps)  \n",
    "\n",
    "\n"
   ]
  }
 ],
 "metadata": {
  "colab": {
   "collapsed_sections": [],
   "name": "0- SMTP_client.ipynb",
   "provenance": [
    {
     "file_id": "1ZdHDCXsJBao92gXc323e50wKfcXjJRln",
     "timestamp": 1593126987463
    },
    {
     "file_id": "1nxKg7IEfOuimG-c_Uo1OyqEwashZdZHd",
     "timestamp": 1592161967669
    },
    {
     "file_id": "1vx42eeXqHodz8ECFlsP0tbI_QT_fNtFM",
     "timestamp": 1591623769245
    }
   ]
  },
  "kernelspec": {
   "display_name": "Python 3",
   "language": "python",
   "name": "python3"
  },
  "language_info": {
   "codemirror_mode": {
    "name": "ipython",
    "version": 3
   },
   "file_extension": ".py",
   "mimetype": "text/x-python",
   "name": "python",
   "nbconvert_exporter": "python",
   "pygments_lexer": "ipython3",
   "version": "3.7.7"
  }
 },
 "nbformat": 4,
 "nbformat_minor": 1
}
