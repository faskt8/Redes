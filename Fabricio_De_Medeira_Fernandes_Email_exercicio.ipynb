{
 "cells": [
  {
   "cell_type": "markdown",
   "metadata": {
    "colab_type": "text",
    "id": "vlhh_ahZPTw4"
   },
   "source": [
    "# Email: Exercício"
   ]
  },
  {
   "cell_type": "markdown",
   "metadata": {
    "colab_type": "text",
    "id": "v2WSbeVVPTw5"
   },
   "source": [
    "Desenvolva uma aplicação que envia um e-mail, contendo dois arquivos anexo. Utilize um serviço de e-mail da sua escolha (Yahoo, Gmail, etc.). \n",
    "\n",
    "Deve ser entregue o código (este mesmo projeto do Colab) e um *print* da tela de leitura do e-mail do destinatário, confirmando o recebimento do e-mail.\n"
   ]
  },
  {
   "cell_type": "code",
   "execution_count": 14,
   "metadata": {
    "colab": {
     "base_uri": "https://localhost:8080/",
     "height": 232
    },
    "colab_type": "code",
    "id": "rBkCElcOPTw6",
    "outputId": "6a3b9877-aba9-49df-8a90-fcdf75d6e0cf"
   },
   "outputs": [],
   "source": [
    "from smtplib import SMTP_SSL as SMTP\n",
    "from email.mime.text import MIMEText \n",
    "from email.mime.multipart import MIMEMultipart\n",
    "from email.mime.base import MIMEBase\n",
    "from email import encoders"
   ]
  },
  {
   "cell_type": "code",
   "execution_count": 15,
   "metadata": {},
   "outputs": [],
   "source": [
    "SMTPServer = 'smtp.gmail.com' #endereço do servidor smtp\n",
    "textoSubtipo='plain'\n",
    "usuario='fabriciomfernandes@gmail.com' #usuário login do servidor smtp\n",
    "senha='' #senha do serviço smtp"
   ]
  },
  {
   "cell_type": "code",
   "execution_count": 16,
   "metadata": {
    "colab": {},
    "colab_type": "code",
    "id": "RO--9lFKBn9O"
   },
   "outputs": [],
   "source": [
    "remetente = 'fabriciomfernandes@gmail.com' #endereço de e-mail do remetente\n",
    "destinatarios = ['faskt8@gmail.com'] #lista com endereços de e-mail dos destinatários\n",
    "\n",
    "titulo='Exercicio Email - Enviando um e-mail com dois anexos'\n",
    "corpo = \"\"\"\\\n",
    " PDF como anexo e imagem como anexo!\n",
    "\"\"\"\n"
   ]
  },
  {
   "cell_type": "code",
   "execution_count": 17,
   "metadata": {
    "colab": {},
    "colab_type": "code",
    "id": "0Uzw3TrUBiaC"
   },
   "outputs": [],
   "source": [
    "msg = MIMEMultipart() #Objeto do e-mail\n",
    " \n",
    "# Informações básicas\n",
    "msg['subject'] = titulo #Título\n",
    "msg['from'] = remetente #Remetente\n",
    "msg.attach(MIMEText(corpo, textoSubtipo)) #Corpo do e-mail\n"
   ]
  },
  {
   "cell_type": "code",
   "execution_count": 18,
   "metadata": {
    "colab": {},
    "colab_type": "code",
    "id": "fusXGMjJBumc"
   },
   "outputs": [],
   "source": [
    "arqNome = 'declaracaomatricula.pdf' #Nome do arquivo que será anexado\n",
    "arqAnexo = open(arqNome, 'rb') # Abre o arquivo que será anexado, como binário\n",
    "payload = MIMEBase('application', 'octate-stream') #cria um payload a ser adicionado no e-mail\n",
    "payload.set_payload((arqAnexo).read()) #lê o arquivo e coloca no payload\n",
    "encoders.encode_base64(payload) #codifica o payload, em base64\n",
    "payload.add_header('Content-Disposition', 'attachment', filename=arqNome)\n",
    "msg.attach(payload) #adiciona o payload à mensagem\n",
    "\n",
    "\n",
    "arqNome1 = 'summer_300x300.jpg' #Nome do arquivo que será anexado\n",
    "arqAnexo1 = open(arqNome1, 'rb') # Abre o arquivo que será anexado, como binário\n",
    "payload = MIMEBase('application', 'octate-stream') #cria um payload a ser adicionado no e-mail\n",
    "payload.set_payload((arqAnexo1).read()) #lê o arquivo e coloca no payload\n",
    "encoders.encode_base64(payload) #codifica o payload, em base64\n",
    "payload.add_header('Content-Disposition', 'attachment', filename=arqNome1)\n",
    "msg.attach(payload) #adiciona o payload à mensagem"
   ]
  },
  {
   "cell_type": "code",
   "execution_count": 19,
   "metadata": {
    "colab": {},
    "colab_type": "code",
    "id": "60KLm-6DB_rw"
   },
   "outputs": [
    {
     "name": "stderr",
     "output_type": "stream",
     "text": [
      "send: 'ehlo MacBook-Pro-de-Fabricio.local\\r\\n'\n",
      "reply: b'250-smtp.gmail.com at your service, [186.224.68.249]\\r\\n'\n",
      "reply: b'250-SIZE 35882577\\r\\n'\n",
      "reply: b'250-8BITMIME\\r\\n'\n",
      "reply: b'250-AUTH LOGIN PLAIN XOAUTH2 PLAIN-CLIENTTOKEN OAUTHBEARER XOAUTH\\r\\n'\n",
      "reply: b'250-ENHANCEDSTATUSCODES\\r\\n'\n",
      "reply: b'250-PIPELINING\\r\\n'\n",
      "reply: b'250-CHUNKING\\r\\n'\n",
      "reply: b'250 SMTPUTF8\\r\\n'\n",
      "reply: retcode (250); Msg: b'smtp.gmail.com at your service, [186.224.68.249]\\nSIZE 35882577\\n8BITMIME\\nAUTH LOGIN PLAIN XOAUTH2 PLAIN-CLIENTTOKEN OAUTHBEARER XOAUTH\\nENHANCEDSTATUSCODES\\nPIPELINING\\nCHUNKING\\nSMTPUTF8'\n",
      "send: 'AUTH PLAIN AGZhYnJpY2lvbWZlcm5hbmRlc0BnbWFpbC5jb20ARGVib3JhaDQ2OTE2NzY2\\r\\n'\n",
      "reply: b'235 2.7.0 Accepted\\r\\n'\n",
      "reply: retcode (235); Msg: b'2.7.0 Accepted'\n",
      "send: 'mail FROM:<fabriciomfernandes@gmail.com> size=23509\\r\\n'\n",
      "reply: b'250 2.1.0 OK m20sm15305227qkk.104 - gsmtp\\r\\n'\n",
      "reply: retcode (250); Msg: b'2.1.0 OK m20sm15305227qkk.104 - gsmtp'\n",
      "send: 'rcpt TO:<faskt8@gmail.com>\\r\\n'\n"
     ]
    },
    {
     "name": "stdout",
     "output_type": "stream",
     "text": [
      "Enviando e-mail...\n"
     ]
    },
    {
     "name": "stderr",
     "output_type": "stream",
     "text": [
      "reply: b'250 2.1.5 OK m20sm15305227qkk.104 - gsmtp\\r\\n'\n",
      "reply: retcode (250); Msg: b'2.1.5 OK m20sm15305227qkk.104 - gsmtp'\n",
      "send: 'data\\r\\n'\n",
      "reply: b'354  Go ahead m20sm15305227qkk.104 - gsmtp\\r\\n'\n",
      "reply: retcode (354); Msg: b'Go ahead m20sm15305227qkk.104 - gsmtp'\n",
      "data: (354, b'Go ahead m20sm15305227qkk.104 - gsmtp')\n",
      "send: b'Content-Type: multipart/mixed; boundary=\"===============2687194333662163035==\"\\r\\nMIME-Version: 1.0\\r\\nsubject: Exercicio Email - Enviando um e-mail com dois anexos\\r\\nfrom: fabriciomfernandes@gmail.com\\r\\n\\r\\n--===============2687194333662163035==\\r\\nContent-Type: text/plain; charset=\"us-ascii\"\\r\\nMIME-Version: 1.0\\r\\nContent-Transfer-Encoding: 7bit\\r\\n\\r\\n PDF como anexo e imagem como anexo!\\r\\n\\r\\n--===============2687194333662163035==\\r\\nContent-Type: application/octate-stream\\r\\nMIME-Version: 1.0\\r\\nContent-Transfer-Encoding: base64\\r\\nContent-Disposition: attachment; filename=\"declaracaomatricula.pdf\"\\r\\n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\\r\\nNQolJUVPRgo=\\r\\n\\r\\n--===============2687194333662163035==\\r\\nContent-Type: application/octate-stream\\r\\nMIME-Version: 1.0\\r\\nContent-Transfer-Encoding: base64\\r\\nContent-Disposition: attachment; filename=\"summer_300x300.jpg\"\\r\\n\\r\\n/9j/4AAQSkZJRgABAQEAAQABAAD/2wBDAAgGBgcGBQgHBwcJCQgKDBQNDAsLDBkSEw8UHRofHh0a\\r\\nHBwgJC4nICIsIxwcKDcpLDAxNDQ0Hyc5PTgyPC4zNDL/2wBDAQkJCQwLDBgNDRgyIRwhMjIyMjIy\\r\\nMjIyMjIyMjIyMjIyMjIyMjIyMjIyMjIyMjIyMjIyMjIyMjIyMjIyMjIyMjL/wAARCAEsASwDASIA\\r\\nAhEBAxEB/8QAGgAAAwEBAQEAAAAAAAAAAAAAAQIDBAAFBv/EADkQAAEDAwIFAgQDBwMFAAAAAAEA\\r\\nAhEDITESQQQiUWFxE4EFMpGhFEKxI1JicsHR4Qbw8RUlM0OC/8QAGAEBAQEBAQAAAAAAAAAAAAAA\\r\\nAAECAwT/xAAeEQEBAQEBAQEBAAMAAAAAAAAAARECIUExEiJRcf/aAAwDAQACEQMRAD8AvxLRw7PQ\\r\\nb8j2v1GbmZk/WB2Xm1OGHqcRVIh1WrTgfyMH9yt9SoKvxSqyQQ2iGiP1UeKdM9Gst5vKauPMDdVU\\r\\nzfXY+MIsY5ofVZMtEge3+FcsDalMxnI8rR6TWku/K63uud9dObjyuOY5vEUeJZejUc2ffqsjaBZx\\r\\nJqU55KmqNxe/2Xs+iHUaTKl6TxoPY7fcfdQ4Vh/E1KdQhrjILo3BsfcLlefXXnrxbhaQNKodnsiO\\r\\n8gH7/qnh8CPmaHNI6QZC6iCzlc03LmOF7HIP2VYis0zyuId9oK6SOdvrNxIB0ObgtmFiqiGAgZG6\\r\\n9GoP/W4QI+hWSq0gC2CsdRvmstJ4II/eyVeiACC4SBzFYqfLJM3OPdbm/JBsTcrHN9a6nigcGguf\\r\\nf8x7qTWDiKr61QmJjyAqNYXZGcLQKbKNLmdHV3QLrHNnbTe9xIbEnbZB1JjjpHMBkDc+VT1XVG6K\\r\\nYLGbDeOp7lRceUMpCG7kbqW4smiWtJgAGNhgLgBJIORdxTafTaJBjYdVzGue7E9lJWrE/TaeY2B+\\r\\n6lXaazegxK2+lJ53A9guMAYxgLTDGaOhga0ZtJTPAgNsSqiXu1G4H0CLwylNV13bKowcTTJgOMvN\\r\\noClUoinw4YDkyStlBrqjnVHt8BZuIL3PJbEA3ccBBlqNFFup1zsFFj31Q7UYEWK0ksq1ACCfIS1X\\r\\nMDtIA0jACfisfp1HEtoiAcuO6r+EbRaC67upV2lxNjAV/SqvtH1UajzTLnYnwtNIWE2VH0iyxyub\\r\\nScTIWdb/AFtoOAiTdbqZsCF5dKWxK9Ci7lTWMepw1cti69WjxJIyvn6brrXSrELtz043l7za87qg\\r\\nrFeVTrDqq+tbK3rGPTbWVxVsvHbVI3VBXMZV/pMfP0Kn/ceKqAYAaFTiSCGgmTjzZTo2LqsXe+R4\\r\\nT8QBJ7GQuMrrZ6m4S8OvjCsXQHAC8BwSAXZKYSWAnIF0MCQ+hptY3EXvcKNRgNUVGQSWyZ3Cuwcs\\r\\ni40ieuVnY7UdTTzU3kgdeoUs1qNDef1Gts4Ee/8AsJXg+jIHNTODuCmb+zqNe10sdYdtwqcRJpio\\r\\n2wIh3Y7LTOk4pmXdQHLNxNMNYe7tQ+i9B4FSgyfzAQehWarTL2hpBkX/AFUsXmvDqUiHtaTYOP6r\\r\\nVS5j/Dn2S1W/soIOoukH3iFWm3SyLajv0XHMd98aOHBqP03nvshWcaxIY0loMCyo0OYzRSBE3c7f\\r\\n/CEG0PcSPyMXSTxy36m2gSAxztA/M0XcfKo2nw9OARUcekgKrGHSNXMJ62QfTAFpc4/RLF0P2P5q\\r\\nAg9XlKajDytoFrexRDXajYHzgLvTc3JB9kQoFI41A/VI6kBu13gyU5pVXtkwBPsg2houHCeyCbDs\\r\\nAbdUjxrdC1OGoQW//Sk9rWgyQPCoz1XBoDB9lmdR1CX/ACjDZWkxPL9kvpE8xB/oE1MYX0XPOkN0\\r\\nj7lZ6lL0mGTLytlelxBcfTbAP3UH6WWrVG6xtupVlQoaxUFjHVek1xLYAXlfimeodF4WihXc5sEt\\r\\naD3QaHUySC4ohwmwUPXBcWgyUdekSsV0l8bAxroV2NgBYKdcjJW2jWa6ykTV2WN1dpuoSNk7Sukr\\r\\nFjWypAWhtTusIdZUa8hb1ixu12XGodiszalk+pa1nEWtuJEQ3HRI/mMGJhUmWTuXJHWDj1dAWPxo\\r\\njhZvZNh7gcAA/dDLgewRLpfHayJQpu0cTpjaJUiGtrPqMBhwu3xla9IDibWAKhBpVpaAb6vPX7Km\\r\\nma0EBriAx4kHoQtFMcjmuG3N2/3dRa2HObf05kduy0Ug605w7xhVNc1pNEMNoAPule2WE4gZ91cM\\r\\n/KRtlLILADac+2VcNeLxDY4hgaZJkgdO6pR4eawvysEnuVr9FpDXlvM4THQTP9lVlLl0mwN3H+i5\\r\\n/wA+un9eJBpeIGcyRsqCiylT6AZG5VQA0TMDqVOtUAu4hrBgLWM6iXlxDqnLTGG9UtQ1agsCGdsn\\r\\nspO45rn2IAwpfiGkma71m2NZf1o9Go75zob0m6b0qbYIbJ/mhZPU4ciS4k97q7KlJzRDWnwhVCXO\\r\\nyGgdnSl0SDzt+qdjadS0AdiE7+HbiY+quJpGtjo7wUC2QQWx5QPDlvyuCBlliB7FArm6MCB2Uajm\\r\\nzLpI6C60zO7kpAixnystPNrvc9pDKb/GF5dXgfUcfUboHZ119G6m1zdlmfSYPzD9ER83XoMpHTTB\\r\\nA3MqGssMN1FexxNAsdrkOB6rC4EGw+yokwuAJ3K1UXFjeeSgw3sxbGUjUZEZ7LNi6y1KlrGFThax\\r\\na4XXVuEc0Eu9lCixwq9kkW17dN+sBaW4CycO3lB3Wpqh8WamDkgNly0iocqB4i6zynlalYsaA0EN\\r\\na0YGUjo1HMAhVZEHqLlRDS42xMhVmFP/AJI2EIQQWHMOhO4Q6xtZEDHe8Irny4GDZzUA2KTQbkKt\\r\\nQANAHSxU2M1DcCNJCopSB0i1wIIVmNI1AtG1x3/ylawgGVXVZ1xgFWRmmGIEyLKZZzOg+EwIDjG9\\r\\n/wBExESVUR9LUZf9kajmhs2AG3VR4njGUGy5wAiSei+d4j4y7iXltLUKWNW7lM1dx6nG/FaVEw0g\\r\\nuFpdgf5XgV/i3rPmS89Tj2UHscdYNS21151UMDSGnG/VbnM+s/3fjRV+JVSC1r9JO4WccXUd81R3\\r\\n1XmcXxgZDR8yxN46oCJFlfInt9fWcLxMvggEHIK2taRdpdTdNix0wvnuErisAQZ8L3acM0mCfdSy\\r\\nVJsaR8Qq8O7TxJlm1Vo/UL0+H+IO0tIcCDgg2K8zlr07CRsSvO4aqeC4t3Dk/s3ElsnBWcdJX2Le\\r\\nKLxsQUHFp/KJ8LwG8RWY6WkR0Xo0OKLm84vGFztkdZzWwObMG3sjyuGxUmvY8Z9ijLR8qxauC5gi\\r\\nQxY6vDveZ00z0yFua+d5TQ2DYQh68N7HB2k02rJUbU1WYDfAXu16bXQA0LFUoBrpFp6KjC1riLAN\\r\\n6rXQdpbBygeGm/qQi2gGunVKIs+HCIklY/Qc2vewWsOfERCR+ouk5SkaKLYAutAKy8OScrUBCjRw\\r\\njHVcEUZBGUTZLBVG8ACnLjlTkNaQOsnwqEmZOALBS08t98rq5liwtsU7WkFnhLZxPS6oBqgbXUHV\\r\\nmywgFTpk2OJMEKjza0lK2xG4G/VBQOzH/KYODS0OB5hCh6hDi23ZGm+b3IwR0WkadXKVi4vjGUGS\\r\\nDEDCLqjmtM7L5zjuINSs7pMIPM+KfE63GcX6AnQ03AWqlSPptkNMC5Oy8yiC7jal4JcvcYJokWcY\\r\\n6LUmMdevO4hgDXOuTgTsvL4p4ZTkT3XuV6LizMNiYXgfEGubTIExHTC2xHg1XFzyTkpQTC43K4Zh\\r\\nca7Rt+HcQ6lUsJHRfS8LxtWq5oqMAESF8xwtMNqAudBIkL3mjUxnpuggQR2XSexjr9enSrS8ljiR\\r\\n0OyzfFHAup1AeYEJGGG2zgqXFONQsbmSB4WavL2+Dl+lem6jDZaQCvP4Bsx2XtNANOInyuXU1356\\r\\nxh5syQuBcD80rWaF/mAlKaJAMcy815rvz1E2OPQQtLHysxpu3bHkp6ctP9k5thZKuabX7qNThoFo\\r\\nKs0gi6LmAwbrtPXG+PP0lh5mphL3QGx3V6lEuHykrmU2g3BVZQfReTAI7qXpkGCvQLGtFyovdTmb\\r\\nK0iFNhDsrW0KTXCeVWblZatMLJhhKBZMqgbowhdDwg9MtAYTvie/ZZ6t3iYgAaRv5K0VakgiOabA\\r\\nbeVieOdxuYiT1XZyhpkmd4sm16STe95SgwL5FgUjyQQeloUVUusbDKBME5IN0k2GmxKYjBjv4QI4\\r\\nt0iLXmUWPJJGIK6oxofaxN1xEAuIgqjJ8Qrelw5FpObr5r1w6sQLwvX+LvBa6CIA2XzbX6a3lSNZ\\r\\n4DSGce8GBJ3Xu0tQZIjqvA41pZUZWMaXWK9X4fX1NLJmBIW3Ho9d3qPIGwuvH4mkaoLRBnJXuVmh\\r\\nzXZtiFlp02l7joBA2XSOVfL/APTWU3RUJLp2Nkr+AEyH+xC9fjKDtbi0FpGAsbNTnQ5ltzhS8R0n\\r\\nVsJw3BkHWS0xhb6U0iMAgXU3VfSZDQpNqPcJMG6lkk8P1vaWtZLjLplSotNbjB0bcrO6oQCbjb3X\\r\\nqfCuEe8gxLnXK5V15j3fh9Lku0L1Wt5bmFPhOGDKYlaXaWbyf0Wa2XSALySgS2IRLgdyfCQsaYsu\\r\\ndalI8A9b91B1OcTIWsNjt7JXNJGFz65blQpSDcrQCCFlI0uV6ZtdXi/E6/2ocXCjUkYKvqPt4Qz4\\r\\nXRzeTXqcQXQ0EhTY2pqlwK9ksbOLJHNZ+6isdMEALS1IfmCdt0VQIiEAijIEIBGEUV6VbS2BoME3\\r\\ndgeykxoqMcGjkbLiZmTsqcW/W4uMwBAhswpcNxLfTe0xIHKAd12cmTWZIPlS9VwAdptKWrUcKsho\\r\\n7gpdcjm5fdRpYOtF9IxOyqHHRAIWUPIjJCtSJ3kIihk2Odk1xRMmYQnUCJuhUdoZqIgkQ5B89xhL\\r\\nzVbgklfP1uHqgy28L6DinN9QuF1KjS9RwELMrpjwfVNSi7h6kjds7FT4TjDQq6XAgt7r6Ov8JbVa\\r\\nTE/0Xi8Z8DqzLZnutSsXl6tLixVog7kbqLqjmE6AAfK8MfjOE5X0yR1F0zfiLsPeYPWxWp053h6b\\r\\nq4cD6tuyxvawmQ6exUDxmoQXAqXqy4kAuPZa/tmcHcdToOyXWBEAx0G6enw9Wq4Q0iV7Xw/4A+oQ\\r\\n5/KNy5YvTpOPrz+C4KpXqBzhfYdF9h8P4IUGNs0+6rwnA0aDQA0GOpiVsNVlOBACy2M9XNACRxBJ\\r\\nBwldWaXfKCgTTDp0iempYtakPIaLH2AR1HYBSB1dvCoGHclZ1TE2wfKXRbJT47+Si3EKYms7wBfS\\r\\nEGEqlUW3SMbeyzmVrfFmwd0HCLyu0zeSiQI3XVgmowl+YZhU0dMJHMg5UEnU4PVFuESyFwEYRTjC\\r\\n6FwyjJRA9kDKddCD0uKbU1Nvy9GmJCwa3U6NUEcziYMxK38U/W4U95sBk+F5tSkdbnF7tGS7uu1Y\\r\\njzjr1ESSEA5+oQABt1V65a4gtMB1+im1gBBJm0LFbkUa8Ttqm6syp1KyCC7/AHZMyo5pu5vRXUsb\\r\\ngQHQTkKPFkvp2OM+EzCXRa8KFdwMBwVSfryRS1mD4W3h6GkgdCq06I9QujJAC1ekDnKzI31SaQDP\\r\\nWyL6LXCwv0TNp52O4/qi0EyHCCN1phhrfD6VTlLRe6w1fgFN5PLHsvcd8sOEjZwXB9rEExgqK+fb\\r\\n/pqlqFz7QtdL/TnDtiWn3K9UVGnliD4TCq4iAW+6qRnofDKFBsBg8lam6GNiWAj+JJLnAhxB8QUP\\r\\nw1MwT6c9SMrNrX/RfXp3BqMHhSL6bpPqsI7tJVhRcByem0fwgI+jWBs5pnILYWLa1zjLpYb6yfAI\\r\\nV2MYGwGkhUbQcTdon+aU3pFu4CxZWtKGNiwjynYSBsUwuYmfZPp7BakZtTJJjlF1wBAuSOyoWtjP\\r\\n0QAvZVlB8m0lTFjZai2R27qRYJss2etQQSmudkGWNwnm1lqM0oXFoOQjlGJCsRFzUsKr4hSUUYRX\\r\\nAwgqOMyukowj5CD1ajNT6dRsS0kEn9V53Himym2ixxgSY3kr0/RD61RgH7PTJncrz/iTmsqva2JO\\r\\nIC7Vzn68mtDA0dMlcxsCSb79ktYy256TKzmo68EWi5XK3HaTWguABJOSnYwFowI6rK1xfUBOFsoV\\r\\nNZi1rgLPPWnU8amNsP3Y3Wd1Fvqzvla2AEBK+nEOGN11c0dGkUxGZlVLLWwlvk4CZpgQTcASiOFg\\r\\nSTjdMcg7xeFxAsg3lJaWqARvjvsgaQmZ+i0NZa0X2K4UYu1uk9sIrNpMXGoTkIi9mxHRaNBDrggj\\r\\nomFMFoMQOtkNQgiA6m0+yJbA5QJnEqnp0xeXH+QotazTdxP8whZxdICw2cyD1E/0RAlnKRI6KktN\\r\\ng4eEJMxpIA6qYakRUF5/si0GZJv2Co0SSNJjuVz2Fo5dIPQpmro7d0SYgRzeEeUibWXSmGlOOiDQ\\r\\nCqWPZDSDeVcTUyBEgypxdWLIwVMg6lmxZSzC4FOWiENACmL4ACfaV0AZS3WoynUNrKYMqjykCimX\\r\\nR0XBMFcQoMZQ1JyJSFl0NetRrMBu50XmRkrx+Nrft3PcbmyfjOIP4UU2vMTpJXj1HlxLnOcTkX6L\\r\\np10c8me5xPcKOonIxnuukwJNnBCLafuuPVduYZrnG4sI6QVei64vHQBZ5IF5Pda+EAc7raVibrXU\\r\\n8egZbRLh0tO5VKZJpxFwupsboAzCqxoYdMr0x5azBouLi6UQdWSQYM7haHNk3SenJPdArTBG9lUR\\r\\nYW90DTOLyE9MDceCgppsOW3ZECIuR5TUzodBFjsVYNn5SI6EJhpGwRBddcKbQMCPCfQBAgA9F2m+\\r\\nGohPTBjTkdkjqM2LSO4VTB2I8FDSSLPI8hRdR9OLBzj3lDQ5p+Y+wVC1xOxXDVHyqKUO2kn2XEAl\\r\\nNafkg9kZGne3VBIWsfaU2ojYFB8nBhRJcNys2rJqpeN0Q9vhQ1E2JlEAhJTFnXwQVMDqi0oiCU+g\\r\\naV0QiWkXC4LTJYugSITFyU6VFRc4JIVHhIo0NtkZM9kEA7ZVFIQkBLq7roU0xmrNqVWOgYcTIWB/\\r\\nyua8WafqtjtQEAkeFnfSDnEnrspa78xnDg8CMAXXBhvGI3Vm0m7CCnFMrndb8SpCMmVo4cQ47X2Q\\r\\nFONlRrJqMiyvM9Z7vj0qLNLicTC0NAJkBTpU4E3v3V23theh5ag5p1lDRzY+i0PZJ87pSwmJP2RE\\r\\nyJMTfdEAA3+qsGT80Jgz8pxsgQCOhHRO0uaLCfKIpxg23CZpGQQQgYPkXkfcIxIkAFAATIsU9xcB\\r\\nVCSNwfomkEJ9Q3ELiOiCWm8mUrmxeVQjsgRKmKgXDAH1CUunICtA6JCwHZZsqokzgBIQ6ZCsaZSQ\\r\\neqxY1KiQQbtXTG6rpIyhpF7KSLqckJ2weyEQi0LUSm2QIELsITK0yVwSKhSOFkWEJSxOESUpzZZU\\r\\nYQLQmsRBSkHZUCEJ7pkCL4UE3U1E0rr0HMUdAmEx2lZ20lQUey0sYFj4v4vwfBv9Nzi6p+6wSVZE\\r\\nvSvowEAxtI6n4C7hviHD8RT1hxaf3XCCo1XO4mqAyRTB+qYztepTqio0Q7lVGG+b91GjTik0CSBh\\r\\nXa2BcBVz8Wbc3wiG3iJCQe8jZMXaQIJW2RjTaCQkJBFjHZcKs2PsiIkn9URw1DeU4EiyDWjVI+ya\\r\\nJ3IKDgHA9lVhBCUSgbIHISlDUVxQcUqZAt3CBTICUnsnygQoFkQpuAOypGZQ0gqKkuiU+mChpAUx\\r\\nZUiDPVMBZPA2QISQ1M2KUqhCQtlAsghKUdMIOwgmRISwn3QUUIXCyNkENGAQhpRhdKYa2V6XpyFi\\r\\nB5j5Vq/FCqJlZab5kqu8nhPiFV7OEcKR0uNpXi0OCAIJEk3Mr2eIaa0NT8LwcmSFcYviHD8I2LAB\\r\\nejw/DFrRZaafCtaBZaW0yAOiuOd6R9IgQ037oHULOELQW7oETsjOsNRxaAW9bEbdipsrFxm8bhbn\\r\\n0ZwBBU2cKAVPqslcVCNVMym4eq93zSCtvoSOqT0Q10xCsRNtYtfBESqmobcwTekCLgLhSjFx3VQz\\r\\nSeoRMpdMWhcJn5SEDBMLJQjPVAbFcJXQhCAHwjK6Oi66gUmEoxKYoERhB1kFy5FIRCUhM4pNSgBl\\r\\nLO6Y3ukOUHG91Mp7pHBRSlKSjH0XaQgWbruiMAJZQHVKMpZuhKKg5xAIOQpcNVBbCvxTQ2mSLGFm\\r\\n4FjnsBOMgrWO06/xejQp+pBhelSow0foslEhnjK20qgc2Qq49XVgIwbphflwkyEwkWhVgpkbGFJ7\\r\\n3NuAtAvvCDmagoMz6r4nSCMqRrm8alrbSBEKbqEOJCCHrukFoB7gwmFckSWwmdQn8s90zaNoNwgR\\r\\ntY3lhBVG1JwEzaUBEshAhJNoXAGUZGEwg/4QLeEUYRQL7IfZMhCAakuqTayaALruXICg6ZzdCy5A\\r\\nwgDiAplyYlJEoON90kT3TEFCNwooRC4rpKGpApskPhO4wpnMooSguRUUhalLVWEh8KISLroCeJKW\\r\\nExWf4hVZToOBN4hDgHNNBuk4sVN9L1Te47p6dH0vlELo38x6dL6qjBHymFkpVTPNstIf8pBVc60t\\r\\nc4stlUZUqRcCFFhOm30VWvBtv3RlTUci/ZEPJxM9OqWAQOuxTDYEIibqk3H/AAmL3NHUdUXUxK4U\\r\\n4mMdEC+rGQfIXepJsLI+nBXemBgortZmUpqOlNjAQDZUHQD2XRHhENhGIQC4wuDuohGy77oO8FA9\\r\\n0J6Lg7qg4ibJcBNyneEC0xcSgVAowgQoEIQAhPBQjoilR7hcbJZQcRIU3BUJ+iR18KCRFkvlUIlI\\r\\nRe6ihC4iFyPlAPKBamhAgoEhD2TEJLhAjKZPzCCqOpyFQMiLp9HVdF1m0kTZGm86rjBV2sIOETTE\\r\\nzF8qFUp1RvaVbWCAdlkLIxMrmapgqst7XiITh1lkpF0wVpYeqIrqsNwUC4jwuwuJlECS0A5C67sf\\r\\nRcEbC4RSgGUQiSD5QBUBk+VwvjPQoAyYP1RibGx6oBulMhOZAg3SmQOoQAd0CJwmADhbKUyCoAVw\\r\\ncjM5Ske6Bsi6Ug7XXArvsUAXIyJuEDhACFN26fVspneFFLMISuKTSgJMpDjKaLIQopJMIhyJCCAy\\r\\nuQKWCgeyUt7hAGEdYQatHYLtGpv3Vi3dFjL4W01MNGyAZO3hXDQLAJg1UQ9Kcrm0gHYWnQuDLyiJ\\r\\nBkGU4bumwuQA2XeEcoQoOQEwjuuQd3C7I7rpXYQBMMQhm+65AcZuELtMtXTBRN7tQCA7GeiHYroH\\r\\ngrg4Os7PVApAOEtwU5bCBAKgGcJSEYiy6ev1RSzK6SCiRCWUHFoNxnopEQeioUsg2P1QIUPKeI8J\\r\\nY2UCwDul0p9MXCElRSkWuliydLCBVyMRlC4QCF2kdJRBhdI7Kj03M2KIG4Vy0G6SBC2zpAJTwAus\\r\\nEJQEELgUmCigMzlKjKCgGEUEYUA3XZRQhAUEcoKg47FHaQguBgqALgYRI+hSoGcARISyCL5XTBRI\\r\\nDhI+iDgSLG4QI3CAPXCMkGyKWYQI6JiA4WseingygabJCJEom+EupAMIEdE5E4SqBQYx9F0DIXFq\\r\\nDZbdByBsUxvcfRD2QISlmFQhKQCgUkIEiLolqRFA5QRMHCGkqD2y7lMYwl1SgL0wlW2TTKAMIBFB\\r\\n09UUuyIQcuXBcg5FAIqBSiuylm6BlxXLkHSuAlBUphUM1komkr02hUc0RhVHnuYUlwVse0KDgLqK\\r\\niTuPdDVsVzhBsk3UU+6JAdnP6qYJsEwQKRB6JSNwqn5fCmcqACUTfyuXBAh6bIFOUpHKgUlcXT5Q\\r\\nIQ3QLJQMp4BgoIpZlDZNAK4BAmldCeEYCD//2Q==\\r\\n\\r\\n--===============2687194333662163035==--\\r\\n.\\r\\n'\n"
     ]
    },
    {
     "name": "stdout",
     "output_type": "stream",
     "text": [
      "Finalizando conexão...\n",
      "Fim.\n"
     ]
    },
    {
     "name": "stderr",
     "output_type": "stream",
     "text": [
      "reply: b'250 2.0.0 OK  1593970597 m20sm15305227qkk.104 - gsmtp\\r\\n'\n",
      "reply: retcode (250); Msg: b'2.0.0 OK  1593970597 m20sm15305227qkk.104 - gsmtp'\n",
      "data: (250, b'2.0.0 OK  1593970597 m20sm15305227qkk.104 - gsmtp')\n",
      "send: 'quit\\r\\n'\n",
      "reply: b'221 2.0.0 closing connection m20sm15305227qkk.104 - gsmtp\\r\\n'\n",
      "reply: retcode (221); Msg: b'2.0.0 closing connection m20sm15305227qkk.104 - gsmtp'\n"
     ]
    }
   ],
   "source": [
    "try:\n",
    "    #Conecta ao servidor\n",
    "    conn = SMTP(SMTPServer)\n",
    " \n",
    "    #Ativa o debug, para mostrar mensagens\n",
    "    conn.set_debuglevel(True)\n",
    " \n",
    "    #Conecta ao servidor smtp, passando login e senha\n",
    "    conn.login(usuario,senha)\n",
    " \n",
    "    try:\n",
    "        print('Enviando e-mail...')\n",
    "        conn.sendmail(remetente, destinatarios, msg.as_string())\n",
    " \n",
    "    finally:\n",
    "        print('Finalizando conexão...')\n",
    "        conn.quit()\n",
    "except:\n",
    "    print('Erro ao enviar e-mail')\n",
    " \n",
    "print('Fim.')"
   ]
  },
  {
   "cell_type": "code",
   "execution_count": null,
   "metadata": {},
   "outputs": [],
   "source": []
  },
  {
   "cell_type": "code",
   "execution_count": null,
   "metadata": {},
   "outputs": [],
   "source": []
  }
 ],
 "metadata": {
  "colab": {
   "collapsed_sections": [],
   "name": "Fabricio De Medeira Fernandes - Email_exercicio.ipynb",
   "provenance": []
  },
  "kernelspec": {
   "display_name": "Python 3",
   "language": "python",
   "name": "python3"
  },
  "language_info": {
   "codemirror_mode": {
    "name": "ipython",
    "version": 3
   },
   "file_extension": ".py",
   "mimetype": "text/x-python",
   "name": "python",
   "nbconvert_exporter": "python",
   "pygments_lexer": "ipython3",
   "version": "3.7.7"
  }
 },
 "nbformat": 4,
 "nbformat_minor": 1
}
